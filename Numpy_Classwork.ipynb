{
  "nbformat": 4,
  "nbformat_minor": 0,
  "metadata": {
    "colab": {
      "provenance": [],
      "authorship_tag": "ABX9TyMONc4TrUQadSgty2rq4Fgw",
      "include_colab_link": true
    },
    "kernelspec": {
      "name": "python3",
      "display_name": "Python 3"
    },
    "language_info": {
      "name": "python"
    }
  },
  "cells": [
    {
      "cell_type": "markdown",
      "metadata": {
        "id": "view-in-github",
        "colab_type": "text"
      },
      "source": [
        "<a href=\"https://colab.research.google.com/github/ShaileshKrCh/Machine_Learning/blob/main/Numpy_Classwork.ipynb\" target=\"_parent\"><img src=\"https://colab.research.google.com/assets/colab-badge.svg\" alt=\"Open In Colab\"/></a>"
      ]
    },
    {
      "cell_type": "markdown",
      "source": [
        "# **Numpy:Numeric Python**\n",
        "**Numpy** is an extennsion to the Python programming language, adding support for large, multi-dimensional (numerical) arrays and matrics, along with a large library of high-level mathematical functions to operate on those arrays. The full form of NumPy is Numeric Python."
      ],
      "metadata": {
        "id": "z7m2NlKfxUEQ"
      }
    },
    {
      "cell_type": "code",
      "execution_count": 2,
      "metadata": {
        "id": "vJ3a45_0ZXEX"
      },
      "outputs": [],
      "source": [
        "#importing required modules\n",
        "import numpy as np"
      ]
    },
    {
      "cell_type": "code",
      "source": [
        "print(np.__version__)"
      ],
      "metadata": {
        "colab": {
          "base_uri": "https://localhost:8080/"
        },
        "id": "Jtdp4F-LgryP",
        "outputId": "e838b9e8-36ad-4d75-ebe9-a2adaab7ef8c"
      },
      "execution_count": null,
      "outputs": [
        {
          "output_type": "stream",
          "name": "stdout",
          "text": [
            "2.0.2\n"
          ]
        }
      ]
    },
    {
      "cell_type": "code",
      "source": [
        "#creating ndarray from lists\n",
        "#note:array elements must be of the same data type\n",
        "data1 =[11,22,3,3,44,444,555,5556]  ## homogeneous datatype for list elements\n",
        "print(data1,len(data1),type(data1))\n",
        "arr1=np.array(data1)\n",
        "print(arr1,len(arr1),type(arr1),arr1.dtype)  # len gives the first dimension\n"
      ],
      "metadata": {
        "colab": {
          "base_uri": "https://localhost:8080/"
        },
        "id": "zFuE01Gtgs6P",
        "outputId": "f1d588db-7eeb-45a3-c408-ead1ce47df6d"
      },
      "execution_count": null,
      "outputs": [
        {
          "output_type": "stream",
          "name": "stdout",
          "text": [
            "[11, 22, 3, 3, 44, 444, 555, 5556] 8 <class 'list'>\n",
            "[  11   22    3    3   44  444  555 5556] 8 <class 'numpy.ndarray'> int64\n"
          ]
        }
      ]
    },
    {
      "cell_type": "code",
      "source": [
        "data1 = (11, 22, \"AEC\", 33.5, 44, 55, 66, True, False)  # heterogeneous datatype for list elements\n",
        "print(data1, len(data1), type(data1))\n",
        "arr1 = np.array(data1)\n",
        "print(arr1, len(arr1), type(arr1), arr1.dtype)  # len gives the first dimension"
      ],
      "metadata": {
        "colab": {
          "base_uri": "https://localhost:8080/"
        },
        "id": "2GO1aqBEgtiX",
        "outputId": "8bdceef7-1d51-4475-a46a-3e4c1bf396c6"
      },
      "execution_count": 3,
      "outputs": [
        {
          "output_type": "stream",
          "name": "stdout",
          "text": [
            "(11, 22, 'AEC', 33.5, 44, 55, 66, True, False) 9 <class 'tuple'>\n",
            "['11' '22' 'AEC' '33.5' '44' '55' '66' 'True' 'False'] 9 <class 'numpy.ndarray'> <U32\n"
          ]
        }
      ]
    },
    {
      "cell_type": "code",
      "source": [
        "data1 ={11,22,\"AEC\",3,44,444,555,5556,True,False}\n",
        "print(data1,len(data1),type(data1))\n",
        "arr1=np.array(data1)\n",
        "print(arr1,type(arr1),arr1.dtype)"
      ],
      "metadata": {
        "colab": {
          "base_uri": "https://localhost:8080/"
        },
        "id": "Fq2q61-fgte-",
        "outputId": "9c36f26e-7a9e-4a9b-90f2-193288342b69"
      },
      "execution_count": 5,
      "outputs": [
        {
          "output_type": "stream",
          "name": "stdout",
          "text": [
            "{False, True, 3, 11, 44, 555, 'AEC', 5556, 22, 444} 10 <class 'set'>\n",
            "{False, True, 3, 11, 44, 555, 'AEC', 5556, 22, 444} <class 'numpy.ndarray'> object\n"
          ]
        }
      ]
    },
    {
      "cell_type": "code",
      "source": [
        "data1 =[11,22,\"AEC\",3,44,444,555,5556,True,False]\n",
        "print(data1,len(data1),type(data1))\n",
        "arr1=np.array(data1)\n",
        "print(arr1,len(arr1),type(arr1),arr1.dtype)"
      ],
      "metadata": {
        "colab": {
          "base_uri": "https://localhost:8080/"
        },
        "id": "KbaT9S79AP6b",
        "outputId": "687085e7-9381-4bad-d5c1-390b3d965eef"
      },
      "execution_count": 8,
      "outputs": [
        {
          "output_type": "stream",
          "name": "stdout",
          "text": [
            "[11, 22, 'AEC', 3, 44, 444, 555, 5556, True, False] 10 <class 'list'>\n",
            "['11' '22' 'AEC' '3' '44' '444' '555' '5556' 'True' 'False'] 10 <class 'numpy.ndarray'> <U21\n"
          ]
        }
      ]
    },
    {
      "cell_type": "code",
      "source": [
        "print(range(1, 10), list(range(1, 10)))\n",
        "list1 = [range(1, 5), range(6, 10)]  # list of lists\n",
        "print(list1)\n",
        "arr2 = np.array(list1)\n",
        "print(arr2, len(arr2), type(arr2), arr2.dtype)  # 2-dimensional array\n",
        "for item in np.nditer(arr2):  # displaying the content of the ndarray\n",
        "    print(item, end = \", \")"
      ],
      "metadata": {
        "colab": {
          "base_uri": "https://localhost:8080/"
        },
        "id": "nV7xHDEQgtZ-",
        "outputId": "6fdcfcdb-7a4f-4e3f-9033-e618009dc687"
      },
      "execution_count": 9,
      "outputs": [
        {
          "output_type": "stream",
          "name": "stdout",
          "text": [
            "range(1, 10) [1, 2, 3, 4, 5, 6, 7, 8, 9]\n",
            "[range(1, 5), range(6, 10)]\n",
            "[[1 2 3 4]\n",
            " [6 7 8 9]] 2 <class 'numpy.ndarray'> int64\n",
            "1, 2, 3, 4, 6, 7, 8, 9, "
          ]
        }
      ]
    },
    {
      "cell_type": "code",
      "source": [
        "print(arr1)\n",
        "print(arr2)\n",
        "print(arr1.tolist())\n",
        "print(list(arr1))\n",
        "print(arr2.tolist())\n",
        "print(list(arr2))"
      ],
      "metadata": {
        "colab": {
          "base_uri": "https://localhost:8080/"
        },
        "id": "N9KKZuIkgtXK",
        "outputId": "3b7237fa-addf-4d66-a8b0-56d090c34495"
      },
      "execution_count": 10,
      "outputs": [
        {
          "output_type": "stream",
          "name": "stdout",
          "text": [
            "['11' '22' 'AEC' '3' '44' '444' '555' '5556' 'True' 'False']\n",
            "[[1 2 3 4]\n",
            " [6 7 8 9]]\n",
            "['11', '22', 'AEC', '3', '44', '444', '555', '5556', 'True', 'False']\n",
            "[np.str_('11'), np.str_('22'), np.str_('AEC'), np.str_('3'), np.str_('44'), np.str_('444'), np.str_('555'), np.str_('5556'), np.str_('True'), np.str_('False')]\n",
            "[[1, 2, 3, 4], [6, 7, 8, 9]]\n",
            "[array([1, 2, 3, 4]), array([6, 7, 8, 9])]\n"
          ]
        }
      ]
    },
    {
      "cell_type": "markdown",
      "source": [
        "# **Examining Arrays**"
      ],
      "metadata": {
        "id": "GcPQWle2mZi1"
      }
    },
    {
      "cell_type": "code",
      "source": [
        "arr1=np.array([11,22,33,44,55,66,77,88])\n",
        "print(arr1,type(arr1),len(arr1),id(arr1))\n",
        "print(arr1.ndim,arr1.shape,arr1.size,arr1.dtype,arr1.itemsize,arr1.nbytes)"
      ],
      "metadata": {
        "colab": {
          "base_uri": "https://localhost:8080/"
        },
        "id": "NoJgSu4WgtUQ",
        "outputId": "fc93133e-5728-40da-a242-c8229633ac85"
      },
      "execution_count": null,
      "outputs": [
        {
          "output_type": "stream",
          "name": "stdout",
          "text": [
            "[11 22 33 44 55 66 77 88] <class 'numpy.ndarray'> 8 132391544879888\n",
            "1 (8,) 8 int64 8 64\n"
          ]
        }
      ]
    },
    {
      "cell_type": "code",
      "source": [
        "arr2=np.array([[11,22,33,44,55,66,77,88],[11,22,33,44,55,66,77,88]])\n",
        "print(arr2,type(arr2),len(arr2),id(arr2))\n",
        "print(arr2.ndim, arr2.shape, arr2.size, arr2.dtype,arr2.itemsize, arr2.nbytes)"
      ],
      "metadata": {
        "colab": {
          "base_uri": "https://localhost:8080/"
        },
        "id": "mTzgG6NEnU_D",
        "outputId": "5bf4014a-08ea-43b8-b290-0fb26c38cfb8"
      },
      "execution_count": null,
      "outputs": [
        {
          "output_type": "stream",
          "name": "stdout",
          "text": [
            "[[11 22 33 44 55 66 77 88]\n",
            " [11 22 33 44 55 66 77 88]] <class 'numpy.ndarray'> 2 132391545282000\n",
            "2 (2, 8) 16 int64 8 128\n"
          ]
        }
      ]
    },
    {
      "cell_type": "code",
      "source": [
        "var=(8)\n",
        "print(var,type(var))\n",
        "var=(8,) # singleton representation of a tuple\n",
        "print(var,type(var))"
      ],
      "metadata": {
        "colab": {
          "base_uri": "https://localhost:8080/"
        },
        "id": "zek63yiCgtRV",
        "outputId": "95b281a9-baee-4757-ac1d-655910ee080c"
      },
      "execution_count": 14,
      "outputs": [
        {
          "output_type": "stream",
          "name": "stdout",
          "text": [
            "8 <class 'int'>\n",
            "(8,) <class 'tuple'>\n"
          ]
        }
      ]
    },
    {
      "cell_type": "markdown",
      "source": [
        "# **Creating special Array**"
      ],
      "metadata": {
        "id": "9wMZ74YQoDMo"
      }
    },
    {
      "cell_type": "code",
      "source": [
        "print(np.zeros(10),np.zeros(10).dtype)\n",
        "print(np.zeros(10,dtype=np.int8),np.zeros(10,dtype=np.int8).dtype)\n",
        "print(np.zeros(10).astype(int),np.zeros(10).astype(np.int8),np.zeros(10).astype(np.int8).dtype)\n",
        "print(\"\\n\")\n",
        "print(np.zeros((2,5)))\n",
        "print(\"\\n\")\n",
        "print(np.zeros((2,5),dtype=np.int16))\n",
        "print(\"\\n\")\n",
        "print(np.zeros(10,dtype=np.int16).reshape(2,5))\n",
        "print(\"\\n\")\n",
        "print(np.zeros(10,dtype=np.int16).reshape(1,10))\n"
      ],
      "metadata": {
        "colab": {
          "base_uri": "https://localhost:8080/"
        },
        "id": "Pg9WykzGoCQq",
        "outputId": "bd7d130b-3308-4885-8763-0b5ac8c671a0"
      },
      "execution_count": 19,
      "outputs": [
        {
          "output_type": "stream",
          "name": "stdout",
          "text": [
            "[0. 0. 0. 0. 0. 0. 0. 0. 0. 0.] float64\n",
            "[0 0 0 0 0 0 0 0 0 0] int8\n",
            "[0 0 0 0 0 0 0 0 0 0] [0 0 0 0 0 0 0 0 0 0] int8\n",
            "\n",
            "\n",
            "[[0. 0. 0. 0. 0.]\n",
            " [0. 0. 0. 0. 0.]]\n",
            "\n",
            "\n",
            "[[0 0 0 0 0]\n",
            " [0 0 0 0 0]]\n",
            "\n",
            "\n",
            "[[0 0 0 0 0]\n",
            " [0 0 0 0 0]]\n",
            "\n",
            "\n",
            "[[0 0 0 0 0 0 0 0 0 0]]\n"
          ]
        }
      ]
    },
    {
      "cell_type": "code",
      "source": [
        "print(np.ones(10),np.zeros(10).dtype)\n",
        "print(np.ones(10,dtype=np.int8),np.zeros(10,dtype=np.int8).dtype)\n",
        "print(np.ones(10).astype(int),np.zeros(10).astype(np.int8),np.zeros(10).astype(np.int8).dtype)\n",
        "print(np.ones((2,5)))\n",
        "print(np.ones((2,5),dtype=np.int16))\n",
        "print(np.ones(10,dtype=np.int16).reshape(2,5))\n",
        "print(np.ones(10,dtype=np.int16).reshape(1,10))"
      ],
      "metadata": {
        "colab": {
          "base_uri": "https://localhost:8080/"
        },
        "id": "BWGaZQrIsC8p",
        "outputId": "be9c7640-809e-4122-c4d4-ccf84ac10e74"
      },
      "execution_count": null,
      "outputs": [
        {
          "output_type": "stream",
          "name": "stdout",
          "text": [
            "[1. 1. 1. 1. 1. 1. 1. 1. 1. 1.] float64\n",
            "[1 1 1 1 1 1 1 1 1 1] int8\n",
            "[1 1 1 1 1 1 1 1 1 1] [0 0 0 0 0 0 0 0 0 0] int8\n",
            "[[1. 1. 1. 1. 1.]\n",
            " [1. 1. 1. 1. 1.]]\n",
            "[[1 1 1 1 1]\n",
            " [1 1 1 1 1]]\n",
            "[[1 1 1 1 1]\n",
            " [1 1 1 1 1]]\n",
            "[[1 1 1 1 1 1 1 1 1 1]]\n"
          ]
        }
      ]
    },
    {
      "cell_type": "code",
      "source": [
        "print(np.zeros(10) + 6)\n",
        "print(np.ones(10) + 6)\n",
        "print(np.ones(10) * 6)\n"
      ],
      "metadata": {
        "colab": {
          "base_uri": "https://localhost:8080/"
        },
        "id": "P7aNnTA-sCqU",
        "outputId": "9525679d-39b4-4467-e6df-40a283b5f259"
      },
      "execution_count": null,
      "outputs": [
        {
          "output_type": "stream",
          "name": "stdout",
          "text": [
            "[6. 6. 6. 6. 6. 6. 6. 6. 6. 6.]\n",
            "[7. 7. 7. 7. 7. 7. 7. 7. 7. 7.]\n",
            "[6. 6. 6. 6. 6. 6. 6. 6. 6. 6.]\n"
          ]
        }
      ]
    },
    {
      "cell_type": "code",
      "source": [
        "print(np.linspace(0,1,5)) #(range 0 to 1 in 5 equal parts)\n",
        "print(np.linspace(1,10,19))"
      ],
      "metadata": {
        "colab": {
          "base_uri": "https://localhost:8080/"
        },
        "id": "GivXrA3tsB-t",
        "outputId": "ac2c22af-1dcc-462c-c229-f13f72e6fcbe"
      },
      "execution_count": 20,
      "outputs": [
        {
          "output_type": "stream",
          "name": "stdout",
          "text": [
            "[0.   0.25 0.5  0.75 1.  ]\n",
            "[ 1.   1.5  2.   2.5  3.   3.5  4.   4.5  5.   5.5  6.   6.5  7.   7.5\n",
            "  8.   8.5  9.   9.5 10. ]\n"
          ]
        }
      ]
    },
    {
      "cell_type": "code",
      "source": [
        "print(np.logspace(0,3,4)) # by default base 10 range 0 to 10 power 3\n",
        "print(np.logspace(0,3,4,base=3))\n",
        "print(np.logspace(0,3,4,base=10))\n",
        "print(np.logspace(0,10))"
      ],
      "metadata": {
        "colab": {
          "base_uri": "https://localhost:8080/"
        },
        "id": "R5TTL3Kjtv78",
        "outputId": "9131f1b4-11d0-457a-bc99-bbc8a83eef25"
      },
      "execution_count": 25,
      "outputs": [
        {
          "output_type": "stream",
          "name": "stdout",
          "text": [
            "[   1.   10.  100. 1000.]\n",
            "[ 1.  3.  9. 27.]\n",
            "[   1.   10.  100. 1000.]\n",
            "[1.00000000e+00 1.59985872e+00 2.55954792e+00 4.09491506e+00\n",
            " 6.55128557e+00 1.04811313e+01 1.67683294e+01 2.68269580e+01\n",
            " 4.29193426e+01 6.86648845e+01 1.09854114e+02 1.75751062e+02\n",
            " 2.81176870e+02 4.49843267e+02 7.19685673e+02 1.15139540e+03\n",
            " 1.84206997e+03 2.94705170e+03 4.71486636e+03 7.54312006e+03\n",
            " 1.20679264e+04 1.93069773e+04 3.08884360e+04 4.94171336e+04\n",
            " 7.90604321e+04 1.26485522e+05 2.02358965e+05 3.23745754e+05\n",
            " 5.17947468e+05 8.28642773e+05 1.32571137e+06 2.12095089e+06\n",
            " 3.39322177e+06 5.42867544e+06 8.68511374e+06 1.38949549e+07\n",
            " 2.22299648e+07 3.55648031e+07 5.68986603e+07 9.10298178e+07\n",
            " 1.45634848e+08 2.32995181e+08 3.72759372e+08 5.96362332e+08\n",
            " 9.54095476e+08 1.52641797e+09 2.44205309e+09 3.90693994e+09\n",
            " 6.25055193e+09 1.00000000e+10]\n"
          ]
        }
      ]
    },
    {
      "cell_type": "code",
      "source": [
        "help(np.logspace)"
      ],
      "metadata": {
        "colab": {
          "base_uri": "https://localhost:8080/"
        },
        "id": "9AzUE0s8uX8W",
        "outputId": "44bb1383-8bf8-42e5-d99d-e86dc192df67",
        "collapsed": true
      },
      "execution_count": null,
      "outputs": [
        {
          "output_type": "stream",
          "name": "stdout",
          "text": [
            "Help on _ArrayFunctionDispatcher in module numpy:\n",
            "\n",
            "logspace(start, stop, num=50, endpoint=True, base=10.0, dtype=None, axis=0)\n",
            "    Return numbers spaced evenly on a log scale.\n",
            "\n",
            "    In linear space, the sequence starts at ``base ** start``\n",
            "    (`base` to the power of `start`) and ends with ``base ** stop``\n",
            "    (see `endpoint` below).\n",
            "\n",
            "    .. versionchanged:: 1.16.0\n",
            "        Non-scalar `start` and `stop` are now supported.\n",
            "\n",
            "    .. versionchanged:: 1.25.0\n",
            "        Non-scalar 'base` is now supported\n",
            "\n",
            "    Parameters\n",
            "    ----------\n",
            "    start : array_like\n",
            "        ``base ** start`` is the starting value of the sequence.\n",
            "    stop : array_like\n",
            "        ``base ** stop`` is the final value of the sequence, unless `endpoint`\n",
            "        is False.  In that case, ``num + 1`` values are spaced over the\n",
            "        interval in log-space, of which all but the last (a sequence of\n",
            "        length `num`) are returned.\n",
            "    num : integer, optional\n",
            "        Number of samples to generate.  Default is 50.\n",
            "    endpoint : boolean, optional\n",
            "        If true, `stop` is the last sample. Otherwise, it is not included.\n",
            "        Default is True.\n",
            "    base : array_like, optional\n",
            "        The base of the log space. The step size between the elements in\n",
            "        ``ln(samples) / ln(base)`` (or ``log_base(samples)``) is uniform.\n",
            "        Default is 10.0.\n",
            "    dtype : dtype\n",
            "        The type of the output array.  If `dtype` is not given, the data type\n",
            "        is inferred from `start` and `stop`. The inferred type will never be\n",
            "        an integer; `float` is chosen even if the arguments would produce an\n",
            "        array of integers.\n",
            "    axis : int, optional\n",
            "        The axis in the result to store the samples.  Relevant only if start,\n",
            "        stop, or base are array-like.  By default (0), the samples will be\n",
            "        along a new axis inserted at the beginning. Use -1 to get an axis at\n",
            "        the end.\n",
            "\n",
            "        .. versionadded:: 1.16.0\n",
            "\n",
            "\n",
            "    Returns\n",
            "    -------\n",
            "    samples : ndarray\n",
            "        `num` samples, equally spaced on a log scale.\n",
            "\n",
            "    See Also\n",
            "    --------\n",
            "    arange : Similar to linspace, with the step size specified instead of the\n",
            "             number of samples. Note that, when used with a float endpoint, the\n",
            "             endpoint may or may not be included.\n",
            "    linspace : Similar to logspace, but with the samples uniformly distributed\n",
            "               in linear space, instead of log space.\n",
            "    geomspace : Similar to logspace, but with endpoints specified directly.\n",
            "    :ref:`how-to-partition`\n",
            "\n",
            "    Notes\n",
            "    -----\n",
            "    If base is a scalar, logspace is equivalent to the code\n",
            "\n",
            "    >>> y = np.linspace(start, stop, num=num, endpoint=endpoint)\n",
            "    ... # doctest: +SKIP\n",
            "    >>> power(base, y).astype(dtype)\n",
            "    ... # doctest: +SKIP\n",
            "\n",
            "    Examples\n",
            "    --------\n",
            "    >>> np.logspace(2.0, 3.0, num=4)\n",
            "    array([ 100.        ,  215.443469  ,  464.15888336, 1000.        ])\n",
            "    >>> np.logspace(2.0, 3.0, num=4, endpoint=False)\n",
            "    array([100.        ,  177.827941  ,  316.22776602,  562.34132519])\n",
            "    >>> np.logspace(2.0, 3.0, num=4, base=2.0)\n",
            "    array([4.        ,  5.0396842 ,  6.34960421,  8.        ])\n",
            "    >>> np.logspace(2.0, 3.0, num=4, base=[2.0, 3.0], axis=-1)\n",
            "    array([[ 4.        ,  5.0396842 ,  6.34960421,  8.        ],\n",
            "           [ 9.        , 12.98024613, 18.72075441, 27.        ]])\n",
            "\n",
            "    Graphical illustration:\n",
            "\n",
            "    >>> import matplotlib.pyplot as plt\n",
            "    >>> N = 10\n",
            "    >>> x1 = np.logspace(0.1, 1, N, endpoint=True)\n",
            "    >>> x2 = np.logspace(0.1, 1, N, endpoint=False)\n",
            "    >>> y = np.zeros(N)\n",
            "    >>> plt.plot(x1, y, 'o')\n",
            "    [<matplotlib.lines.Line2D object at 0x...>]\n",
            "    >>> plt.plot(x2, y + 0.5, 'o')\n",
            "    [<matplotlib.lines.Line2D object at 0x...>]\n",
            "    >>> plt.ylim([-0.5, 1])\n",
            "    (-0.5, 1)\n",
            "    >>> plt.show()\n",
            "\n"
          ]
        }
      ]
    },
    {
      "cell_type": "code",
      "source": [
        "print(np.arange(10), type(np.arange(10)))\n",
        "print(np.arange(1, 10, 2), type(np.arange(10)))\n",
        "print(np.arange(-10, 10), type(np.arange(10)))\n",
        "print(np.arange(0, 50).reshape(5, 10))"
      ],
      "metadata": {
        "colab": {
          "base_uri": "https://localhost:8080/"
        },
        "id": "V22nc4WJuX1s",
        "outputId": "8e036e32-c064-4fc6-c849-4ac184a75341"
      },
      "execution_count": null,
      "outputs": [
        {
          "output_type": "stream",
          "name": "stdout",
          "text": [
            "[0 1 2 3 4 5 6 7 8 9] <class 'numpy.ndarray'>\n",
            "[1 3 5 7 9] <class 'numpy.ndarray'>\n",
            "[-10  -9  -8  -7  -6  -5  -4  -3  -2  -1   0   1   2   3   4   5   6   7\n",
            "   8   9] <class 'numpy.ndarray'>\n",
            "[[ 0  1  2  3  4  5  6  7  8  9]\n",
            " [10 11 12 13 14 15 16 17 18 19]\n",
            " [20 21 22 23 24 25 26 27 28 29]\n",
            " [30 31 32 33 34 35 36 37 38 39]\n",
            " [40 41 42 43 44 45 46 47 48 49]]\n"
          ]
        }
      ]
    },
    {
      "cell_type": "markdown",
      "source": [
        "#**Reshape**"
      ],
      "metadata": {
        "id": "0dI0P73k12K1"
      }
    },
    {
      "cell_type": "code",
      "source": [
        "arr1 =np.arange(1,21)\n",
        "print(arr1,arr1.shape)\n",
        "print(arr1.reshape(4,5).astype(np.float16))\n",
        "print(arr1.astype(np.float16).reshape(4,5))\n",
        "print(arr1.astype(np.float16).reshape(4,-1))\n",
        "print(arr1.astype(np.float16).reshape(-1,5))"
      ],
      "metadata": {
        "colab": {
          "base_uri": "https://localhost:8080/"
        },
        "id": "KzknNW0DuXyx",
        "outputId": "437f54f3-eb7d-45cc-98d7-8c0ff5b83acf"
      },
      "execution_count": null,
      "outputs": [
        {
          "output_type": "stream",
          "name": "stdout",
          "text": [
            "[ 1  2  3  4  5  6  7  8  9 10 11 12 13 14 15 16 17 18 19 20] (20,)\n",
            "[[ 1.  2.  3.  4.  5.]\n",
            " [ 6.  7.  8.  9. 10.]\n",
            " [11. 12. 13. 14. 15.]\n",
            " [16. 17. 18. 19. 20.]]\n",
            "[[ 1.  2.  3.  4.  5.]\n",
            " [ 6.  7.  8.  9. 10.]\n",
            " [11. 12. 13. 14. 15.]\n",
            " [16. 17. 18. 19. 20.]]\n",
            "[[ 1.  2.  3.  4.  5.]\n",
            " [ 6.  7.  8.  9. 10.]\n",
            " [11. 12. 13. 14. 15.]\n",
            " [16. 17. 18. 19. 20.]]\n",
            "[[ 1.  2.  3.  4.  5.]\n",
            " [ 6.  7.  8.  9. 10.]\n",
            " [11. 12. 13. 14. 15.]\n",
            " [16. 17. 18. 19. 20.]]\n"
          ]
        }
      ]
    },
    {
      "cell_type": "code",
      "source": [
        "arr1=np.arange(1,21)\n",
        "print(arr1,arr1.shape)\n",
        "print(arr1.reshape(2,2,5).astype(np.float16))\n",
        "print(arr1.reshape(2,-1,5).astype(np.float16))\n",
        "print(arr1.reshape(2,2,-1).astype(np.float16))#we can put -1 in any place they are giving same output"
      ],
      "metadata": {
        "colab": {
          "base_uri": "https://localhost:8080/"
        },
        "id": "TsVxoZqa2P4-",
        "outputId": "a16000a3-ff30-4578-ab18-2d8b8a632b31"
      },
      "execution_count": null,
      "outputs": [
        {
          "output_type": "stream",
          "name": "stdout",
          "text": [
            "[ 1  2  3  4  5  6  7  8  9 10 11 12 13 14 15 16 17 18 19 20] (20,)\n",
            "[[[ 1.  2.  3.  4.  5.]\n",
            "  [ 6.  7.  8.  9. 10.]]\n",
            "\n",
            " [[11. 12. 13. 14. 15.]\n",
            "  [16. 17. 18. 19. 20.]]]\n",
            "[[[ 1.  2.  3.  4.  5.]\n",
            "  [ 6.  7.  8.  9. 10.]]\n",
            "\n",
            " [[11. 12. 13. 14. 15.]\n",
            "  [16. 17. 18. 19. 20.]]]\n",
            "[[[ 1.  2.  3.  4.  5.]\n",
            "  [ 6.  7.  8.  9. 10.]]\n",
            "\n",
            " [[11. 12. 13. 14. 15.]\n",
            "  [16. 17. 18. 19. 20.]]]\n"
          ]
        }
      ]
    },
    {
      "cell_type": "code",
      "source": [
        "arr1=np.arange(1,21).reshape(4,5)\n",
        "print(arr1)\n",
        "print(arr1.T) #transpose\n",
        "print(arr1.transpose()) #transpose\n",
        "print(arr1.flatten()) #multi dimensional to 1 dimensional"
      ],
      "metadata": {
        "colab": {
          "base_uri": "https://localhost:8080/"
        },
        "id": "0Ea17ttf2P1g",
        "outputId": "b88f7c02-4a95-4bf2-ca68-52522a870358"
      },
      "execution_count": null,
      "outputs": [
        {
          "output_type": "stream",
          "name": "stdout",
          "text": [
            "[[ 1  2  3  4  5]\n",
            " [ 6  7  8  9 10]\n",
            " [11 12 13 14 15]\n",
            " [16 17 18 19 20]]\n",
            "[[ 1  6 11 16]\n",
            " [ 2  7 12 17]\n",
            " [ 3  8 13 18]\n",
            " [ 4  9 14 19]\n",
            " [ 5 10 15 20]]\n",
            "[[ 1  6 11 16]\n",
            " [ 2  7 12 17]\n",
            " [ 3  8 13 18]\n",
            " [ 4  9 14 19]\n",
            " [ 5 10 15 20]]\n",
            "[ 1  2  3  4  5  6  7  8  9 10 11 12 13 14 15 16 17 18 19 20]\n"
          ]
        }
      ]
    },
    {
      "cell_type": "code",
      "source": [
        "arr1=np.arange(1,21).reshape(4,5)\n",
        "print(arr1)\n",
        "arr1=arr1.T\n",
        "print(arr1)\n",
        "print(arr1.flatten())\n",
        "print(arr1.reshape(20))\n",
        "print(arr1.reshape(20,1))\n",
        "print(arr1.reshape(1,20))"
      ],
      "metadata": {
        "colab": {
          "base_uri": "https://localhost:8080/"
        },
        "id": "kI9phR8N2PzE",
        "outputId": "ea258262-8565-4b26-d550-5b217f58e822"
      },
      "execution_count": null,
      "outputs": [
        {
          "output_type": "stream",
          "name": "stdout",
          "text": [
            "[[ 1  2  3  4  5]\n",
            " [ 6  7  8  9 10]\n",
            " [11 12 13 14 15]\n",
            " [16 17 18 19 20]]\n",
            "[[ 1  6 11 16]\n",
            " [ 2  7 12 17]\n",
            " [ 3  8 13 18]\n",
            " [ 4  9 14 19]\n",
            " [ 5 10 15 20]]\n",
            "[ 1  6 11 16  2  7 12 17  3  8 13 18  4  9 14 19  5 10 15 20]\n",
            "[ 1  6 11 16  2  7 12 17  3  8 13 18  4  9 14 19  5 10 15 20]\n",
            "[[ 1]\n",
            " [ 6]\n",
            " [11]\n",
            " [16]\n",
            " [ 2]\n",
            " [ 7]\n",
            " [12]\n",
            " [17]\n",
            " [ 3]\n",
            " [ 8]\n",
            " [13]\n",
            " [18]\n",
            " [ 4]\n",
            " [ 9]\n",
            " [14]\n",
            " [19]\n",
            " [ 5]\n",
            " [10]\n",
            " [15]\n",
            " [20]]\n",
            "[[ 1  6 11 16  2  7 12 17  3  8 13 18  4  9 14 19  5 10 15 20]]\n"
          ]
        }
      ]
    },
    {
      "cell_type": "code",
      "source": [
        "matrix = np.arange(10,dtype=np.float16).reshape(2,5)\n",
        "print(matrix)\n",
        "print(\"\\nstored in default order(Row major):\")\n",
        "for item in np.nditer(matrix):\n",
        "    print(item,end=\",\")\n",
        "print(\"\\n\\nstored in C-style order(Row major):\")\n",
        "cmatrix=matrix.copy(order=\"C\")\n",
        "for item in np.nditer(cmatrix):\n",
        "    print(item,end=\",\")\n",
        "print(\"\\n\\nstored in F-style order(Column major):\")\n",
        "fmatrix=matrix.copy(order=\"F\")\n",
        "for item in np.nditer(fmatrix):\n",
        "    print(item,end=\",\")\n"
      ],
      "metadata": {
        "colab": {
          "base_uri": "https://localhost:8080/"
        },
        "id": "2f-Xp5__2Pwy",
        "outputId": "5bb687b7-5f95-4318-91a6-2e8798b738a1"
      },
      "execution_count": null,
      "outputs": [
        {
          "output_type": "stream",
          "name": "stdout",
          "text": [
            "[[0. 1. 2. 3. 4.]\n",
            " [5. 6. 7. 8. 9.]]\n",
            "\n",
            "stored in default order(Row major):\n",
            "0.0,1.0,2.0,3.0,4.0,5.0,6.0,7.0,8.0,9.0,\n",
            "\n",
            "stored in C-style order(Row major):\n",
            "0.0,1.0,2.0,3.0,4.0,5.0,6.0,7.0,8.0,9.0,\n",
            "\n",
            "stored in F-style order(Column major):\n",
            "0.0,5.0,1.0,6.0,2.0,7.0,3.0,8.0,4.0,9.0,"
          ]
        }
      ]
    },
    {
      "cell_type": "markdown",
      "source": [
        "#**Append ,Insert,Delete,and Sort**"
      ],
      "metadata": {
        "id": "OsFqemDr8fVI"
      }
    },
    {
      "cell_type": "code",
      "source": [
        "matrix = np.arange(11,100,11,dtype=np.int8)\n",
        "print(matrix,matrix.shape)\n",
        "matrix=np.append(matrix,np.array([110,120,130]))\n",
        "print(matrix,matrix.shape)\n",
        "matrix=np.insert(matrix,3,[100,200,300])\n",
        "print(matrix,matrix.shape)\n",
        "matrix=np.insert(matrix,len(matrix),[800,900])\n",
        "print(matrix,matrix.shape)\n",
        "matrix=np.delete(matrix,range(3,7))\n",
        "print(matrix,matrix.shape)\n",
        "matrix=np.delete(matrix,[9,2,5])\n",
        "print(matrix,matrix.shape)\n",
        "matrix=np.sort(matrix)\n",
        "print(matrix,matrix.shape)\n"
      ],
      "metadata": {
        "colab": {
          "base_uri": "https://localhost:8080/"
        },
        "id": "PGmZ1Wl62Ptp",
        "outputId": "88a81dfb-6940-4703-ffd9-4a3364e712a9"
      },
      "execution_count": null,
      "outputs": [
        {
          "output_type": "stream",
          "name": "stdout",
          "text": [
            "[11 22 33 44 55 66 77 88 99] (9,)\n",
            "[ 11  22  33  44  55  66  77  88  99 110 120 130] (12,)\n",
            "[ 11  22  33 100 200 300  44  55  66  77  88  99 110 120 130] (15,)\n",
            "[ 11  22  33 100 200 300  44  55  66  77  88  99 110 120 130 800 900] (17,)\n",
            "[ 11  22  33  55  66  77  88  99 110 120 130 800 900] (13,)\n",
            "[ 11  22  55  66  88  99 110 130 800 900] (10,)\n",
            "[ 11  22  55  66  88  99 110 130 800 900] (10,)\n"
          ]
        }
      ]
    },
    {
      "cell_type": "code",
      "source": [
        "matrix = np.array([100,399,578,89,76,754,900])\n",
        "print(matrix,matrix.shape)\n",
        "matrix_sort=np.sort(matrix)\n",
        "print(matrix_sort,matrix_sort.shape)\n",
        "matrix_sort=-np.sort(-matrix)\n",
        "print(matrix_sort,matrix_sort.shape)"
      ],
      "metadata": {
        "colab": {
          "base_uri": "https://localhost:8080/"
        },
        "id": "Bya4LVPQ2Pqz",
        "outputId": "0cf2e5ce-066c-404f-ba18-84da7773856c"
      },
      "execution_count": null,
      "outputs": [
        {
          "output_type": "stream",
          "name": "stdout",
          "text": [
            "[100 399 578  89  76 754 900] (7,)\n",
            "[ 76  89 100 399 578 754 900] (7,)\n",
            "[900 754 578 399 100  89  76] (7,)\n"
          ]
        }
      ]
    },
    {
      "cell_type": "markdown",
      "source": [
        "#**Contatenation and Stack of Two Arrays**"
      ],
      "metadata": {
        "id": "6u6_OmN0RuCI"
      }
    },
    {
      "cell_type": "code",
      "source": [
        "arr1=np.array([[11,22],[34,55]])\n",
        "print(arr1,arr1.shape)\n",
        "arr2=np.array([[66,77],[88,99]])\n",
        "print(arr2,arr2.shape)\n",
        "#both the arrays are of the same dimensions\n",
        "print(\"Joining the two arrays along axis 0(Rows wise):\") # by default axis=0\n",
        "print(np.concatenate((arr1,arr2)))\n",
        "print(\"Joining the two arrays along axis 1:\")\n",
        "print(np.concatenate((arr1,arr2),axis=1))"
      ],
      "metadata": {
        "colab": {
          "base_uri": "https://localhost:8080/"
        },
        "id": "HKI5eZ5e2Pj4",
        "outputId": "cbd75530-8602-4fed-fc3a-98cc8a8a88c8"
      },
      "execution_count": null,
      "outputs": [
        {
          "output_type": "stream",
          "name": "stdout",
          "text": [
            "[[11 22]\n",
            " [34 55]] (2, 2)\n",
            "[[66 77]\n",
            " [88 99]] (2, 2)\n",
            "Joining the two arrays along axis 0:\n",
            "[[11 22]\n",
            " [34 55]\n",
            " [66 77]\n",
            " [88 99]]\n",
            "Joining the two arrays along axis 0:\n",
            "[[11 22 66 77]\n",
            " [34 55 88 99]]\n"
          ]
        }
      ]
    },
    {
      "cell_type": "code",
      "source": [
        "print(\"stack the two arraus along axis 0(Rows wise):\")\n",
        "print(np.stack((arr1,arr2),axis=0))\n",
        "print(\"stack the two arraus along axis 1:\")\n",
        "print(np.stack((arr1,arr2),axis=1))\n",
        "print(np.stack((arr1,arr2),axis=1))\n",
        "print(np.stack((arr1,arr2),axis=1).shape)\n",
        "\n"
      ],
      "metadata": {
        "colab": {
          "base_uri": "https://localhost:8080/"
        },
        "id": "AKu0aujjRmcI",
        "outputId": "7be3800f-e6c1-47bb-c2ec-c3c5699894fc"
      },
      "execution_count": null,
      "outputs": [
        {
          "output_type": "stream",
          "name": "stdout",
          "text": [
            "stack the two arraus along axis 0(Rows wise):\n",
            "[[[11 22]\n",
            "  [34 55]]\n",
            "\n",
            " [[66 77]\n",
            "  [88 99]]]\n",
            "stack the two arraus along axis 1:\n",
            "[[[11 22]\n",
            "  [66 77]]\n",
            "\n",
            " [[34 55]\n",
            "  [88 99]]]\n",
            "[[[11 22]\n",
            "  [66 77]]\n",
            "\n",
            " [[34 55]\n",
            "  [88 99]]]\n",
            "(2, 2, 2)\n"
          ]
        }
      ]
    },
    {
      "cell_type": "markdown",
      "source": [
        "#**Selection**\n"
      ],
      "metadata": {
        "id": "V2edMRE0VXcx"
      }
    },
    {
      "cell_type": "code",
      "source": [
        "arr2 =np.arange(20).reshape(4,5)\n",
        "print(arr2,arr2.shape)\n",
        "print(arr2[2,3],arr2[2][3],arr2[-2][-2],arr2[2][-2],arr2[-2][3]) #indexing\n",
        "print(arr2[1:3,:]) # Slicing\n",
        "print(arr2[1:3,:])\n",
        "print(arr2[:,3:5])\n",
        "print(arr2[:,2:4])\n",
        "print(arr2[1:3,1:5])\n",
        "print(arr2[-4:-2,-4:-1])"
      ],
      "metadata": {
        "colab": {
          "base_uri": "https://localhost:8080/"
        },
        "id": "DbovnSkLRmYz",
        "outputId": "ffe21f81-5239-40b0-e630-934c2cdf2217"
      },
      "execution_count": null,
      "outputs": [
        {
          "output_type": "stream",
          "name": "stdout",
          "text": [
            "[[ 0  1  2  3  4]\n",
            " [ 5  6  7  8  9]\n",
            " [10 11 12 13 14]\n",
            " [15 16 17 18 19]] (4, 5)\n",
            "13 13 13 13 13\n",
            "[[ 5  6  7  8  9]\n",
            " [10 11 12 13 14]]\n",
            "[[ 5  6  7  8  9]\n",
            " [10 11 12 13 14]]\n",
            "[[ 3  4]\n",
            " [ 8  9]\n",
            " [13 14]\n",
            " [18 19]]\n",
            "[[ 2  3]\n",
            " [ 7  8]\n",
            " [12 13]\n",
            " [17 18]]\n",
            "[[ 6  7  8  9]\n",
            " [11 12 13 14]]\n",
            "[[1 2 3]\n",
            " [6 7 8]]\n"
          ]
        }
      ]
    },
    {
      "cell_type": "markdown",
      "source": [],
      "metadata": {
        "id": "-p9lULvbYRaH"
      }
    },
    {
      "cell_type": "code",
      "source": [
        "arr1=np.zeros(25).reshape(5,5)\n",
        "# print(arr1)\n",
        "arr1[0:1,]=10\n",
        "# print(arr1)\n",
        "arr1[:,0:1]=10\n",
        "arr1[1:0,]=10\n",
        "arr1[4:5,]=10\n",
        "arr1[:,4:5]=10\n",
        "print(arr1)"
      ],
      "metadata": {
        "colab": {
          "base_uri": "https://localhost:8080/"
        },
        "id": "XJSM8h-nRmWc",
        "outputId": "e460b090-829b-4224-bf06-630d460c9670"
      },
      "execution_count": null,
      "outputs": [
        {
          "output_type": "stream",
          "name": "stdout",
          "text": [
            "[[10. 10. 10. 10. 10.]\n",
            " [10.  0.  0.  0. 10.]\n",
            " [10.  0.  0.  0. 10.]\n",
            " [10.  0.  0.  0. 10.]\n",
            " [10. 10. 10. 10. 10.]]\n"
          ]
        }
      ]
    },
    {
      "cell_type": "code",
      "source": [
        "arr2 = np.zeros(36).reshape(6,6)\n",
        "arr2[[0, -1], :] = 10\n",
        "arr2[:, [0, -1]] = 10\n",
        "print(arr2)"
      ],
      "metadata": {
        "colab": {
          "base_uri": "https://localhost:8080/"
        },
        "id": "u0WHUJwTRmT0",
        "outputId": "dc13ef88-77d8-406b-d4f3-ca073706f060"
      },
      "execution_count": null,
      "outputs": [
        {
          "output_type": "stream",
          "name": "stdout",
          "text": [
            "[[10. 10. 10. 10. 10. 10.]\n",
            " [10.  0.  0.  0.  0. 10.]\n",
            " [10.  0.  0.  0.  0. 10.]\n",
            " [10.  0.  0.  0.  0. 10.]\n",
            " [10.  0.  0.  0.  0. 10.]\n",
            " [10. 10. 10. 10. 10. 10.]]\n"
          ]
        }
      ]
    },
    {
      "cell_type": "code",
      "source": [
        "arr2 = np.ones(36).reshape(6,6) * 10\n",
        "arr2[1:-1, 1:-1] = 0\n",
        "print(arr2)"
      ],
      "metadata": {
        "colab": {
          "base_uri": "https://localhost:8080/"
        },
        "id": "V90NT1cGRmRI",
        "outputId": "6b0221df-acaa-4bca-9318-94b10eb46ab8"
      },
      "execution_count": null,
      "outputs": [
        {
          "output_type": "stream",
          "name": "stdout",
          "text": [
            "[[10. 10. 10. 10. 10. 10.]\n",
            " [10.  0.  0.  0.  0. 10.]\n",
            " [10.  0.  0.  0.  0. 10.]\n",
            " [10.  0.  0.  0.  0. 10.]\n",
            " [10.  0.  0.  0.  0. 10.]\n",
            " [10. 10. 10. 10. 10. 10.]]\n"
          ]
        }
      ]
    },
    {
      "cell_type": "markdown",
      "source": [
        "#**Views and Copies**"
      ],
      "metadata": {
        "id": "ZcPOogRvaj3U"
      }
    },
    {
      "cell_type": "code",
      "source": [
        "arr1=np.arange(10)\n",
        "print(arr1,arr1[5:8])\n",
        "arr1[5:8]=22\n",
        "print(arr1)\n",
        "arr_views=arr1[5:8] #creating a view\n",
        "print(arr_views)\n",
        "arr_views[:]=33\n",
        "print(arr1)\n",
        "print(arr_views)"
      ],
      "metadata": {
        "colab": {
          "base_uri": "https://localhost:8080/"
        },
        "id": "ev4X4YvoaqUx",
        "outputId": "b4172f1d-421c-4e16-e689-ed5e01c6b07c"
      },
      "execution_count": null,
      "outputs": [
        {
          "output_type": "stream",
          "name": "stdout",
          "text": [
            "[0 1 2 3 4 5 6 7 8 9] [5 6 7]\n",
            "[ 0  1  2  3  4 22 22 22  8  9]\n",
            "[22 22 22]\n",
            "[ 0  1  2  3  4 33 33 33  8  9]\n",
            "[33 33 33]\n"
          ]
        }
      ]
    },
    {
      "cell_type": "code",
      "source": [
        "arr1=np.arange(10)\n",
        "print(arr1,arr1[5:8])\n",
        "arr_copy=arr1[5:8].copy() #creating a copy\n",
        "arr1[5:8]=22\n",
        "print(arr1)\n",
        "arr_copy=arr1[5:8] #creating a copies\n",
        "print(arr_copy)\n",
        "arr_copy[:]=33\n",
        "print(arr1)\n",
        "print(arr_copy)"
      ],
      "metadata": {
        "colab": {
          "base_uri": "https://localhost:8080/"
        },
        "id": "OInelKPCarS3",
        "outputId": "00e6325a-dcac-4dee-d986-2b3a4bb09b58"
      },
      "execution_count": null,
      "outputs": [
        {
          "output_type": "stream",
          "name": "stdout",
          "text": [
            "[0 1 2 3 4 5 6 7 8 9] [5 6 7]\n",
            "[ 0  1  2  3  4 22 22 22  8  9]\n",
            "[22 22 22]\n",
            "[ 0  1  2  3  4 33 33 33  8  9]\n",
            "[33 33 33]\n"
          ]
        }
      ]
    },
    {
      "cell_type": "code",
      "source": [
        "list1 =[11,22,33,44,55,66]\n",
        "list2=list1 #view\n",
        "print(list1,list2)\n",
        "list1[3]=90\n",
        "print(list1,list2)\n",
        "list2[:]\n",
        "list2=list1[:] #copy\n",
        "list1[5]=500\n",
        "print(list1,list2)\n"
      ],
      "metadata": {
        "colab": {
          "base_uri": "https://localhost:8080/"
        },
        "id": "j_8Gkn3garPa",
        "outputId": "ce9e8ff5-ba39-4f80-f9e0-0daa1741ff79"
      },
      "execution_count": null,
      "outputs": [
        {
          "output_type": "stream",
          "name": "stdout",
          "text": [
            "[11, 22, 33, 44, 55, 66] [11, 22, 33, 44, 55, 66]\n",
            "[11, 22, 33, 90, 55, 66] [11, 22, 33, 90, 55, 66]\n",
            "[11, 22, 33, 90, 55, 500] [11, 22, 33, 90, 55, 66]\n"
          ]
        }
      ]
    },
    {
      "cell_type": "markdown",
      "source": [
        "##**Using Boolean  Arrays**\n"
      ],
      "metadata": {
        "id": "k1ucSOBGdTSP"
      }
    },
    {
      "cell_type": "code",
      "source": [
        "arr1 =np.array([10,-45,40,-44,-56,60,80,-55])\n",
        "print(arr1,arr1.shape)\n",
        "print(arr1 >= 0) #generating one boolean array\n",
        "print(arr1[arr1 >= 0])\n",
        "print(~(arr1 >= 0)) # generating one boolean array\n",
        "print(arr1[~(arr1 >= 0)])\n",
        "print((arr1<-50) | (arr1>50))\n",
        "print(arr1[(arr1<-50) | (arr1>50)])\n",
        "print(arr1[(arr1 % 2 == 0)])\n",
        "print(arr1[~(arr1 % 2 == 0)])"
      ],
      "metadata": {
        "colab": {
          "base_uri": "https://localhost:8080/"
        },
        "id": "7qYKB8K9arMe",
        "outputId": "5c795548-e61a-437a-dd4a-e696445dbf85"
      },
      "execution_count": null,
      "outputs": [
        {
          "output_type": "stream",
          "name": "stdout",
          "text": [
            "[ 10 -45  40 -44 -56  60  80 -55] (8,)\n",
            "[ True False  True False False  True  True False]\n",
            "[10 40 60 80]\n",
            "[False  True False  True  True False False  True]\n",
            "[-45 -44 -56 -55]\n",
            "[False False False False  True  True  True  True]\n",
            "[-56  60  80 -55]\n",
            "[ 10  40 -44 -56  60  80]\n",
            "[-45 -55]\n"
          ]
        }
      ]
    },
    {
      "cell_type": "code",
      "source": [
        "arr1 =np.array([10,-45,40,-44,-56,60,80,-55])\n",
        "print(arr1,arr1.shape)\n",
        "print(arr1[(arr1% 4==0)&(arr1% 5==0)])\n",
        "print(arr1[~((arr1% 4==0)&(arr1% 5==0))])"
      ],
      "metadata": {
        "colab": {
          "base_uri": "https://localhost:8080/"
        },
        "id": "tm9RcXPOarJJ",
        "outputId": "97e702ef-ea66-4d39-ed3f-3f54eed442b6"
      },
      "execution_count": null,
      "outputs": [
        {
          "output_type": "stream",
          "name": "stdout",
          "text": [
            "[ 10 -45  40 -44 -56  60  80 -55] (8,)\n",
            "[40 60 80]\n",
            "[ 10 -45 -44 -56 -55]\n"
          ]
        }
      ]
    },
    {
      "cell_type": "code",
      "source": [
        "arr1 =np.array(['bob','pat','joe','will','bob','joe','joe'])\n",
        "print(arr1,arr1.shape)\n",
        "print(arr1 != 'bob')\n",
        "print(arr1[arr1 != 'bob'])\n",
        "arr1[arr1 == 'bob']='jam'\n",
        "print(arr1)\n",
        "print(np.unique(arr1)) #getting all unique names\n",
        "\n",
        "\n"
      ],
      "metadata": {
        "colab": {
          "base_uri": "https://localhost:8080/"
        },
        "id": "R7qL_vyEaq-_",
        "outputId": "479f482b-8d1c-4572-8d16-b00e4b72dade"
      },
      "execution_count": null,
      "outputs": [
        {
          "output_type": "stream",
          "name": "stdout",
          "text": [
            "['bob' 'pat' 'joe' 'will' 'bob' 'joe' 'joe'] (7,)\n",
            "[False  True  True  True False  True  True]\n",
            "['pat' 'joe' 'will' 'joe' 'joe']\n",
            "['jam' 'pat' 'joe' 'will' 'jam' 'joe' 'joe']\n",
            "['jam' 'joe' 'pat' 'will']\n"
          ]
        }
      ]
    },
    {
      "cell_type": "code",
      "source": [
        "mystr =\"mississippi\"\n",
        "print(mystr , list(mystr))\n",
        "arr1=np.array(list(mystr))\n",
        "print(np.unique(arr1))\n",
        "print(set(list(mystr)))\n",
        "print(set(mystr))"
      ],
      "metadata": {
        "colab": {
          "base_uri": "https://localhost:8080/"
        },
        "id": "P4wYUD87jFke",
        "outputId": "4ecae4c8-a306-4669-970e-d63bd96618b5"
      },
      "execution_count": null,
      "outputs": [
        {
          "output_type": "stream",
          "name": "stdout",
          "text": [
            "mississippi ['m', 'i', 's', 's', 'i', 's', 's', 'i', 'p', 'p', 'i']\n",
            "['i' 'm' 'p' 's']\n",
            "{'s', 'p', 'i', 'm'}\n",
            "{'s', 'p', 'i', 'm'}\n"
          ]
        }
      ]
    },
    {
      "cell_type": "code",
      "source": [
        "mystr = \"    university      \"\n",
        "print(mystr, len(mystr))\n",
        "print(mystr.lstrip(), len(mystr.lstrip()))\n",
        "print(mystr.rstrip(), len(mystr.rstrip()))\n",
        "print(mystr.strip(), len(mystr.strip()))"
      ],
      "metadata": {
        "colab": {
          "base_uri": "https://localhost:8080/"
        },
        "id": "3UziQBTNjvVC",
        "outputId": "1c1eb805-0927-4386-b068-aab8102b5519"
      },
      "execution_count": null,
      "outputs": [
        {
          "output_type": "stream",
          "name": "stdout",
          "text": [
            "    university       20\n",
            "university       16\n",
            "    university 14\n",
            "university 10\n"
          ]
        }
      ]
    },
    {
      "cell_type": "code",
      "source": [
        "mystr = \"@@#@university@@@#@\"\n",
        "print(mystr, len(mystr))\n",
        "print(mystr.lstrip(\"#@\"), len(mystr.lstrip(\"#@\")))\n",
        "print(mystr.rstrip(\"#@\"), len(mystr.rstrip(\"#@\")))\n",
        "print(mystr.strip(\"#@\"), len(mystr.strip(\"#@\")))"
      ],
      "metadata": {
        "colab": {
          "base_uri": "https://localhost:8080/"
        },
        "id": "2JNrrR_zjvRc",
        "outputId": "6bb94168-ae5d-4f82-84e1-163eda33ba8c"
      },
      "execution_count": null,
      "outputs": [
        {
          "output_type": "stream",
          "name": "stdout",
          "text": [
            "@@#@university@@@#@ 19\n",
            "university@@@#@ 15\n",
            "@@#@university 14\n",
            "university 10\n"
          ]
        }
      ]
    },
    {
      "cell_type": "markdown",
      "source": [
        "#**Vector Operations**"
      ],
      "metadata": {
        "id": "1hzmU59MqSJ_"
      }
    },
    {
      "cell_type": "code",
      "source": [
        "arr1 = np.arange(10)\n",
        "print(arr1)\n",
        "print(arr1+100)\n",
        "print(arr1*100)\n",
        "print(np.sqrt(arr1))\n",
        "print(np.ceil(np.sqrt(arr1)))\n",
        "print(np.floor(np.sqrt(arr1)))\n",
        "print(np.round(np.sqrt(arr1)))"
      ],
      "metadata": {
        "colab": {
          "base_uri": "https://localhost:8080/"
        },
        "id": "bEn2ehBXjvGa",
        "outputId": "78660962-9df8-42c5-cabe-fbfb6d22ea87"
      },
      "execution_count": null,
      "outputs": [
        {
          "output_type": "stream",
          "name": "stdout",
          "text": [
            "[0 1 2 3 4 5 6 7 8 9]\n",
            "[100 101 102 103 104 105 106 107 108 109]\n",
            "[  0 100 200 300 400 500 600 700 800 900]\n",
            "[0.         1.         1.41421356 1.73205081 2.         2.23606798\n",
            " 2.44948974 2.64575131 2.82842712 3.        ]\n",
            "[0. 1. 2. 2. 2. 3. 3. 3. 3. 3.]\n",
            "[0. 1. 1. 1. 2. 2. 2. 2. 2. 3.]\n",
            "[0. 1. 1. 2. 2. 2. 2. 3. 3. 3.]\n"
          ]
        }
      ]
    },
    {
      "cell_type": "code",
      "source": [
        "import numpy as np\n",
        "import math\n",
        "var1 = np.array([11,22,33,44,55,66,77])\n",
        "var2=100\n",
        "print(np.sqrt(var1),np.sqrt(var2))\n",
        "print(math.sqrt(var2))"
      ],
      "metadata": {
        "colab": {
          "base_uri": "https://localhost:8080/"
        },
        "id": "HOeYBHGWqRgU",
        "outputId": "19737ee9-2d31-48fa-e924-1d2fe4089ed1"
      },
      "execution_count": null,
      "outputs": [
        {
          "output_type": "stream",
          "name": "stdout",
          "text": [
            "[3.31662479 4.69041576 5.74456265 6.63324958 7.41619849 8.1240384\n",
            " 8.77496439] 10.0\n",
            "10.0\n"
          ]
        }
      ]
    },
    {
      "cell_type": "code",
      "source": [
        "arr1 =np.arange(10)\n",
        "print(arr1)\n",
        "arr2=np.arange(20,30)\n",
        "print(arr2,arr2.shape)\n",
        "print(arr1+arr2)\n",
        "print(arr1*arr2)"
      ],
      "metadata": {
        "colab": {
          "base_uri": "https://localhost:8080/"
        },
        "id": "v5s8wkVYqRc7",
        "outputId": "bb0b31f7-f9b8-41b1-c702-d78801a6a74a"
      },
      "execution_count": null,
      "outputs": [
        {
          "output_type": "stream",
          "name": "stdout",
          "text": [
            "[0 1 2 3 4 5 6 7 8 9]\n",
            "[20 21 22 23 24 25 26 27 28 29] (10,)\n",
            "[20 22 24 26 28 30 32 34 36 38]\n",
            "[  0  21  44  69  96 125 156 189 224 261]\n"
          ]
        }
      ]
    },
    {
      "cell_type": "code",
      "source": [
        "arr1 = np.array([100,200,np.nan,300,600,500,np.nan])\n",
        "print(arr1,arr1.shape)\n",
        "print(np.isnan(arr1))\n",
        "print(arr1[~np.isnan(arr1)])"
      ],
      "metadata": {
        "colab": {
          "base_uri": "https://localhost:8080/"
        },
        "id": "Ih_TLxLvqRaW",
        "outputId": "a82fbc8b-e6de-427f-9189-344e876f9252"
      },
      "execution_count": null,
      "outputs": [
        {
          "output_type": "stream",
          "name": "stdout",
          "text": [
            "[100. 200.  nan 300. 600. 500.  nan] (7,)\n",
            "[False False  True False False False  True]\n",
            "[100. 200. 300. 600. 500.]\n"
          ]
        }
      ]
    },
    {
      "cell_type": "code",
      "source": [
        "arr1=np.array([100,-200,300,400,-500,600,700])\n",
        "print(arr1,arr1.shape)\n",
        "arr2 =np.array([11,-800,54,66,778,55,-48])\n",
        "print(arr2,arr2.shape)\n",
        "print(np.maximum(arr1,arr2))\n",
        "print(np.minimum(arr1,arr2))\n",
        "print(np.argmax(arr1),np.argmax(arr2))\n",
        "print(np.argmin(arr1),np.argmin(arr2))\n"
      ],
      "metadata": {
        "colab": {
          "base_uri": "https://localhost:8080/"
        },
        "id": "NW1bTIlQqRXW",
        "outputId": "9ab9484c-3959-46da-cb03-78a5d16e4b87"
      },
      "execution_count": null,
      "outputs": [
        {
          "output_type": "stream",
          "name": "stdout",
          "text": [
            "[ 100 -200  300  400 -500  600  700] (7,)\n",
            "[  11 -800   54   66  778   55  -48] (7,)\n",
            "[ 100 -200  300  400  778  600  700]\n",
            "[  11 -800   54   66 -500   55  -48]\n",
            "6 4\n",
            "4 1\n"
          ]
        }
      ]
    },
    {
      "cell_type": "code",
      "source": [
        "vect1 =np.random.randn(9000)\n",
        "print(vect1[:10],vect1.shape)\n",
        "print(np.average(vect1),np.std(vect1))\n",
        "vect2 =np.random.randn(9000)\n",
        "print(vect2[:10],vect2.shape)\n",
        "print(np.maximum(vect1,vect2))"
      ],
      "metadata": {
        "colab": {
          "base_uri": "https://localhost:8080/"
        },
        "id": "Ee8QQWbGqRUq",
        "outputId": "ee7e97c8-99b9-43e9-a834-1967d9fda30d"
      },
      "execution_count": null,
      "outputs": [
        {
          "output_type": "stream",
          "name": "stdout",
          "text": [
            "[ 0.39599438 -0.46883748 -0.09971376 -2.48266206 -0.28526752  1.04186772\n",
            " -0.57585762  0.14265407  0.57824799 -0.02168238] (9000,)\n",
            "0.009111377270538635 0.9908196894443186\n",
            "[ 1.68585628 -1.00766102 -1.19239969  0.0505004  -0.42148558  0.07555979\n",
            " -0.49669129 -0.03072212 -0.58788363 -1.69043567] (9000,)\n",
            "[ 1.68585628 -0.46883748 -0.09971376 ...  1.0456665   0.50780426\n",
            " -0.06565401]\n"
          ]
        }
      ]
    },
    {
      "cell_type": "code",
      "source": [
        "# Eucledian distance\n",
        "vect1 = np.random.randn(10)\n",
        "vect2 = np.random.randn(10)\n",
        "# pt1(x1, y1), pt2(x2, y2) => sqrt((x1 - y1)^2 + (x2 - y2)^2)\n",
        "dist = 0\n",
        "for i in range(len(vect1)):\n",
        "    dist = dist + (vect1[i] - vect2[i]) ** 2\n",
        "print(np.sqrt(dist))\n",
        "print(np.sqrt(np.sum((vect1 - vect2) ** 2)))\n",
        "print(np.sqrt(np.sum(pow(np.subtract(vect1, vect2), 2))))"
      ],
      "metadata": {
        "colab": {
          "base_uri": "https://localhost:8080/"
        },
        "id": "Z4QrAXGNqQ_C",
        "outputId": "19b850ed-eba5-494c-8940-7796dd4b5003"
      },
      "execution_count": null,
      "outputs": [
        {
          "output_type": "stream",
          "name": "stdout",
          "text": [
            "3.608953060880621\n",
            "3.6089530608806206\n",
            "3.6089530608806206\n"
          ]
        }
      ]
    },
    {
      "cell_type": "code",
      "source": [
        "np.random.seed(101)\n",
        "vect1 =np.random.randn(10)\n",
        "print(vect1,vect1.shape)\n",
        "vect1 =np.random.rand(10)\n",
        "print(vect1,vect1.shape)\n",
        "vect1 =np.random.randint(0,2,10)\n",
        "print(vect1,vect1.shape)"
      ],
      "metadata": {
        "colab": {
          "base_uri": "https://localhost:8080/"
        },
        "id": "MVUCetH_weta",
        "outputId": "19112bae-7bb1-436e-b9f5-5c6be796b70f"
      },
      "execution_count": null,
      "outputs": [
        {
          "output_type": "stream",
          "name": "stdout",
          "text": [
            "[ 2.70684984  0.62813271  0.90796945  0.50382575  0.65111795 -0.31931804\n",
            " -0.84807698  0.60596535 -2.01816824  0.74012206] (10,)\n",
            "[0.1818924  0.78560176 0.96548322 0.23235366 0.08356143 0.60354842\n",
            " 0.72899276 0.27623883 0.68530633 0.51786747] (10,)\n",
            "[0 1 1 1 1 0 0 0 1 1] (10,)\n"
          ]
        }
      ]
    },
    {
      "cell_type": "code",
      "source": [
        "vect1 = np.random.randn(10)\n",
        "print(vect1)\n",
        "print(vect1 > 0)\n",
        "print((vect1 > 0).sum())\n",
        "print((vect1 > 0).any())\n",
        "print((vect1 > 0).all())\n",
        "print(~((vect1 > 0).any()))"
      ],
      "metadata": {
        "colab": {
          "base_uri": "https://localhost:8080/"
        },
        "id": "NIzZ0ihmwep4",
        "outputId": "22d4affd-97ef-45be-f6bf-94dcd372a73a"
      },
      "execution_count": null,
      "outputs": [
        {
          "output_type": "stream",
          "name": "stdout",
          "text": [
            "[ 1.65207044  0.19692527  0.10321419 -0.14737026  1.13128366  1.08583909\n",
            "  0.44948591 -0.00296292 -0.64817706 -0.95614981]\n",
            "[ True  True  True False  True  True  True False False False]\n",
            "6\n",
            "True\n",
            "False\n",
            "False\n"
          ]
        }
      ]
    },
    {
      "cell_type": "code",
      "source": [
        "vect1 = np.random.randn(4, 5)\n",
        "print(vect1)\n",
        "print(vect1.sum(axis = 0))\n",
        "print(vect1.sum(axis = 1))\n",
        "print(vect1)"
      ],
      "metadata": {
        "colab": {
          "base_uri": "https://localhost:8080/"
        },
        "id": "9OWhbQv92pE_",
        "outputId": "2fa2e1b0-8795-44c6-ec05-ced84739bfa8"
      },
      "execution_count": null,
      "outputs": [
        {
          "output_type": "stream",
          "name": "stdout",
          "text": [
            "[[-5.98269227e-01  2.82337430e-02  3.92746078e-01 -1.44169525e+00\n",
            "   3.22839962e-04]\n",
            " [-1.04991168e+00 -2.29937498e-01 -1.28359884e+00 -2.71119174e+00\n",
            "  -1.52241044e+00]\n",
            " [-1.41620705e+00  1.10854366e+00  1.13102858e+00  4.98600308e-01\n",
            "   1.17902193e+00]\n",
            " [ 1.32268437e+00  1.85215451e+00 -8.92171982e-01  6.16860709e-01\n",
            "  -1.12182200e+00]]\n",
            "[-1.7417036   2.75899442 -0.65199616 -3.03742597 -1.46488768]\n",
            "[-1.61866181 -6.7970502   2.50098743  1.7777056 ]\n",
            "[[-5.98269227e-01  2.82337430e-02  3.92746078e-01 -1.44169525e+00\n",
            "   3.22839962e-04]\n",
            " [-1.04991168e+00 -2.29937498e-01 -1.28359884e+00 -2.71119174e+00\n",
            "  -1.52241044e+00]\n",
            " [-1.41620705e+00  1.10854366e+00  1.13102858e+00  4.98600308e-01\n",
            "   1.17902193e+00]\n",
            " [ 1.32268437e+00  1.85215451e+00 -8.92171982e-01  6.16860709e-01\n",
            "  -1.12182200e+00]]\n"
          ]
        }
      ]
    },
    {
      "cell_type": "markdown",
      "source": [
        "# Broadcasting\n",
        "\n"
      ],
      "metadata": {
        "id": "x8qxgBwP0MX9"
      }
    },
    {
      "cell_type": "code",
      "source": [
        "a1 = np.array([[  0,  0,  0],\n",
        "               [ 10, 10, 10],\n",
        "               [ 20, 20, 20],\n",
        "               [ 30, 30, 30]])\n",
        "a2 = np.array([[0], [10], [20], [30]])\n",
        "b1 = np.array([[0, 1, 2],\n",
        "               [0, 1, 2],\n",
        "               [0, 1, 2],\n",
        "               [0, 1, 2]])\n",
        "b2 = np.array([ 0, 1, 2])\n",
        "print(a1, a1.shape)\n",
        "print(a2, a2.shape)\n",
        "print(b1, b1.shape)\n",
        "print(b2, b2.shape)"
      ],
      "metadata": {
        "colab": {
          "base_uri": "https://localhost:8080/"
        },
        "id": "YXOyei4Swem6",
        "outputId": "5a3c3f2f-140a-47f9-e80a-1885652d7e0f"
      },
      "execution_count": null,
      "outputs": [
        {
          "output_type": "stream",
          "name": "stdout",
          "text": [
            "[[ 0  0  0]\n",
            " [10 10 10]\n",
            " [20 20 20]\n",
            " [30 30 30]] (4, 3)\n",
            "[[ 0]\n",
            " [10]\n",
            " [20]\n",
            " [30]] (4, 1)\n",
            "[[0 1 2]\n",
            " [0 1 2]\n",
            " [0 1 2]\n",
            " [0 1 2]] (4, 3)\n",
            "[0 1 2] (3,)\n"
          ]
        }
      ]
    },
    {
      "cell_type": "code",
      "source": [
        "print(a1 + b1)\n",
        "print(a1 + b2)\n",
        "print(a2 + b1)\n",
        "print(a2 + b2)"
      ],
      "metadata": {
        "colab": {
          "base_uri": "https://localhost:8080/"
        },
        "id": "_z3rBVUiwej7",
        "outputId": "97c1307b-a66c-412e-ec99-9ce3204c562b"
      },
      "execution_count": null,
      "outputs": [
        {
          "output_type": "stream",
          "name": "stdout",
          "text": [
            "[[ 0  1  2]\n",
            " [10 11 12]\n",
            " [20 21 22]\n",
            " [30 31 32]]\n",
            "[[ 0  1  2]\n",
            " [10 11 12]\n",
            " [20 21 22]\n",
            " [30 31 32]]\n",
            "[[ 0  1  2]\n",
            " [10 11 12]\n",
            " [20 21 22]\n",
            " [30 31 32]]\n",
            "[[ 0  1  2]\n",
            " [10 11 12]\n",
            " [20 21 22]\n",
            " [30 31 32]]\n"
          ]
        }
      ]
    },
    {
      "cell_type": "code",
      "source": [
        "print(np.add(a1, b1))\n",
        "print(np.add(a1, b2))\n",
        "print(np.add(a2, b1))\n",
        "print(np.add(a2, b2))"
      ],
      "metadata": {
        "colab": {
          "base_uri": "https://localhost:8080/"
        },
        "id": "yKKtJhbEweUw",
        "outputId": "0d5b8380-58eb-4357-b725-90557cd50995"
      },
      "execution_count": null,
      "outputs": [
        {
          "output_type": "stream",
          "name": "stdout",
          "text": [
            "[[ 0  1  2]\n",
            " [10 11 12]\n",
            " [20 21 22]\n",
            " [30 31 32]]\n",
            "[[ 0  1  2]\n",
            " [10 11 12]\n",
            " [20 21 22]\n",
            " [30 31 32]]\n",
            "[[ 0  1  2]\n",
            " [10 11 12]\n",
            " [20 21 22]\n",
            " [30 31 32]]\n",
            "[[ 0  1  2]\n",
            " [10 11 12]\n",
            " [20 21 22]\n",
            " [30 31 32]]\n"
          ]
        }
      ]
    },
    {
      "cell_type": "code",
      "source": [
        "print(np.multiply(a1, b1))\n",
        "print(np.multiply(a1, b2))\n",
        "print(np.multiply(a2, b1))\n",
        "print(np.multiply(a2, b2))"
      ],
      "metadata": {
        "id": "sX4adpVI2_Mq",
        "outputId": "e89b3147-d062-4453-f1cc-d7a65960629a",
        "colab": {
          "base_uri": "https://localhost:8080/"
        }
      },
      "execution_count": null,
      "outputs": [
        {
          "output_type": "stream",
          "name": "stdout",
          "text": [
            "[[ 0  0  0]\n",
            " [ 0 10 20]\n",
            " [ 0 20 40]\n",
            " [ 0 30 60]]\n",
            "[[ 0  0  0]\n",
            " [ 0 10 20]\n",
            " [ 0 20 40]\n",
            " [ 0 30 60]]\n",
            "[[ 0  0  0]\n",
            " [ 0 10 20]\n",
            " [ 0 20 40]\n",
            " [ 0 30 60]]\n",
            "[[ 0  0  0]\n",
            " [ 0 10 20]\n",
            " [ 0 20 40]\n",
            " [ 0 30 60]]\n"
          ]
        }
      ]
    }
  ]
}