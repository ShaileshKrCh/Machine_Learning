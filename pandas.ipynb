{
  "nbformat": 4,
  "nbformat_minor": 0,
  "metadata": {
    "colab": {
      "provenance": [],
      "authorship_tag": "ABX9TyP3R7QFRjioHaAon6HSDtxo",
      "include_colab_link": true
    },
    "kernelspec": {
      "name": "python3",
      "display_name": "Python 3"
    },
    "language_info": {
      "name": "python"
    }
  },
  "cells": [
    {
      "cell_type": "markdown",
      "metadata": {
        "id": "view-in-github",
        "colab_type": "text"
      },
      "source": [
        "<a href=\"https://colab.research.google.com/github/ShaileshKrCh/Machine_Learning/blob/main/pandas.ipynb\" target=\"_parent\"><img src=\"https://colab.research.google.com/assets/colab-badge.svg\" alt=\"Open In Colab\"/></a>"
      ]
    },
    {
      "cell_type": "code",
      "execution_count": 2,
      "metadata": {
        "id": "UpE9sTFx1jpl",
        "colab": {
          "base_uri": "https://localhost:8080/",
          "height": 35
        },
        "outputId": "2cf97e39-94fe-4c7d-c93f-a5b1040b98b3"
      },
      "outputs": [
        {
          "output_type": "execute_result",
          "data": {
            "text/plain": [
              "'2.2.2'"
            ],
            "application/vnd.google.colaboratory.intrinsic+json": {
              "type": "string"
            }
          },
          "metadata": {},
          "execution_count": 2
        }
      ],
      "source": [
        "import pandas as pd\n",
        "pd.__version__\n"
      ]
    },
    {
      "cell_type": "code",
      "source": [
        "# import pandas as pd\n",
        "data = pd.Series([0.25,3.3,4,5.7])\n",
        "# print(data)\n",
        "print(data.values)\n",
        "# print(data.keys)\n",
        "print(data.index)"
      ],
      "metadata": {
        "colab": {
          "base_uri": "https://localhost:8080/"
        },
        "id": "fyb9V3oh2UAO",
        "outputId": "3b396073-6d5e-4711-a59c-4666b091b3e5"
      },
      "execution_count": 12,
      "outputs": [
        {
          "output_type": "stream",
          "name": "stdout",
          "text": [
            "[0.25 3.3  4.   5.7 ]\n",
            "RangeIndex(start=0, stop=4, step=1)\n"
          ]
        }
      ]
    },
    {
      "cell_type": "markdown",
      "source": [
        "Series is a one dimensional labeled array,capable holding data and type.\n",
        "2.info about series"
      ],
      "metadata": {
        "id": "sGtA_aV52-l4"
      }
    },
    {
      "cell_type": "code",
      "source": [
        "data = pd.Series([0.25,3.3,4,5.7])\n",
        "# print(data.describe())\n",
        "print(data.agg(['max','min','sum']))"
      ],
      "metadata": {
        "colab": {
          "base_uri": "https://localhost:8080/"
        },
        "id": "i9TSMg9O4D_S",
        "outputId": "b916c330-82bb-48f8-99e2-1697dcb37e61"
      },
      "execution_count": 14,
      "outputs": [
        {
          "output_type": "stream",
          "name": "stdout",
          "text": [
            "max     5.70\n",
            "min     0.25\n",
            "sum    13.25\n",
            "dtype: float64\n"
          ]
        }
      ]
    },
    {
      "cell_type": "markdown",
      "source": [
        " 3.\n",
        " How to access and slice data in a series"
      ],
      "metadata": {
        "id": "TVPrrAT05D1Y"
      }
    },
    {
      "cell_type": "code",
      "source": [
        "data = pd.Series([0.25,3.3,4,5.7])\n",
        "print(data[0:4:2])"
      ],
      "metadata": {
        "colab": {
          "base_uri": "https://localhost:8080/"
        },
        "id": "_cB0vFJc5NrI",
        "outputId": "83943c15-c9a6-4506-ac8d-7717628ae756"
      },
      "execution_count": 19,
      "outputs": [
        {
          "output_type": "stream",
          "name": "stdout",
          "text": [
            "0    0.25\n",
            "2    4.00\n",
            "dtype: float64\n"
          ]
        }
      ]
    },
    {
      "cell_type": "markdown",
      "source": [
        "4.Customize the index"
      ],
      "metadata": {
        "id": "0e2RJDpn545L"
      }
    },
    {
      "cell_type": "code",
      "source": [
        "# list\n",
        "data1 = pd.Series([0.25,3.3,4,5.7],index=[\"a\",\"b\",\"c\",\"d\"])\n",
        "# dictionary\n",
        "data2= pd.Series({\"a\":25,\"b\":33,\"c\":49,\"d\":57})\n",
        "print(data1)\n",
        "print(data2)\n",
        "print(data2[\"a\"])\n",
        "\n"
      ],
      "metadata": {
        "colab": {
          "base_uri": "https://localhost:8080/"
        },
        "id": "YtDC_LuR6BZx",
        "outputId": "d5b57fcc-6a3b-43f5-e6b2-3d6f05b14bb3"
      },
      "execution_count": 22,
      "outputs": [
        {
          "output_type": "stream",
          "name": "stdout",
          "text": [
            "a    0.25\n",
            "b    3.30\n",
            "c    4.00\n",
            "d    5.70\n",
            "dtype: float64\n",
            "a    25\n",
            "b    33\n",
            "c    49\n",
            "d    57\n",
            "dtype: int64\n",
            "25\n"
          ]
        }
      ]
    },
    {
      "cell_type": "markdown",
      "source": [],
      "metadata": {
        "id": "iuIywpAz7WwN"
      }
    }
  ]
}