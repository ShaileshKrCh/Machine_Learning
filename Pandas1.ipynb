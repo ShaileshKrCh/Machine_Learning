{
  "nbformat": 4,
  "nbformat_minor": 0,
  "metadata": {
    "colab": {
      "provenance": [],
      "authorship_tag": "ABX9TyOHtak0iBWDcYPndFlzJphn",
      "include_colab_link": true
    },
    "kernelspec": {
      "name": "python3",
      "display_name": "Python 3"
    },
    "language_info": {
      "name": "python"
    }
  },
  "cells": [
    {
      "cell_type": "markdown",
      "metadata": {
        "id": "view-in-github",
        "colab_type": "text"
      },
      "source": [
        "<a href=\"https://colab.research.google.com/github/ShaileshKrCh/Machine_Learning/blob/main/Pandas1.ipynb\" target=\"_parent\"><img src=\"https://colab.research.google.com/assets/colab-badge.svg\" alt=\"Open In Colab\"/></a>"
      ]
    },
    {
      "cell_type": "code",
      "execution_count": null,
      "metadata": {
        "id": "UpE9sTFx1jpl",
        "colab": {
          "base_uri": "https://localhost:8080/",
          "height": 35
        },
        "outputId": "2cf97e39-94fe-4c7d-c93f-a5b1040b98b3"
      },
      "outputs": [
        {
          "output_type": "execute_result",
          "data": {
            "text/plain": [
              "'2.2.2'"
            ],
            "application/vnd.google.colaboratory.intrinsic+json": {
              "type": "string"
            }
          },
          "metadata": {},
          "execution_count": 2
        }
      ],
      "source": [
        "import pandas as pd\n",
        "pd.__version__\n"
      ]
    },
    {
      "cell_type": "code",
      "source": [
        "# import pandas as pd\n",
        "data = pd.Series([0.25,3.3,4,5.7])\n",
        "# print(data)\n",
        "print(data.values)\n",
        "# print(data.keys)\n",
        "print(data.index)"
      ],
      "metadata": {
        "colab": {
          "base_uri": "https://localhost:8080/"
        },
        "id": "fyb9V3oh2UAO",
        "outputId": "3b396073-6d5e-4711-a59c-4666b091b3e5"
      },
      "execution_count": null,
      "outputs": [
        {
          "output_type": "stream",
          "name": "stdout",
          "text": [
            "[0.25 3.3  4.   5.7 ]\n",
            "RangeIndex(start=0, stop=4, step=1)\n"
          ]
        }
      ]
    },
    {
      "cell_type": "markdown",
      "source": [
        "Series is a one dimensional labeled array,capable holding data and type.\n",
        "2.info about series"
      ],
      "metadata": {
        "id": "sGtA_aV52-l4"
      }
    },
    {
      "cell_type": "code",
      "source": [
        "data = pd.Series([0.25,3.3,4,5.7])\n",
        "# print(data.describe())\n",
        "print(data.agg(['max','min','sum']))"
      ],
      "metadata": {
        "colab": {
          "base_uri": "https://localhost:8080/"
        },
        "id": "i9TSMg9O4D_S",
        "outputId": "b916c330-82bb-48f8-99e2-1697dcb37e61"
      },
      "execution_count": null,
      "outputs": [
        {
          "output_type": "stream",
          "name": "stdout",
          "text": [
            "max     5.70\n",
            "min     0.25\n",
            "sum    13.25\n",
            "dtype: float64\n"
          ]
        }
      ]
    },
    {
      "cell_type": "markdown",
      "source": [
        " 3.\n",
        " How to access and slice data in a series"
      ],
      "metadata": {
        "id": "TVPrrAT05D1Y"
      }
    },
    {
      "cell_type": "code",
      "source": [
        "data = pd.Series([0.25,3.3,4,5.7])\n",
        "print(data[0:4:2])"
      ],
      "metadata": {
        "colab": {
          "base_uri": "https://localhost:8080/"
        },
        "id": "_cB0vFJc5NrI",
        "outputId": "83943c15-c9a6-4506-ac8d-7717628ae756"
      },
      "execution_count": null,
      "outputs": [
        {
          "output_type": "stream",
          "name": "stdout",
          "text": [
            "0    0.25\n",
            "2    4.00\n",
            "dtype: float64\n"
          ]
        }
      ]
    },
    {
      "cell_type": "markdown",
      "source": [
        "4.Customize the index"
      ],
      "metadata": {
        "id": "0e2RJDpn545L"
      }
    },
    {
      "cell_type": "code",
      "source": [
        "# list\n",
        "data1 = pd.Series([0.25,3.3,4,5.7],index=[\"a\",\"b\",\"c\",\"d\"])\n",
        "# dictionary\n",
        "data2= pd.Series({\"a\":25,\"b\":33,\"c\":49,\"d\":57})\n",
        "print(data1)\n",
        "print(data2)\n",
        "print(data2[\"a\"])\n",
        "\n"
      ],
      "metadata": {
        "colab": {
          "base_uri": "https://localhost:8080/"
        },
        "id": "YtDC_LuR6BZx",
        "outputId": "d5b57fcc-6a3b-43f5-e6b2-3d6f05b14bb3"
      },
      "execution_count": null,
      "outputs": [
        {
          "output_type": "stream",
          "name": "stdout",
          "text": [
            "a    0.25\n",
            "b    3.30\n",
            "c    4.00\n",
            "d    5.70\n",
            "dtype: float64\n",
            "a    25\n",
            "b    33\n",
            "c    49\n",
            "d    57\n",
            "dtype: int64\n",
            "25\n"
          ]
        }
      ]
    },
    {
      "cell_type": "markdown",
      "source": [
        "5.Lists and the lists operation ny pandas"
      ],
      "metadata": {
        "id": "2UyePfyikoCW"
      }
    },
    {
      "cell_type": "code",
      "source": [
        "import pandas as pd\n",
        "a= pd.Index([1,3,4,5,7,9])\n",
        "b= pd.Index([2,6,4,5,7,11])\n",
        "print(a)\n",
        "print(b)\n",
        "print(a & b)\n",
        "print(a | b)\n",
        "print(a ^ b)"
      ],
      "metadata": {
        "colab": {
          "base_uri": "https://localhost:8080/"
        },
        "id": "IIVWIsIKknaC",
        "outputId": "fe1d260d-88a4-4d32-9fe3-09953227b140"
      },
      "execution_count": null,
      "outputs": [
        {
          "output_type": "stream",
          "name": "stdout",
          "text": [
            "Index([1, 3, 4, 5, 7, 9], dtype='int64')\n",
            "Index([2, 6, 4, 5, 7, 11], dtype='int64')\n",
            "Index([0, 2, 4, 5, 7, 9], dtype='int64')\n",
            "Index([3, 7, 4, 5, 7, 11], dtype='int64')\n",
            "Index([3, 5, 0, 0, 0, 2], dtype='int64')\n"
          ]
        }
      ]
    },
    {
      "cell_type": "markdown",
      "source": [
        "6.Data visualization\n"
      ],
      "metadata": {
        "id": "FSBaRdVDnGmO"
      }
    },
    {
      "cell_type": "markdown",
      "source": [],
      "metadata": {
        "id": "iuIywpAz7WwN"
      }
    },
    {
      "cell_type": "code",
      "source": [
        "data=pd.Series([3,5,7,4,9,2])\n",
        "#data.plot()\n",
        "data.plot(kind=\"bar\");"
      ],
      "metadata": {
        "colab": {
          "base_uri": "https://localhost:8080/",
          "height": 425
        },
        "id": "qu_4YC_LnL8G",
        "outputId": "7e4ea693-82bb-4353-b756-f6a931766a07"
      },
      "execution_count": null,
      "outputs": [
        {
          "output_type": "display_data",
          "data": {
            "text/plain": [
              "<Figure size 640x480 with 1 Axes>"
            ],
            "image/png": "[encoded data removed]"
          },
          "metadata": {}
        }
      ]
    },
    {
      "cell_type": "code",
      "source": [
        "data=pd.Series([3,5,7,4,9,2])\n",
        "#data.plot()\n",
        "data.plot(kind=\"barh\");"
      ],
      "metadata": {
        "colab": {
          "base_uri": "https://localhost:8080/",
          "height": 430
        },
        "id": "_sKv2YuTnxTQ",
        "outputId": "845c0672-7d95-44f7-bd3b-30c94ee1d9fe"
      },
      "execution_count": null,
      "outputs": [
        {
          "output_type": "display_data",
          "data": {
            "text/plain": [
              "<Figure size 640x480 with 1 Axes>"
            ],
            "image/png": "[encoded data removed]"
          },
          "metadata": {}
        }
      ]
    },
    {
      "cell_type": "code",
      "source": [
        "data=pd.Series([3,5,7,4,9,2])\n",
        "#data.plot()\n",
        "data.plot(kind=\"pie\");"
      ],
      "metadata": {
        "colab": {
          "base_uri": "https://localhost:8080/",
          "height": 406
        },
        "id": "BV5JSiHInkWm",
        "outputId": "5f8e7200-9479-46cd-b746-1e06b27ad798"
      },
      "execution_count": null,
      "outputs": [
        {
          "output_type": "display_data",
          "data": {
            "text/plain": [
              "<Figure size 640x480 with 1 Axes>"
            ],
            "image/png": "[encoded data removed]"
          },
          "metadata": {}
        }
      ]
    },
    {
      "cell_type": "code",
      "source": [
        "data=pd.Series([3,5,7,4,9,2])\n",
        "#data.plot()\n",
        "data.plot(kind=\"line\");"
      ],
      "metadata": {
        "colab": {
          "base_uri": "https://localhost:8080/",
          "height": 430
        },
        "id": "RxKuVV7WnkFP",
        "outputId": "0f7aa689-cf7a-4ee2-d166-7b0122c912c0"
      },
      "execution_count": null,
      "outputs": [
        {
          "output_type": "display_data",
          "data": {
            "text/plain": [
              "<Figure size 640x480 with 1 Axes>"
            ],
            "image/png": "[encoded data removed]"
          },
          "metadata": {}
        }
      ]
    },
    {
      "cell_type": "code",
      "source": [
        "data=pd.Series([3,3,5,6,7,3,4,5,5,7,4,9,2])\n",
        "#data.plot()\n",
        "data.plot(kind=\"hist\");"
      ],
      "metadata": {
        "colab": {
          "base_uri": "https://localhost:8080/",
          "height": 430
        },
        "id": "-LMG-XmZnj1v",
        "outputId": "9dd53e67-de3f-491c-d8f9-98b5238fecca"
      },
      "execution_count": null,
      "outputs": [
        {
          "output_type": "display_data",
          "data": {
            "text/plain": [
              "<Figure size 640x480 with 1 Axes>"
            ],
            "image/png": "[encoded data removed]"
          },
          "metadata": {}
        }
      ]
    },
    {
      "cell_type": "code",
      "source": [
        "data=pd.Series([3,3,5,6,7,3,4,5,5,7,4,9,2])\n",
        "#data.plot()\n",
        "data.plot(kind=\"box\");"
      ],
      "metadata": {
        "colab": {
          "base_uri": "https://localhost:8080/",
          "height": 411
        },
        "id": "zwNi-n3HoGxP",
        "outputId": "4431374c-6a3d-4ba0-eccf-e5c533525619"
      },
      "execution_count": null,
      "outputs": [
        {
          "output_type": "display_data",
          "data": {
            "text/plain": [
              "<Figure size 640x480 with 1 Axes>"
            ],
            "image/png": "[encoded data removed]"
          },
          "metadata": {}
        }
      ]
    },
    {
      "cell_type": "code",
      "source": [
        "data=pd.Series([3,3,5,6,7,3,4,5,5,7,4,9,2])\n",
        "#data.plot()\n",
        "data.plot(kind=\"kde\");"
      ],
      "metadata": {
        "colab": {
          "base_uri": "https://localhost:8080/",
          "height": 430
        },
        "id": "lKvBXZMSoK6N",
        "outputId": "39fd3af0-499a-4a2b-8d84-6d8fecc7d848"
      },
      "execution_count": null,
      "outputs": [
        {
          "output_type": "display_data",
          "data": {
            "text/plain": [
              "<Figure size 640x480 with 1 Axes>"
            ],
            "image/png": "[encoded data removed]"
          },
          "metadata": {}
        }
      ]
    },
    {
      "cell_type": "code",
      "source": [
        "data=pd.Series([3,3,5,6,7,3,4,5,5,7,4,9,2])\n",
        "#data.plot()\n",
        "data.plot(kind=\"density\");"
      ],
      "metadata": {
        "colab": {
          "base_uri": "https://localhost:8080/",
          "height": 430
        },
        "id": "4qoxyv6LoTOl",
        "outputId": "0c4b40e2-4239-42f8-b9ea-7a4483897587"
      },
      "execution_count": null,
      "outputs": [
        {
          "output_type": "display_data",
          "data": {
            "text/plain": [
              "<Figure size 640x480 with 1 Axes>"
            ],
            "image/png": "[encoded data removed]"
          },
          "metadata": {}
        }
      ]
    },
    {
      "cell_type": "code",
      "source": [
        "data=pd.Series([3,3,5,6,7,3,4,5,5,7,4,9,2])\n",
        "#data.plot()\n",
        "data.plot(kind=\"area\");"
      ],
      "metadata": {
        "colab": {
          "base_uri": "https://localhost:8080/",
          "height": 430
        },
        "id": "9p4qVobkoUW-",
        "outputId": "0eb400e9-fa83-4632-cb05-8a5ffbd97479"
      },
      "execution_count": null,
      "outputs": [
        {
          "output_type": "display_data",
          "data": {
            "text/plain": [
              "<Figure size 640x480 with 1 Axes>"
            ],
            "image/png": "[encoded data removed]"
          },
          "metadata": {}
        }
      ]
    },
    {
      "cell_type": "markdown",
      "source": [
        "4.Dataframes"
      ],
      "metadata": {
        "id": "22IG3SUXotRW"
      }
    },
    {
      "cell_type": "code",
      "source": [
        "import pandas as pd\n",
        "w = pd.Series({'a':1 ,'b':2 ,'c':3 ,'d':4 ,'e':5})\n",
        "x = pd.Series({'a':6 ,'b':7 ,'c':8 ,'d':9 ,'e':10})\n",
        "y = pd.Series({'a':11 ,'b':12 ,'c':13 ,'d':14 ,'e':15})\n",
        "z = pd.Series({'a':16 ,'b':17 ,'c':18 ,'d':19 ,'e':20})\n",
        "grades = pd.DataFrame({'Math':w,'Physics':x,'French':y,'Chemistry':z})\n",
        "print(grades)"
      ],
      "metadata": {
        "colab": {
          "base_uri": "https://localhost:8080/"
        },
        "id": "azgvspwFozDN",
        "outputId": "0077fecd-fa79-4828-9565-736287d7add8"
      },
      "execution_count": null,
      "outputs": [
        {
          "output_type": "stream",
          "name": "stdout",
          "text": [
            "   Math  Physics  French  Chemistry\n",
            "a     1        6      11         16\n",
            "b     2        7      12         17\n",
            "c     3        8      13         18\n",
            "d     4        9      14         19\n",
            "e     5       10      15         20\n"
          ]
        }
      ]
    },
    {
      "cell_type": "code",
      "source": [
        "data1 = pd.Index([3,5,6,0,18,38,48,54,3,5])\n",
        "data2 = pd.Index([13,15,16,10,118,138,148,154,13,15])\n",
        "row_names = [\"Row no 1 \", \"Row no 2 \", \"Row no 3 \", \"Row no 4 \", \"Row no 5 \"]\n",
        "df= pd.DataFrame({\"Column No 1\":data1,\"Column No 2\":data2},index=row_names)\n",
        "df\n"
      ],
      "metadata": {
        "colab": {
          "base_uri": "https://localhost:8080/",
          "height": 206
        },
        "id": "HnamDMdusoNb",
        "outputId": "a4f22686-1735-44ab-d273-d1a765530a4e"
      },
      "execution_count": null,
      "outputs": [
        {
          "output_type": "execute_result",
          "data": {
            "text/plain": [
              "           Column No 1  Column No 2\n",
              "                     3           13\n",
              "                     5           15\n",
              "                     6           16\n",
              "                     0           10\n",
              "                    18          118\n",
              "Row no 1            38          138\n",
              "Row no 2            48          148\n",
              "Row no 3            54          154\n",
              "Row no 4             3           13\n",
              "Row no 5             5           15"
            ],
            "text/html": [
              "\n",
              "  <div id=\"df-9668834c-7b3e-41ee-884d-19d9e6e531d4\" class=\"colab-df-container\">\n",
              "    <div>\n",
              "<style scoped>\n",
              "    .dataframe tbody tr th:only-of-type {\n",
              "        vertical-align: middle;\n",
              "    }\n",
              "\n",
              "    .dataframe tbody tr th {\n",
              "        vertical-align: top;\n",
              "    }\n",
              "\n",
              "    .dataframe thead th {\n",
              "        text-align: right;\n",
              "    }\n",
              "</style>\n",
              "<table border=\"1\" class=\"dataframe\">\n",
              "  <thead>\n",
              "    <tr style=\"text-align: right;\">\n",
              "      <th></th>\n",
              "      <th>Column No 1</th>\n",
              "      <th>Column No 2</th>\n",
              "    </tr>\n",
              "  </thead>\n",
              "  <tbody>\n",
              "    <tr>\n",
              "      <th>Row no 1</th>\n",
              "      <td>3</td>\n",
              "      <td>13</td>\n",
              "    </tr>\n",
              "    <tr>\n",
              "      <th>Row no 2</th>\n",
              "      <td>5</td>\n",
              "      <td>15</td>\n",
              "    </tr>\n",
              "    <tr>\n",
              "      <th>Row no 3</th>\n",
              "      <td>6</td>\n",
              "      <td>16</td>\n",
              "    </tr>\n",
              "    <tr>\n",
              "      <th>Row no 4</th>\n",
              "      <td>0</td>\n",
              "      <td>10</td>\n",
              "    </tr>\n",
              "    <tr>\n",
              "      <th>Row no 5</th>\n",
              "      <td>18</td>\n",
              "      <td>118</td>\n",
              "    </tr>\n",
              "  </tbody>\n",
              "</table>\n",
              "</div>\n",
              "    <div class=\"colab-df-buttons\">\n",
              "\n",
              "  <div class=\"colab-df-container\">\n",
              "    <button class=\"colab-df-convert\" onclick=\"convertToInteractive('df-9668834c-7b3e-41ee-884d-19d9e6e531d4')\"\n",
              "            title=\"Convert this dataframe to an interactive table.\"\n",
              "            style=\"display:none;\">\n",
              "\n",
              "  <svg xmlns=\"http://www.w3.org/2000/svg\" height=\"24px\" viewBox=\"0 -960 960 960\">\n",
              "    <path d=\"M120-120v-720h720v720H120Zm60-500h600v-160H180v160Zm220 220h160v-160H400v160Zm0 220h160v-160H400v160ZM180-400h160v-160H180v160Zm440 0h160v-160H620v160ZM180-180h160v-160H180v160Zm440 0h160v-160H620v160Z\"/>\n",
              "  </svg>\n",
              "    </button>\n",
              "\n",
              "  <style>\n",
              "    .colab-df-container {\n",
              "      display:flex;\n",
              "      gap: 12px;\n",
              "    }\n",
              "\n",
              "    .colab-df-convert {\n",
              "      background-color: #E8F0FE;\n",
              "      border: none;\n",
              "      border-radius: 50%;\n",
              "      cursor: pointer;\n",
              "      display: none;\n",
              "      fill: #1967D2;\n",
              "      height: 32px;\n",
              "      padding: 0 0 0 0;\n",
              "      width: 32px;\n",
              "    }\n",
              "\n",
              "    .colab-df-convert:hover {\n",
              "      background-color: #E2EBFA;\n",
              "      box-shadow: 0px 1px 2px rgba(60, 64, 67, 0.3), 0px 1px 3px 1px rgba(60, 64, 67, 0.15);\n",
              "      fill: #174EA6;\n",
              "    }\n",
              "\n",
              "    .colab-df-buttons div {\n",
              "      margin-bottom: 4px;\n",
              "    }\n",
              "\n",
              "    [theme=dark] .colab-df-convert {\n",
              "      background-color: #3B4455;\n",
              "      fill: #D2E3FC;\n",
              "    }\n",
              "\n",
              "    [theme=dark] .colab-df-convert:hover {\n",
              "      background-color: #434B5C;\n",
              "      box-shadow: 0px 1px 3px 1px rgba(0, 0, 0, 0.15);\n",
              "      filter: drop-shadow(0px 1px 2px rgba(0, 0, 0, 0.3));\n",
              "      fill: #FFFFFF;\n",
              "    }\n",
              "  </style>\n",
              "\n",
              "    <script>\n",
              "      const buttonEl =\n",
              "        document.querySelector('#df-9668834c-7b3e-41ee-884d-19d9e6e531d4 button.colab-df-convert');\n",
              "      buttonEl.style.display =\n",
              "        google.colab.kernel.accessAllowed ? 'block' : 'none';\n",
              "\n",
              "      async function convertToInteractive(key) {\n",
              "        const element = document.querySelector('#df-9668834c-7b3e-41ee-884d-19d9e6e531d4');\n",
              "        const dataTable =\n",
              "          await google.colab.kernel.invokeFunction('convertToInteractive',\n",
              "                                                    [key], {});\n",
              "        if (!dataTable) return;\n",
              "\n",
              "        const docLinkHtml = 'Like what you see? Visit the ' +\n",
              "          '<a target=\"_blank\" href=https://colab.research.google.com/notebooks/data_table.ipynb>data table notebook</a>'\n",
              "          + ' to learn more about interactive tables.';\n",
              "        element.innerHTML = '';\n",
              "        dataTable['output_type'] = 'display_data';\n",
              "        await google.colab.output.renderOutput(dataTable, element);\n",
              "        const docLink = document.createElement('div');\n",
              "        docLink.innerHTML = docLinkHtml;\n",
              "        element.appendChild(docLink);\n",
              "      }\n",
              "    </script>\n",
              "  </div>\n",
              "\n",
              "\n",
              "    <div id=\"df-3b9316ce-e1e2-4623-8f73-feddf989138f\">\n",
              "      <button class=\"colab-df-quickchart\" onclick=\"quickchart('df-3b9316ce-e1e2-4623-8f73-feddf989138f')\"\n",
              "                title=\"Suggest charts\"\n",
              "                style=\"display:none;\">\n",
              "\n",
              "<svg xmlns=\"http://www.w3.org/2000/svg\" height=\"24px\"viewBox=\"0 0 24 24\"\n",
              "     width=\"24px\">\n",
              "    <g>\n",
              "        <path d=\"M19 3H5c-1.1 0-2 .9-2 2v14c0 1.1.9 2 2 2h14c1.1 0 2-.9 2-2V5c0-1.1-.9-2-2-2zM9 17H7v-7h2v7zm4 0h-2V7h2v10zm4 0h-2v-4h2v4z\"/>\n",
              "    </g>\n",
              "</svg>\n",
              "      </button>\n",
              "\n",
              "<style>\n",
              "  .colab-df-quickchart {\n",
              "      --bg-color: #E8F0FE;\n",
              "      --fill-color: #1967D2;\n",
              "      --hover-bg-color: #E2EBFA;\n",
              "      --hover-fill-color: #174EA6;\n",
              "      --disabled-fill-color: #AAA;\n",
              "      --disabled-bg-color: #DDD;\n",
              "  }\n",
              "\n",
              "  [theme=dark] .colab-df-quickchart {\n",
              "      --bg-color: #3B4455;\n",
              "      --fill-color: #D2E3FC;\n",
              "      --hover-bg-color: #434B5C;\n",
              "      --hover-fill-color: #FFFFFF;\n",
              "      --disabled-bg-color: #3B4455;\n",
              "      --disabled-fill-color: #666;\n",
              "  }\n",
              "\n",
              "  .colab-df-quickchart {\n",
              "    background-color: var(--bg-color);\n",
              "    border: none;\n",
              "    border-radius: 50%;\n",
              "    cursor: pointer;\n",
              "    display: none;\n",
              "    fill: var(--fill-color);\n",
              "    height: 32px;\n",
              "    padding: 0;\n",
              "    width: 32px;\n",
              "  }\n",
              "\n",
              "  .colab-df-quickchart:hover {\n",
              "    background-color: var(--hover-bg-color);\n",
              "    box-shadow: 0 1px 2px rgba(60, 64, 67, 0.3), 0 1px 3px 1px rgba(60, 64, 67, 0.15);\n",
              "    fill: var(--button-hover-fill-color);\n",
              "  }\n",
              "\n",
              "  .colab-df-quickchart-complete:disabled,\n",
              "  .colab-df-quickchart-complete:disabled:hover {\n",
              "    background-color: var(--disabled-bg-color);\n",
              "    fill: var(--disabled-fill-color);\n",
              "    box-shadow: none;\n",
              "  }\n",
              "\n",
              "  .colab-df-spinner {\n",
              "    border: 2px solid var(--fill-color);\n",
              "    border-color: transparent;\n",
              "    border-bottom-color: var(--fill-color);\n",
              "    animation:\n",
              "      spin 1s steps(1) infinite;\n",
              "  }\n",
              "\n",
              "  @keyframes spin {\n",
              "    0% {\n",
              "      border-color: transparent;\n",
              "      border-bottom-color: var(--fill-color);\n",
              "      border-left-color: var(--fill-color);\n",
              "    }\n",
              "    20% {\n",
              "      border-color: transparent;\n",
              "      border-left-color: var(--fill-color);\n",
              "      border-top-color: var(--fill-color);\n",
              "    }\n",
              "    30% {\n",
              "      border-color: transparent;\n",
              "      border-left-color: var(--fill-color);\n",
              "      border-top-color: var(--fill-color);\n",
              "      border-right-color: var(--fill-color);\n",
              "    }\n",
              "    40% {\n",
              "      border-color: transparent;\n",
              "      border-right-color: var(--fill-color);\n",
              "      border-top-color: var(--fill-color);\n",
              "    }\n",
              "    60% {\n",
              "      border-color: transparent;\n",
              "      border-right-color: var(--fill-color);\n",
              "    }\n",
              "    80% {\n",
              "      border-color: transparent;\n",
              "      border-right-color: var(--fill-color);\n",
              "      border-bottom-color: var(--fill-color);\n",
              "    }\n",
              "    90% {\n",
              "      border-color: transparent;\n",
              "      border-bottom-color: var(--fill-color);\n",
              "    }\n",
              "  }\n",
              "</style>\n",
              "\n",
              "      <script>\n",
              "        async function quickchart(key) {\n",
              "          const quickchartButtonEl =\n",
              "            document.querySelector('#' + key + ' button');\n",
              "          quickchartButtonEl.disabled = true;  // To prevent multiple clicks.\n",
              "          quickchartButtonEl.classList.add('colab-df-spinner');\n",
              "          try {\n",
              "            const charts = await google.colab.kernel.invokeFunction(\n",
              "                'suggestCharts', [key], {});\n",
              "          } catch (error) {\n",
              "            console.error('Error during call to suggestCharts:', error);\n",
              "          }\n",
              "          quickchartButtonEl.classList.remove('colab-df-spinner');\n",
              "          quickchartButtonEl.classList.add('colab-df-quickchart-complete');\n",
              "        }\n",
              "        (() => {\n",
              "          let quickchartButtonEl =\n",
              "            document.querySelector('#df-3b9316ce-e1e2-4623-8f73-feddf989138f button');\n",
              "          quickchartButtonEl.style.display =\n",
              "            google.colab.kernel.accessAllowed ? 'block' : 'none';\n",
              "        })();\n",
              "      </script>\n",
              "    </div>\n",
              "\n",
              "  <div id=\"id_44b7c7b5-5ee9-476a-bc80-e96b247dffe5\">\n",
              "    <style>\n",
              "      .colab-df-generate {\n",
              "        background-color: #E8F0FE;\n",
              "        border: none;\n",
              "        border-radius: 50%;\n",
              "        cursor: pointer;\n",
              "        display: none;\n",
              "        fill: #1967D2;\n",
              "        height: 32px;\n",
              "        padding: 0 0 0 0;\n",
              "        width: 32px;\n",
              "      }\n",
              "\n",
              "      .colab-df-generate:hover {\n",
              "        background-color: #E2EBFA;\n",
              "        box-shadow: 0px 1px 2px rgba(60, 64, 67, 0.3), 0px 1px 3px 1px rgba(60, 64, 67, 0.15);\n",
              "        fill: #174EA6;\n",
              "      }\n",
              "\n",
              "      [theme=dark] .colab-df-generate {\n",
              "        background-color: #3B4455;\n",
              "        fill: #D2E3FC;\n",
              "      }\n",
              "\n",
              "      [theme=dark] .colab-df-generate:hover {\n",
              "        background-color: #434B5C;\n",
              "        box-shadow: 0px 1px 3px 1px rgba(0, 0, 0, 0.15);\n",
              "        filter: drop-shadow(0px 1px 2px rgba(0, 0, 0, 0.3));\n",
              "        fill: #FFFFFF;\n",
              "      }\n",
              "    </style>\n",
              "    <button class=\"colab-df-generate\" onclick=\"generateWithVariable('df')\"\n",
              "            title=\"Generate code using this dataframe.\"\n",
              "            style=\"display:none;\">\n",
              "\n",
              "  <svg xmlns=\"http://www.w3.org/2000/svg\" height=\"24px\"viewBox=\"0 0 24 24\"\n",
              "       width=\"24px\">\n",
              "    <path d=\"M7,19H8.4L18.45,9,17,7.55,7,17.6ZM5,21V16.75L18.45,3.32a2,2,0,0,1,2.83,0l1.4,1.43a1.91,1.91,0,0,1,.58,1.4,1.91,1.91,0,0,1-.58,1.4L9.25,21ZM18.45,9,17,7.55Zm-12,3A5.31,5.31,0,0,0,4.9,8.1,5.31,5.31,0,0,0,1,6.5,5.31,5.31,0,0,0,4.9,4.9,5.31,5.31,0,0,0,6.5,1,5.31,5.31,0,0,0,8.1,4.9,5.31,5.31,0,0,0,12,6.5,5.46,5.46,0,0,0,6.5,12Z\"/>\n",
              "  </svg>\n",
              "    </button>\n",
              "    <script>\n",
              "      (() => {\n",
              "      const buttonEl =\n",
              "        document.querySelector('#id_44b7c7b5-5ee9-476a-bc80-e96b247dffe5 button.colab-df-generate');\n",
              "      buttonEl.style.display =\n",
              "        google.colab.kernel.accessAllowed ? 'block' : 'none';\n",
              "\n",
              "      buttonEl.onclick = () => {\n",
              "        google.colab.notebook.generateWithVariable('df');\n",
              "      }\n",
              "      })();\n",
              "    </script>\n",
              "  </div>\n",
              "\n",
              "    </div>\n",
              "  </div>\n"
            ],
            "application/vnd.google.colaboratory.intrinsic+json": {
              "type": "dataframe",
              "variable_name": "df",
              "repr_error": "Length of values (10) does not match length of index (5)"
            }
          },
          "metadata": {},
          "execution_count": 20
        }
      ]
    },
    {
      "cell_type": "code",
      "source": [
        "data = [{'square': i**2} for i in range(10)]\n",
        "df = pd.DataFrame(data)\n",
        "print(df)"
      ],
      "metadata": {
        "colab": {
          "base_uri": "https://localhost:8080/"
        },
        "id": "TkdEt0qYs8qg",
        "outputId": "58476834-5726-4971-faaa-8309e0ac1fee"
      },
      "execution_count": null,
      "outputs": [
        {
          "output_type": "stream",
          "name": "stdout",
          "text": [
            "   square\n",
            "0       0\n",
            "1       1\n",
            "2       4\n",
            "3       9\n",
            "4      16\n",
            "5      25\n",
            "6      36\n",
            "7      49\n",
            "8      64\n",
            "9      81\n"
          ]
        }
      ]
    },
    {
      "cell_type": "code",
      "source": [
        "data = [{'square': i**2,'cube': i**3\n",
        "        ,'root': i**0.5} for i in range(10)]\n",
        "df = pd.DataFrame(data)\n",
        "print(df)"
      ],
      "metadata": {
        "colab": {
          "base_uri": "https://localhost:8080/"
        },
        "id": "TkyXadT3tFYA",
        "outputId": "6150e716-0063-47bb-e1fa-cdccf30e2b21"
      },
      "execution_count": null,
      "outputs": [
        {
          "output_type": "stream",
          "name": "stdout",
          "text": [
            "   square  cube      root\n",
            "0       0     0  0.000000\n",
            "1       1     1  1.000000\n",
            "2       4     8  1.414214\n",
            "3       9    27  1.732051\n",
            "4      16    64  2.000000\n",
            "5      25   125  2.236068\n",
            "6      36   216  2.449490\n",
            "7      49   343  2.645751\n",
            "8      64   512  2.828427\n",
            "9      81   729  3.000000\n"
          ]
        }
      ]
    },
    {
      "cell_type": "code",
      "source": [
        "d = pd.DataFrame([{'a':1,'b':2},{'b':3,'c':4},{'d':5,'e':6}])\n",
        "print(d)"
      ],
      "metadata": {
        "colab": {
          "base_uri": "https://localhost:8080/"
        },
        "id": "ywFZGoQ8tS2R",
        "outputId": "002a511a-1c47-4703-f743-79760015a912"
      },
      "execution_count": null,
      "outputs": [
        {
          "output_type": "stream",
          "name": "stdout",
          "text": [
            "     a    b    c    d    e\n",
            "0  1.0  2.0  NaN  NaN  NaN\n",
            "1  NaN  3.0  4.0  NaN  NaN\n",
            "2  NaN  NaN  NaN  5.0  6.0\n"
          ]
        }
      ]
    },
    {
      "cell_type": "code",
      "source": [
        "import pandas as pd\n",
        "import numpy as np\n",
        "d =pd.DataFrame(np.random.rand(3, 2),\n",
        "               columns=['food', 'drink'],index=['a', 'b', 'c'])\n",
        "print(d)"
      ],
      "metadata": {
        "colab": {
          "base_uri": "https://localhost:8080/"
        },
        "id": "UXHhPUpjt6aC",
        "outputId": "6e7e6374-d784-4780-b036-f2920ed5a5f6"
      },
      "execution_count": null,
      "outputs": [
        {
          "output_type": "stream",
          "name": "stdout",
          "text": [
            "       food     drink\n",
            "a  0.569690  0.562310\n",
            "b  0.263727  0.357898\n",
            "c  0.797009  0.312465\n"
          ]
        }
      ]
    },
    {
      "cell_type": "code",
      "source": [
        "import pandas as pd\n",
        "def make_df(cols, ind):\n",
        "   data = {c: [str(c) + str(i) for i in ind] for c in cols}\n",
        "   return pd.DataFrame(data, ind)\n",
        "print(make_df('ABC', range(3)))"
      ],
      "metadata": {
        "colab": {
          "base_uri": "https://localhost:8080/"
        },
        "id": "V6spFXPdua_e",
        "outputId": "0bea6a74-0c6f-414f-9bcb-a9786bc0e00a"
      },
      "execution_count": null,
      "outputs": [
        {
          "output_type": "stream",
          "name": "stdout",
          "text": [
            "    A   B   C\n",
            "0  A0  B0  C0\n",
            "1  A1  B1  C1\n",
            "2  A2  B2  C2\n"
          ]
        }
      ]
    },
    {
      "cell_type": "markdown",
      "source": [
        "4.2 Basic Operations on DataFrame  4.2.1 Slicing or accessing columns in the DF\n"
      ],
      "metadata": {
        "id": "LJKXuXF_vGAW"
      }
    },
    {
      "cell_type": "code",
      "source": [
        "import pandas as pd\n",
        "w = pd.Series({'a':1 ,'b':2 ,'c':3 ,'d':4 ,'e':5})\n",
        "x = pd.Series({'a':6 ,'b':7 ,'c':8 ,'d':9 ,'e':10})\n",
        "y = pd.Series({'a':11 ,'b':12 ,'c':13 ,'d':14 ,'e':15})\n",
        "z = pd.Series({'a':16 ,'b':17 ,'c':18 ,'d':19 ,'e':20})\n",
        "grades = pd.DataFrame({'Math':w,'Physics':x,'French':y,'Chemistry':z})\n",
        "print(grades)\n",
        "print(grades['Chemistry'])"
      ],
      "metadata": {
        "colab": {
          "base_uri": "https://localhost:8080/"
        },
        "id": "RW_cmWSCvE59",
        "outputId": "3250fdcd-7181-438f-f9c5-bbcdfaf9d82f"
      },
      "execution_count": null,
      "outputs": [
        {
          "output_type": "stream",
          "name": "stdout",
          "text": [
            "   Math  Physics  French  Chemistry\n",
            "a     1        6      11         16\n",
            "b     2        7      12         17\n",
            "c     3        8      13         18\n",
            "d     4        9      14         19\n",
            "e     5       10      15         20\n",
            "a    16\n",
            "b    17\n",
            "c    18\n",
            "d    19\n",
            "e    20\n",
            "Name: Chemistry, dtype: int64\n"
          ]
        }
      ]
    },
    {
      "cell_type": "code",
      "source": [
        "\n",
        "import pandas as pd\n",
        "w = pd.Series({'a':1 ,'b':2 ,'c':3 ,'d':4 ,'e':5})\n",
        "x = pd.Series({'a':6 ,'b':7 ,'c':8 ,'d':9 ,'e':10})\n",
        "y = pd.Series({'a':11 ,'b':12 ,'c':13 ,'d':14 ,'e':15})\n",
        "z = pd.Series({'a':16 ,'b':17 ,'c':18 ,'d':19 ,'e':20})\n",
        "grades = pd.DataFrame({'Math':w,'Physics':x,'French':y,'Chemistry':z})\n",
        "print(grades.T)"
      ],
      "metadata": {
        "colab": {
          "base_uri": "https://localhost:8080/"
        },
        "id": "_hnClfkSvtc5",
        "outputId": "8b1c6306-48af-4c37-fd8d-f36135794895"
      },
      "execution_count": null,
      "outputs": [
        {
          "output_type": "stream",
          "name": "stdout",
          "text": [
            "            a   b   c   d   e\n",
            "Math        1   2   3   4   5\n",
            "Physics     6   7   8   9  10\n",
            "French     11  12  13  14  15\n",
            "Chemistry  16  17  18  19  20\n"
          ]
        }
      ]
    },
    {
      "cell_type": "code",
      "source": [
        "import pandas as pd\n",
        "w = pd.Series({'a':1 ,'b':2 ,'c':3 ,'d':4 ,'e':5})\n",
        "x = pd.Series({'a':6 ,'b':7 ,'c':8 ,'d':9 ,'e':10})\n",
        "y = pd.Series({'a':11 ,'b':12 ,'c':13 ,'d':14 ,'e':15})\n",
        "z = pd.Series({'a':16 ,'b':17 ,'c':18 ,'d':19 ,'e':20})\n",
        "grades = pd.DataFrame({'Math':w,'Physics':x,'French':y,'Chemistry':z})\n",
        "print(grades.keys())\n",
        "print(grades.values)"
      ],
      "metadata": {
        "id": "fENKINeNvzfp"
      },
      "execution_count": null,
      "outputs": []
    },
    {
      "cell_type": "code",
      "source": [
        "import pandas as pd\n",
        "w = pd.Series({'a':1 ,'b':2 ,'c':3 ,'d':4 ,'e':5})\n",
        "x = pd.Series({'a':6 ,'b':7 ,'c':8 ,'d':9 ,'e':10})\n",
        "y = pd.Series({'a':11 ,'b':12 ,'c':13 ,'d':14 ,'e':15})\n",
        "z = pd.Series({'a':16 ,'b':17 ,'c':18 ,'d':19 ,'e':20})\n",
        "grades = pd.DataFrame({'Math':w,'Physics':x,'French':y,'Chemistry':z})\n",
        "print('Math' in grades.keys())\n",
        "print('math' in grades.keys())\n",
        "print(12 in grades.values)\n",
        "print(55 in grades.values)"
      ],
      "metadata": {
        "colab": {
          "base_uri": "https://localhost:8080/"
        },
        "id": "jeb_y3C4wK43",
        "outputId": "4a4bd660-de34-4684-d7a2-a3c92fc34e3c"
      },
      "execution_count": null,
      "outputs": [
        {
          "output_type": "stream",
          "name": "stdout",
          "text": [
            "True\n",
            "False\n",
            "True\n",
            "False\n"
          ]
        }
      ]
    },
    {
      "cell_type": "code",
      "source": [
        "import pandas as pd\n",
        "w = pd.Series({'a':1 ,'b':2 ,'c':3 ,'d':4 ,'e':5})\n",
        "x = pd.Series({'a':6 ,'b':7 ,'c':8 ,'d':9 ,'e':10})\n",
        "y = pd.Series({'a':11 ,'b':12 ,'c':13 ,'d':14 ,'e':15})\n",
        "z = pd.Series({'a':16 ,'b':17 ,'c':18 ,'d':19 ,'e':20})\n",
        "grades = pd.DataFrame({'Math':w,'Physics':x,'French':y,'Chemistry':z})\n",
        "print(grades.stack())"
      ],
      "metadata": {
        "colab": {
          "base_uri": "https://localhost:8080/"
        },
        "id": "oFTxPObbwZ51",
        "outputId": "65293528-9d75-448f-ea5e-06ec6d473d59"
      },
      "execution_count": null,
      "outputs": [
        {
          "output_type": "stream",
          "name": "stdout",
          "text": [
            "a  Math          1\n",
            "   Physics       6\n",
            "   French       11\n",
            "   Chemistry    16\n",
            "b  Math          2\n",
            "   Physics       7\n",
            "   French       12\n",
            "   Chemistry    17\n",
            "c  Math          3\n",
            "   Physics       8\n",
            "   French       13\n",
            "   Chemistry    18\n",
            "d  Math          4\n",
            "   Physics       9\n",
            "   French       14\n",
            "   Chemistry    19\n",
            "e  Math          5\n",
            "   Physics      10\n",
            "   French       15\n",
            "   Chemistry    20\n",
            "dtype: int64\n"
          ]
        }
      ]
    },
    {
      "cell_type": "code",
      "source": [
        "import pandas as pd\n",
        "w = pd.Series({'a':1 ,'b':2 ,'c':3 ,'d':4 ,'e':5})\n",
        "x = pd.Series({'a':6 ,'b':7 ,'c':8 ,'d':9 ,'e':10})\n",
        "y = pd.Series({'a':11 ,'b':12 ,'c':13 ,'d':14 ,'e':15})\n",
        "z = pd.Series({'a':16 ,'b':17 ,'c':18 ,'d':19 ,'e':20})\n",
        "grades = pd.DataFrame({'Math':w,'Physics':x,'French':y,'Chemistry':z})\n",
        "print(grades.iloc[:3, :2])"
      ],
      "metadata": {
        "colab": {
          "base_uri": "https://localhost:8080/"
        },
        "id": "Hq8FzXodwtQY",
        "outputId": "3ec68f5b-c212-4dec-9ced-330b4dd52743"
      },
      "execution_count": null,
      "outputs": [
        {
          "output_type": "stream",
          "name": "stdout",
          "text": [
            "   Math  Physics\n",
            "a     1        6\n",
            "b     2        7\n",
            "c     3        8\n"
          ]
        }
      ]
    },
    {
      "cell_type": "code",
      "source": [
        "import pandas as pd\n",
        "w = pd.Series({'a':1 ,'b':2 ,'c':3 ,'d':4 ,'e':5})\n",
        "x = pd.Series({'a':6 ,'b':7 ,'c':8 ,'d':9 ,'e':10})\n",
        "y = pd.Series({'a':11 ,'b':12 ,'c':13 ,'d':14 ,'e':15})\n",
        "z = pd.Series({'a':16 ,'b':17 ,'c':18 ,'d':19 ,'e':20})\n",
        "grades = pd.DataFrame({'Math':w,'Physics':x,'French':y,'Chemistry':z})\n",
        "print(grades.loc['b':'c', 'Math':])"
      ],
      "metadata": {
        "colab": {
          "base_uri": "https://localhost:8080/"
        },
        "id": "ORBbZU8BxI_7",
        "outputId": "879d1ff9-052c-41af-f53d-6cea706e26d0"
      },
      "execution_count": null,
      "outputs": [
        {
          "output_type": "stream",
          "name": "stdout",
          "text": [
            "   Math  Physics  French  Chemistry\n",
            "b     2        7      12         17\n",
            "c     3        8      13         18\n"
          ]
        }
      ]
    },
    {
      "cell_type": "code",
      "source": [
        "import pandas as pd\n",
        "w = pd.Series({'a':1 ,'b':2 ,'c':3 ,'d':4 ,'e':5})\n",
        "x = pd.Series({'a':6 ,'b':7 ,'c':8 ,'d':9 ,'e':10})\n",
        "y = pd.Series({'a':11 ,'b':12 ,'c':13 ,'d':14 ,'e':15})\n",
        "z = pd.Series({'a':16 ,'b':17 ,'c':18 ,'d':19 ,'e':20})\n",
        "grades = pd.DataFrame({'Math':w,'Physics':x,'French':y,'Chemistry':z})\n",
        "print(grades.loc[grades.Math >3])"
      ],
      "metadata": {
        "colab": {
          "base_uri": "https://localhost:8080/"
        },
        "id": "zc71UvYnxQKg",
        "outputId": "8e0cdd66-1b85-4c09-b29c-2a6b7987a5bd"
      },
      "execution_count": null,
      "outputs": [
        {
          "output_type": "stream",
          "name": "stdout",
          "text": [
            "   Math  Physics  French  Chemistry\n",
            "d     4        9      14         19\n",
            "e     5       10      15         20\n"
          ]
        }
      ]
    },
    {
      "cell_type": "code",
      "source": [
        "import pandas as pd\n",
        "w = pd.Series({'a':1 ,'b':2 ,'c':3 ,'d':4 ,'e':5})\n",
        "x = pd.Series({'a':6 ,'b':7 ,'c':8 ,'d':9 ,'e':10})\n",
        "y = pd.Series({'a':11 ,'b':12 ,'c':13 ,'d':14 ,'e':15})\n",
        "z = pd.Series({'a':16 ,'b':17 ,'c':18 ,'d':19 ,'e':20})\n",
        "grades = pd.DataFrame({'Math':w,'Physics':x,'French':y,'Chemistry':z})\n",
        "print(grades.loc[grades.Math >3,['French' ,'Math']])"
      ],
      "metadata": {
        "colab": {
          "base_uri": "https://localhost:8080/"
        },
        "id": "69qXT2ZTxioq",
        "outputId": "4413f2d0-38ed-488b-fe33-f8fd3aa42812"
      },
      "execution_count": null,
      "outputs": [
        {
          "output_type": "stream",
          "name": "stdout",
          "text": [
            "   French  Math\n",
            "d      14     4\n",
            "e      15     5\n"
          ]
        }
      ]
    },
    {
      "cell_type": "code",
      "source": [
        "import pandas as pd\n",
        "w = pd.Series({'a':1 ,'b':2 ,'c':3 ,'d':4 ,'e':5})\n",
        "x = pd.Series({'a':6 ,'b':7 ,'c':8 ,'d':9 ,'e':10})\n",
        "y = pd.Series({'a':11 ,'b':12 ,'c':13 ,'d':14 ,'e':15})\n",
        "z = pd.Series({'a':16 ,'b':17 ,'c':18 ,'d':19 ,'e':20})\n",
        "grades = pd.DataFrame({'Math':w,'Physics':x,'French':y,'Chemistry':z})\n",
        "print(grades['Math'])"
      ],
      "metadata": {
        "colab": {
          "base_uri": "https://localhost:8080/"
        },
        "id": "RJceuSZ8x0GB",
        "outputId": "ff723d4d-856d-4650-ff54-f1b07bd84754"
      },
      "execution_count": null,
      "outputs": [
        {
          "output_type": "stream",
          "name": "stdout",
          "text": [
            "a    1\n",
            "b    2\n",
            "c    3\n",
            "d    4\n",
            "e    5\n",
            "Name: Math, dtype: int64\n"
          ]
        }
      ]
    },
    {
      "cell_type": "code",
      "source": [
        "import pandas as pd\n",
        "df1 = pd.DataFrame({'employee': ['Bob', 'Jake', 'Lisa', 'Sue'],\n",
        "                   'group': ['Accounting', 'Engineering',\n",
        "                             'Engineering', 'HR']})\n",
        "df2 = pd.DataFrame({'employee': ['Lisa', 'Bob', 'Jake', 'Sue'],\n",
        "                   'hire_date': [2004, 2008, 2012, 2014]})\n",
        "df3 = pd.DataFrame({'name': ['Bob', 'Jake', 'Lisa', 'Sue'],\n",
        "                   'salary': [70000, 80000, 120000, 90000]})\n",
        "print(df1)\n",
        "df2 = df1.set_index('employee')\n",
        "print(df2)"
      ],
      "metadata": {
        "colab": {
          "base_uri": "https://localhost:8080/"
        },
        "id": "gAc8MdOfyAxz",
        "outputId": "ebe2cf5f-1af5-446d-f77f-a8438db125c8"
      },
      "execution_count": null,
      "outputs": [
        {
          "output_type": "stream",
          "name": "stdout",
          "text": [
            "  employee        group\n",
            "0      Bob   Accounting\n",
            "1     Jake  Engineering\n",
            "2     Lisa  Engineering\n",
            "3      Sue           HR\n",
            "                group\n",
            "employee             \n",
            "Bob        Accounting\n",
            "Jake      Engineering\n",
            "Lisa      Engineering\n",
            "Sue                HR\n"
          ]
        }
      ]
    },
    {
      "cell_type": "code",
      "source": [
        "import pandas as pd\n",
        "w = pd.Series({'a':1 ,'b':2 ,'c':3 ,'d':4 ,'e':5})\n",
        "x = pd.Series({'a':6 ,'b':7 ,'c':8 ,'d':9 ,'e':10})\n",
        "y = pd.Series({'a':11 ,'b':12 ,'c':13 ,'d':14 ,'e':15})\n",
        "z = pd.Series({'a':16 ,'b':17 ,'c':18 ,'d':19 ,'e':20})\n",
        "grades = pd.DataFrame({'Math':w,'Physics':x,'French':y,'Chemistry':z})\n",
        "print(grades.sort_values(['Math'],ascending= False))\n",
        "print(grades.sort_values(['French'],ascending= True))"
      ],
      "metadata": {
        "colab": {
          "base_uri": "https://localhost:8080/"
        },
        "id": "sd_QzVBXyF60",
        "outputId": "bb6da637-80eb-4c46-e9c6-d9d9f2aaeb83"
      },
      "execution_count": null,
      "outputs": [
        {
          "output_type": "stream",
          "name": "stdout",
          "text": [
            "   Math  Physics  French  Chemistry\n",
            "e     5       10      15         20\n",
            "d     4        9      14         19\n",
            "c     3        8      13         18\n",
            "b     2        7      12         17\n",
            "a     1        6      11         16\n",
            "   Math  Physics  French  Chemistry\n",
            "a     1        6      11         16\n",
            "b     2        7      12         17\n",
            "c     3        8      13         18\n",
            "d     4        9      14         19\n",
            "e     5       10      15         20\n"
          ]
        }
      ]
    },
    {
      "cell_type": "code",
      "source": [
        "import pandas as pd\n",
        "w = pd.Series({'a':1 ,'b':2 ,'c':3 ,'d':4 ,'e':5})\n",
        "x = pd.Series({'a':6 ,'b':7 ,'c':8 ,'d':9 ,'e':10})\n",
        "y = pd.Series({'a':11 ,'b':12 ,'c':13 ,'d':14 ,'e':15})\n",
        "z = pd.Series({'a':16 ,'b':17 ,'c':18 ,'d':19 ,'e':20})\n",
        "grades = pd.DataFrame({'Math':w,'Physics':x,'French':y,'Chemistry':z})\n",
        "print(\"The max. for DF all columns\\n\", grades.max())\n",
        "print(\"The min. for DF all columns\\n \",grades.min())\n",
        "print(\"The mean for DF all columns\\n \",grades.mean())\n",
        "print(\"The std. for DF all columns\\n \",grades.std())\n"
      ],
      "metadata": {
        "colab": {
          "base_uri": "https://localhost:8080/"
        },
        "id": "Hgzmc-yAyhH4",
        "outputId": "76cd0c06-7780-4534-b363-4714584c3f64"
      },
      "execution_count": null,
      "outputs": [
        {
          "output_type": "stream",
          "name": "stdout",
          "text": [
            "The max. for DF all columns\n",
            " Math          5\n",
            "Physics      10\n",
            "French       15\n",
            "Chemistry    20\n",
            "dtype: int64\n",
            "The min. for DF all columns\n",
            "  Math          1\n",
            "Physics       6\n",
            "French       11\n",
            "Chemistry    16\n",
            "dtype: int64\n",
            "The mean for DF all columns\n",
            "  Math          3.0\n",
            "Physics       8.0\n",
            "French       13.0\n",
            "Chemistry    18.0\n",
            "dtype: float64\n",
            "The std. for DF all columns\n",
            "  Math         1.581139\n",
            "Physics      1.581139\n",
            "French       1.581139\n",
            "Chemistry    1.581139\n",
            "dtype: float64\n"
          ]
        }
      ]
    },
    {
      "cell_type": "code",
      "source": [
        "import pandas as pd\n",
        "w = pd.Series({'a':1 ,'b':2 ,'c':3 ,'d':4 ,'e':5})\n",
        "x = pd.Series({'a':6 ,'b':7 ,'c':8 ,'d':9 ,'e':10})\n",
        "y = pd.Series({'a':11 ,'b':12 ,'c':13 ,'d':14 ,'e':15})\n",
        "z = pd.Series({'a':16 ,'b':17 ,'c':18 ,'d':19 ,'e':20})\n",
        "grades = pd.DataFrame({'Math':w,'Physics':x,'French':y,'Chemistry':z})\n",
        "print(grades['Math'].max())\n",
        "print(grades['French'].min())\n",
        "print(grades['Physics'].mean())\n",
        "print(grades['Chemistry'].std())"
      ],
      "metadata": {
        "colab": {
          "base_uri": "https://localhost:8080/"
        },
        "id": "fyNa7rrRy4GB",
        "outputId": "0e188c10-c29b-4cde-94c6-05a8a8821233"
      },
      "execution_count": null,
      "outputs": [
        {
          "output_type": "stream",
          "name": "stdout",
          "text": [
            "5\n",
            "11\n",
            "8.0\n",
            "1.5811388300841898\n"
          ]
        }
      ]
    },
    {
      "cell_type": "code",
      "source": [
        "import pandas as pd\n",
        "import numpy as np\n",
        "df = pd.DataFrame(np.random.rand(5, 3), columns=['A', 'B', 'C'])\n",
        "print(df)\n",
        "print(df.corr())"
      ],
      "metadata": {
        "colab": {
          "base_uri": "https://localhost:8080/"
        },
        "id": "ayyKw_-Ly9Xo",
        "outputId": "ea3b0176-c848-4a80-c087-6ba60c03fb43"
      },
      "execution_count": null,
      "outputs": [
        {
          "output_type": "stream",
          "name": "stdout",
          "text": [
            "          A         B         C\n",
            "0  0.912644  0.035026  0.419819\n",
            "1  0.754541  0.662608  0.841454\n",
            "2  0.276983  0.783427  0.907455\n",
            "3  0.045534  0.557719  0.886529\n",
            "4  0.473511  0.626564  0.624171\n",
            "          A         B         C\n",
            "A  1.000000 -0.594716 -0.705386\n",
            "B -0.594716  1.000000  0.852269\n",
            "C -0.705386  0.852269  1.000000\n"
          ]
        }
      ]
    },
    {
      "cell_type": "code",
      "source": [
        "import pandas as pd\n",
        "import numpy as np\n",
        "df = pd.DataFrame(np.random.rand(5, 3), columns=['A', 'B', 'C'])\n",
        "print(df)\n",
        "print(df.skew())"
      ],
      "metadata": {
        "colab": {
          "base_uri": "https://localhost:8080/"
        },
        "id": "YIiE8DiyzEik",
        "outputId": "1a6873cd-fcb0-4227-f203-f7cc4d8a9ff9"
      },
      "execution_count": null,
      "outputs": [
        {
          "output_type": "stream",
          "name": "stdout",
          "text": [
            "          A         B         C\n",
            "0  0.855302  0.899067  0.876542\n",
            "1  0.102581  0.413244  0.644225\n",
            "2  0.075421  0.873410  0.311476\n",
            "3  0.999974  0.890399  0.863612\n",
            "4  0.294444  0.720975  0.148427\n",
            "A    0.510635\n",
            "B   -1.654604\n",
            "C   -0.427588\n",
            "dtype: float64\n"
          ]
        }
      ]
    },
    {
      "cell_type": "code",
      "source": [
        "import pandas as pd\n",
        "w = pd.Series({'a':1 ,'b':2 ,'c':3 ,'d':4 ,'e':5})\n",
        "x = pd.Series({'a':6 ,'b':7 ,'c':8 ,'d':9 ,'e':10})\n",
        "y = pd.Series({'a':11 ,'b':12 ,'c':13 ,'d':14 ,'e':15})\n",
        "z = pd.Series({'a':16 ,'b':17 ,'c':18 ,'d':19 ,'e':20})\n",
        "grades = pd.DataFrame({'Math':w,'Physics':x,'French':y,'Chemistry':z})\n",
        "grades['Total'] = (grades['Math'] + grades['French'] +\n",
        "     grades['Chemistry']+ grades['Physics']) /100\n",
        "print(grades)"
      ],
      "metadata": {
        "colab": {
          "base_uri": "https://localhost:8080/"
        },
        "id": "ug-tvDiNzQMe",
        "outputId": "aaab3cb8-5a86-4813-ccf5-6d95f4e70f4c"
      },
      "execution_count": null,
      "outputs": [
        {
          "output_type": "stream",
          "name": "stdout",
          "text": [
            "   Math  Physics  French  Chemistry  Total\n",
            "a     1        6      11         16   0.34\n",
            "b     2        7      12         17   0.38\n",
            "c     3        8      13         18   0.42\n",
            "d     4        9      14         19   0.46\n",
            "e     5       10      15         20   0.50\n"
          ]
        }
      ]
    },
    {
      "cell_type": "code",
      "source": [
        "import pandas as pd\n",
        "import numpy as np\n",
        "df = pd.DataFrame(np.random.rand(5, 3), columns=['A', 'B', 'C'])\n",
        "result = (df['A'] + df['B']) / (df['C'] - 1)\n",
        "print(df)\n",
        "print(result)"
      ],
      "metadata": {
        "colab": {
          "base_uri": "https://localhost:8080/"
        },
        "id": "pdI-ozewzYtZ",
        "outputId": "e3fedea4-4ade-4f4c-e1cd-568656d03454"
      },
      "execution_count": null,
      "outputs": [
        {
          "output_type": "stream",
          "name": "stdout",
          "text": [
            "          A         B         C\n",
            "0  0.288573  0.248499  0.309551\n",
            "1  0.716874  0.725242  0.660303\n",
            "2  0.415837  0.126764  0.971208\n",
            "3  0.053511  0.403952  0.912778\n",
            "4  0.633553  0.009293  0.714865\n",
            "0    -0.777859\n",
            "1    -4.245307\n",
            "2   -18.845572\n",
            "3    -5.244839\n",
            "4    -2.254532\n",
            "dtype: float64\n"
          ]
        }
      ]
    },
    {
      "cell_type": "code",
      "source": [
        "import pandas as pd\n",
        "import numpy as np\n",
        "df = pd.DataFrame(np.random.rand(5, 3), columns=['A', 'B', 'C'])\n",
        "result = df.query('A < 0.5 and B < 0.5')\n",
        "print(df)\n",
        "print(result)"
      ],
      "metadata": {
        "colab": {
          "base_uri": "https://localhost:8080/"
        },
        "id": "S3G1iWjR0x4Z",
        "outputId": "c8a1819f-a813-4e56-b507-9424badd627c"
      },
      "execution_count": null,
      "outputs": [
        {
          "output_type": "stream",
          "name": "stdout",
          "text": [
            "          A         B         C\n",
            "0  0.329516  0.851391  0.291406\n",
            "1  0.612905  0.764544  0.478690\n",
            "2  0.010374  0.610592  0.443727\n",
            "3  0.809167  0.908369  0.153644\n",
            "4  0.070724  0.605967  0.166462\n",
            "Empty DataFrame\n",
            "Columns: [A, B, C]\n",
            "Index: []\n"
          ]
        }
      ]
    },
    {
      "cell_type": "code",
      "source": [
        "import pandas as pd\n",
        "import numpy as np\n",
        "df = pd.DataFrame(np.random.rand(5, 3), columns=['A', 'B', 'C'])\n",
        "tmp1 = df.A < 0.5\n",
        "tmp2 = df.B < 0.5\n",
        "tmp3 = tmp1 & tmp2\n",
        "result1 = df[tmp3]\n",
        "result2 = df[(df.A < 0.5) & (df.B < 0.5)]\n",
        "result3 = df[(df.A < 0.5) | (df.B < 0.5)]\n",
        "print(df)\n",
        "print(result1)\n",
        "print(result2)\n",
        "print(result3)"
      ],
      "metadata": {
        "colab": {
          "base_uri": "https://localhost:8080/"
        },
        "id": "3_VmeRQk1nTR",
        "outputId": "773a5e81-2c63-43be-b9fb-9a7d992adfe2"
      },
      "execution_count": null,
      "outputs": [
        {
          "output_type": "stream",
          "name": "stdout",
          "text": [
            "          A         B         C\n",
            "0  0.236505  0.091139  0.296433\n",
            "1  0.159748  0.794479  0.597333\n",
            "2  0.154246  0.498989  0.099881\n",
            "3  0.836847  0.071231  0.306860\n",
            "4  0.676610  0.943763  0.254214\n",
            "          A         B         C\n",
            "0  0.236505  0.091139  0.296433\n",
            "2  0.154246  0.498989  0.099881\n",
            "          A         B         C\n",
            "0  0.236505  0.091139  0.296433\n",
            "2  0.154246  0.498989  0.099881\n",
            "          A         B         C\n",
            "0  0.236505  0.091139  0.296433\n",
            "1  0.159748  0.794479  0.597333\n",
            "2  0.154246  0.498989  0.099881\n",
            "3  0.836847  0.071231  0.306860\n"
          ]
        }
      ]
    },
    {
      "cell_type": "code",
      "source": [
        "import pandas as pd\n",
        "import numpy as np\n",
        "df = pd.DataFrame(np.random.rand(5, 3), columns=['A', 'B', 'C'])\n",
        "result = df[(df.A < 0.5) | (df.B < 0.5)]\n",
        "print(df)\n",
        "print(result)"
      ],
      "metadata": {
        "colab": {
          "base_uri": "https://localhost:8080/"
        },
        "id": "et71eJ6w1vq0",
        "outputId": "86ac69c7-31ab-4246-add9-63c9cf6cca09"
      },
      "execution_count": null,
      "outputs": [
        {
          "output_type": "stream",
          "name": "stdout",
          "text": [
            "          A         B         C\n",
            "0  0.315752  0.284035  0.906197\n",
            "1  0.586931  0.361707  0.405881\n",
            "2  0.884762  0.794644  0.692244\n",
            "3  0.649684  0.098911  0.479378\n",
            "4  0.160069  0.989139  0.642813\n",
            "          A         B         C\n",
            "0  0.315752  0.284035  0.906197\n",
            "1  0.586931  0.361707  0.405881\n",
            "3  0.649684  0.098911  0.479378\n",
            "4  0.160069  0.989139  0.642813\n"
          ]
        }
      ]
    },
    {
      "cell_type": "markdown",
      "source": [
        " 4.3 Table Concatenation and Merging"
      ],
      "metadata": {
        "id": "WwKmjwGfjPTG"
      }
    },
    {
      "cell_type": "code",
      "source": [
        "import pandas as pd\n",
        "df1 = pd.DataFrame(\n",
        "   {\n",
        "       \"A\": [\"A0\", \"A1\", \"A2\", \"A3\"],\n",
        "       \"B\": [\"B0\", \"B1\", \"B2\", \"B3\"],\n",
        "       \"C\": [\"C0\", \"C1\", \"C2\", \"C3\"],\n",
        "       \"D\": [\"D0\", \"D1\", \"D2\", \"D3\"],\n",
        "   },\n",
        "   index=[0, 1, 2, 3],\n",
        ")\n",
        "df2 = pd.DataFrame(\n",
        "   {\n",
        "       \"A\": [\"A4\", \"A5\", \"A6\", \"A7\"],\n",
        "       \"B\": [\"B4\", \"B5\", \"B6\", \"B7\"],\n",
        "       \"C\": [\"C4\", \"C5\", \"C6\", \"C7\"],\n",
        "       \"D\": [\"D4\", \"D5\", \"D6\", \"D7\"],\n",
        "   },\n",
        "   index=[4, 5, 6, 7],\n",
        ")\n",
        "df3 = pd.DataFrame(\n",
        "   {\n",
        "       \"A\": [\"A8\", \"A9\", \"A10\", \"A11\"],\n",
        "       \"B\": [\"B8\", \"B9\", \"B10\", \"B11\"],\n",
        "       \"C\": [\"C8\", \"C9\", \"C10\", \"C11\"],\n",
        "       \"D\": [\"D8\", \"D9\", \"D10\", \"D11\"],\n",
        "   },\n",
        "   index=[8, 9, 10, 11],\n",
        ")\n",
        "frames = [df1, df2, df3]\n",
        "result = pd.concat(frames)\n",
        "result"
      ],
      "metadata": {
        "colab": {
          "base_uri": "https://localhost:8080/",
          "height": 426
        },
        "id": "cV-4-hXjjTnx",
        "outputId": "c9b4f6ac-b3b3-4171-a08f-af1a88e4f1b8"
      },
      "execution_count": null,
      "outputs": [
        {
          "output_type": "execute_result",
          "data": {
            "text/plain": [
              "      A    B    C    D\n",
              "0    A0   B0   C0   D0\n",
              "1    A1   B1   C1   D1\n",
              "2    A2   B2   C2   D2\n",
              "3    A3   B3   C3   D3\n",
              "4    A4   B4   C4   D4\n",
              "5    A5   B5   C5   D5\n",
              "6    A6   B6   C6   D6\n",
              "7    A7   B7   C7   D7\n",
              "8    A8   B8   C8   D8\n",
              "9    A9   B9   C9   D9\n",
              "10  A10  B10  C10  D10\n",
              "11  A11  B11  C11  D11"
            ],
            "text/html": [
              "\n",
              "  <div id=\"df-a1bd50fe-a12a-42bb-bbb4-04d47e87cc2c\" class=\"colab-df-container\">\n",
              "    <div>\n",
              "<style scoped>\n",
              "    .dataframe tbody tr th:only-of-type {\n",
              "        vertical-align: middle;\n",
              "    }\n",
              "\n",
              "    .dataframe tbody tr th {\n",
              "        vertical-align: top;\n",
              "    }\n",
              "\n",
              "    .dataframe thead th {\n",
              "        text-align: right;\n",
              "    }\n",
              "</style>\n",
              "<table border=\"1\" class=\"dataframe\">\n",
              "  <thead>\n",
              "    <tr style=\"text-align: right;\">\n",
              "      <th></th>\n",
              "      <th>A</th>\n",
              "      <th>B</th>\n",
              "      <th>C</th>\n",
              "      <th>D</th>\n",
              "    </tr>\n",
              "  </thead>\n",
              "  <tbody>\n",
              "    <tr>\n",
              "      <th>0</th>\n",
              "      <td>A0</td>\n",
              "      <td>B0</td>\n",
              "      <td>C0</td>\n",
              "      <td>D0</td>\n",
              "    </tr>\n",
              "    <tr>\n",
              "      <th>1</th>\n",
              "      <td>A1</td>\n",
              "      <td>B1</td>\n",
              "      <td>C1</td>\n",
              "      <td>D1</td>\n",
              "    </tr>\n",
              "    <tr>\n",
              "      <th>2</th>\n",
              "      <td>A2</td>\n",
              "      <td>B2</td>\n",
              "      <td>C2</td>\n",
              "      <td>D2</td>\n",
              "    </tr>\n",
              "    <tr>\n",
              "      <th>3</th>\n",
              "      <td>A3</td>\n",
              "      <td>B3</td>\n",
              "      <td>C3</td>\n",
              "      <td>D3</td>\n",
              "    </tr>\n",
              "    <tr>\n",
              "      <th>4</th>\n",
              "      <td>A4</td>\n",
              "      <td>B4</td>\n",
              "      <td>C4</td>\n",
              "      <td>D4</td>\n",
              "    </tr>\n",
              "    <tr>\n",
              "      <th>5</th>\n",
              "      <td>A5</td>\n",
              "      <td>B5</td>\n",
              "      <td>C5</td>\n",
              "      <td>D5</td>\n",
              "    </tr>\n",
              "    <tr>\n",
              "      <th>6</th>\n",
              "      <td>A6</td>\n",
              "      <td>B6</td>\n",
              "      <td>C6</td>\n",
              "      <td>D6</td>\n",
              "    </tr>\n",
              "    <tr>\n",
              "      <th>7</th>\n",
              "      <td>A7</td>\n",
              "      <td>B7</td>\n",
              "      <td>C7</td>\n",
              "      <td>D7</td>\n",
              "    </tr>\n",
              "    <tr>\n",
              "      <th>8</th>\n",
              "      <td>A8</td>\n",
              "      <td>B8</td>\n",
              "      <td>C8</td>\n",
              "      <td>D8</td>\n",
              "    </tr>\n",
              "    <tr>\n",
              "      <th>9</th>\n",
              "      <td>A9</td>\n",
              "      <td>B9</td>\n",
              "      <td>C9</td>\n",
              "      <td>D9</td>\n",
              "    </tr>\n",
              "    <tr>\n",
              "      <th>10</th>\n",
              "      <td>A10</td>\n",
              "      <td>B10</td>\n",
              "      <td>C10</td>\n",
              "      <td>D10</td>\n",
              "    </tr>\n",
              "    <tr>\n",
              "      <th>11</th>\n",
              "      <td>A11</td>\n",
              "      <td>B11</td>\n",
              "      <td>C11</td>\n",
              "      <td>D11</td>\n",
              "    </tr>\n",
              "  </tbody>\n",
              "</table>\n",
              "</div>\n",
              "    <div class=\"colab-df-buttons\">\n",
              "\n",
              "  <div class=\"colab-df-container\">\n",
              "    <button class=\"colab-df-convert\" onclick=\"convertToInteractive('df-a1bd50fe-a12a-42bb-bbb4-04d47e87cc2c')\"\n",
              "            title=\"Convert this dataframe to an interactive table.\"\n",
              "            style=\"display:none;\">\n",
              "\n",
              "  <svg xmlns=\"http://www.w3.org/2000/svg\" height=\"24px\" viewBox=\"0 -960 960 960\">\n",
              "    <path d=\"M120-120v-720h720v720H120Zm60-500h600v-160H180v160Zm220 220h160v-160H400v160Zm0 220h160v-160H400v160ZM180-400h160v-160H180v160Zm440 0h160v-160H620v160ZM180-180h160v-160H180v160Zm440 0h160v-160H620v160Z\"/>\n",
              "  </svg>\n",
              "    </button>\n",
              "\n",
              "  <style>\n",
              "    .colab-df-container {\n",
              "      display:flex;\n",
              "      gap: 12px;\n",
              "    }\n",
              "\n",
              "    .colab-df-convert {\n",
              "      background-color: #E8F0FE;\n",
              "      border: none;\n",
              "      border-radius: 50%;\n",
              "      cursor: pointer;\n",
              "      display: none;\n",
              "      fill: #1967D2;\n",
              "      height: 32px;\n",
              "      padding: 0 0 0 0;\n",
              "      width: 32px;\n",
              "    }\n",
              "\n",
              "    .colab-df-convert:hover {\n",
              "      background-color: #E2EBFA;\n",
              "      box-shadow: 0px 1px 2px rgba(60, 64, 67, 0.3), 0px 1px 3px 1px rgba(60, 64, 67, 0.15);\n",
              "      fill: #174EA6;\n",
              "    }\n",
              "\n",
              "    .colab-df-buttons div {\n",
              "      margin-bottom: 4px;\n",
              "    }\n",
              "\n",
              "    [theme=dark] .colab-df-convert {\n",
              "      background-color: #3B4455;\n",
              "      fill: #D2E3FC;\n",
              "    }\n",
              "\n",
              "    [theme=dark] .colab-df-convert:hover {\n",
              "      background-color: #434B5C;\n",
              "      box-shadow: 0px 1px 3px 1px rgba(0, 0, 0, 0.15);\n",
              "      filter: drop-shadow(0px 1px 2px rgba(0, 0, 0, 0.3));\n",
              "      fill: #FFFFFF;\n",
              "    }\n",
              "  </style>\n",
              "\n",
              "    <script>\n",
              "      const buttonEl =\n",
              "        document.querySelector('#df-a1bd50fe-a12a-42bb-bbb4-04d47e87cc2c button.colab-df-convert');\n",
              "      buttonEl.style.display =\n",
              "        google.colab.kernel.accessAllowed ? 'block' : 'none';\n",
              "\n",
              "      async function convertToInteractive(key) {\n",
              "        const element = document.querySelector('#df-a1bd50fe-a12a-42bb-bbb4-04d47e87cc2c');\n",
              "        const dataTable =\n",
              "          await google.colab.kernel.invokeFunction('convertToInteractive',\n",
              "                                                    [key], {});\n",
              "        if (!dataTable) return;\n",
              "\n",
              "        const docLinkHtml = 'Like what you see? Visit the ' +\n",
              "          '<a target=\"_blank\" href=https://colab.research.google.com/notebooks/data_table.ipynb>data table notebook</a>'\n",
              "          + ' to learn more about interactive tables.';\n",
              "        element.innerHTML = '';\n",
              "        dataTable['output_type'] = 'display_data';\n",
              "        await google.colab.output.renderOutput(dataTable, element);\n",
              "        const docLink = document.createElement('div');\n",
              "        docLink.innerHTML = docLinkHtml;\n",
              "        element.appendChild(docLink);\n",
              "      }\n",
              "    </script>\n",
              "  </div>\n",
              "\n",
              "\n",
              "    <div id=\"df-8ba470a0-6619-41d1-85ad-24cba4f48b49\">\n",
              "      <button class=\"colab-df-quickchart\" onclick=\"quickchart('df-8ba470a0-6619-41d1-85ad-24cba4f48b49')\"\n",
              "                title=\"Suggest charts\"\n",
              "                style=\"display:none;\">\n",
              "\n",
              "<svg xmlns=\"http://www.w3.org/2000/svg\" height=\"24px\"viewBox=\"0 0 24 24\"\n",
              "     width=\"24px\">\n",
              "    <g>\n",
              "        <path d=\"M19 3H5c-1.1 0-2 .9-2 2v14c0 1.1.9 2 2 2h14c1.1 0 2-.9 2-2V5c0-1.1-.9-2-2-2zM9 17H7v-7h2v7zm4 0h-2V7h2v10zm4 0h-2v-4h2v4z\"/>\n",
              "    </g>\n",
              "</svg>\n",
              "      </button>\n",
              "\n",
              "<style>\n",
              "  .colab-df-quickchart {\n",
              "      --bg-color: #E8F0FE;\n",
              "      --fill-color: #1967D2;\n",
              "      --hover-bg-color: #E2EBFA;\n",
              "      --hover-fill-color: #174EA6;\n",
              "      --disabled-fill-color: #AAA;\n",
              "      --disabled-bg-color: #DDD;\n",
              "  }\n",
              "\n",
              "  [theme=dark] .colab-df-quickchart {\n",
              "      --bg-color: #3B4455;\n",
              "      --fill-color: #D2E3FC;\n",
              "      --hover-bg-color: #434B5C;\n",
              "      --hover-fill-color: #FFFFFF;\n",
              "      --disabled-bg-color: #3B4455;\n",
              "      --disabled-fill-color: #666;\n",
              "  }\n",
              "\n",
              "  .colab-df-quickchart {\n",
              "    background-color: var(--bg-color);\n",
              "    border: none;\n",
              "    border-radius: 50%;\n",
              "    cursor: pointer;\n",
              "    display: none;\n",
              "    fill: var(--fill-color);\n",
              "    height: 32px;\n",
              "    padding: 0;\n",
              "    width: 32px;\n",
              "  }\n",
              "\n",
              "  .colab-df-quickchart:hover {\n",
              "    background-color: var(--hover-bg-color);\n",
              "    box-shadow: 0 1px 2px rgba(60, 64, 67, 0.3), 0 1px 3px 1px rgba(60, 64, 67, 0.15);\n",
              "    fill: var(--button-hover-fill-color);\n",
              "  }\n",
              "\n",
              "  .colab-df-quickchart-complete:disabled,\n",
              "  .colab-df-quickchart-complete:disabled:hover {\n",
              "    background-color: var(--disabled-bg-color);\n",
              "    fill: var(--disabled-fill-color);\n",
              "    box-shadow: none;\n",
              "  }\n",
              "\n",
              "  .colab-df-spinner {\n",
              "    border: 2px solid var(--fill-color);\n",
              "    border-color: transparent;\n",
              "    border-bottom-color: var(--fill-color);\n",
              "    animation:\n",
              "      spin 1s steps(1) infinite;\n",
              "  }\n",
              "\n",
              "  @keyframes spin {\n",
              "    0% {\n",
              "      border-color: transparent;\n",
              "      border-bottom-color: var(--fill-color);\n",
              "      border-left-color: var(--fill-color);\n",
              "    }\n",
              "    20% {\n",
              "      border-color: transparent;\n",
              "      border-left-color: var(--fill-color);\n",
              "      border-top-color: var(--fill-color);\n",
              "    }\n",
              "    30% {\n",
              "      border-color: transparent;\n",
              "      border-left-color: var(--fill-color);\n",
              "      border-top-color: var(--fill-color);\n",
              "      border-right-color: var(--fill-color);\n",
              "    }\n",
              "    40% {\n",
              "      border-color: transparent;\n",
              "      border-right-color: var(--fill-color);\n",
              "      border-top-color: var(--fill-color);\n",
              "    }\n",
              "    60% {\n",
              "      border-color: transparent;\n",
              "      border-right-color: var(--fill-color);\n",
              "    }\n",
              "    80% {\n",
              "      border-color: transparent;\n",
              "      border-right-color: var(--fill-color);\n",
              "      border-bottom-color: var(--fill-color);\n",
              "    }\n",
              "    90% {\n",
              "      border-color: transparent;\n",
              "      border-bottom-color: var(--fill-color);\n",
              "    }\n",
              "  }\n",
              "</style>\n",
              "\n",
              "      <script>\n",
              "        async function quickchart(key) {\n",
              "          const quickchartButtonEl =\n",
              "            document.querySelector('#' + key + ' button');\n",
              "          quickchartButtonEl.disabled = true;  // To prevent multiple clicks.\n",
              "          quickchartButtonEl.classList.add('colab-df-spinner');\n",
              "          try {\n",
              "            const charts = await google.colab.kernel.invokeFunction(\n",
              "                'suggestCharts', [key], {});\n",
              "          } catch (error) {\n",
              "            console.error('Error during call to suggestCharts:', error);\n",
              "          }\n",
              "          quickchartButtonEl.classList.remove('colab-df-spinner');\n",
              "          quickchartButtonEl.classList.add('colab-df-quickchart-complete');\n",
              "        }\n",
              "        (() => {\n",
              "          let quickchartButtonEl =\n",
              "            document.querySelector('#df-8ba470a0-6619-41d1-85ad-24cba4f48b49 button');\n",
              "          quickchartButtonEl.style.display =\n",
              "            google.colab.kernel.accessAllowed ? 'block' : 'none';\n",
              "        })();\n",
              "      </script>\n",
              "    </div>\n",
              "\n",
              "  <div id=\"id_1eba6055-f388-4be5-bac9-75ba903aa37d\">\n",
              "    <style>\n",
              "      .colab-df-generate {\n",
              "        background-color: #E8F0FE;\n",
              "        border: none;\n",
              "        border-radius: 50%;\n",
              "        cursor: pointer;\n",
              "        display: none;\n",
              "        fill: #1967D2;\n",
              "        height: 32px;\n",
              "        padding: 0 0 0 0;\n",
              "        width: 32px;\n",
              "      }\n",
              "\n",
              "      .colab-df-generate:hover {\n",
              "        background-color: #E2EBFA;\n",
              "        box-shadow: 0px 1px 2px rgba(60, 64, 67, 0.3), 0px 1px 3px 1px rgba(60, 64, 67, 0.15);\n",
              "        fill: #174EA6;\n",
              "      }\n",
              "\n",
              "      [theme=dark] .colab-df-generate {\n",
              "        background-color: #3B4455;\n",
              "        fill: #D2E3FC;\n",
              "      }\n",
              "\n",
              "      [theme=dark] .colab-df-generate:hover {\n",
              "        background-color: #434B5C;\n",
              "        box-shadow: 0px 1px 3px 1px rgba(0, 0, 0, 0.15);\n",
              "        filter: drop-shadow(0px 1px 2px rgba(0, 0, 0, 0.3));\n",
              "        fill: #FFFFFF;\n",
              "      }\n",
              "    </style>\n",
              "    <button class=\"colab-df-generate\" onclick=\"generateWithVariable('result')\"\n",
              "            title=\"Generate code using this dataframe.\"\n",
              "            style=\"display:none;\">\n",
              "\n",
              "  <svg xmlns=\"http://www.w3.org/2000/svg\" height=\"24px\"viewBox=\"0 0 24 24\"\n",
              "       width=\"24px\">\n",
              "    <path d=\"M7,19H8.4L18.45,9,17,7.55,7,17.6ZM5,21V16.75L18.45,3.32a2,2,0,0,1,2.83,0l1.4,1.43a1.91,1.91,0,0,1,.58,1.4,1.91,1.91,0,0,1-.58,1.4L9.25,21ZM18.45,9,17,7.55Zm-12,3A5.31,5.31,0,0,0,4.9,8.1,5.31,5.31,0,0,0,1,6.5,5.31,5.31,0,0,0,4.9,4.9,5.31,5.31,0,0,0,6.5,1,5.31,5.31,0,0,0,8.1,4.9,5.31,5.31,0,0,0,12,6.5,5.46,5.46,0,0,0,6.5,12Z\"/>\n",
              "  </svg>\n",
              "    </button>\n",
              "    <script>\n",
              "      (() => {\n",
              "      const buttonEl =\n",
              "        document.querySelector('#id_1eba6055-f388-4be5-bac9-75ba903aa37d button.colab-df-generate');\n",
              "      buttonEl.style.display =\n",
              "        google.colab.kernel.accessAllowed ? 'block' : 'none';\n",
              "\n",
              "      buttonEl.onclick = () => {\n",
              "        google.colab.notebook.generateWithVariable('result');\n",
              "      }\n",
              "      })();\n",
              "    </script>\n",
              "  </div>\n",
              "\n",
              "    </div>\n",
              "  </div>\n"
            ],
            "application/vnd.google.colaboratory.intrinsic+json": {
              "type": "dataframe",
              "variable_name": "result",
              "summary": "{\n  \"name\": \"result\",\n  \"rows\": 12,\n  \"fields\": [\n    {\n      \"column\": \"A\",\n      \"properties\": {\n        \"dtype\": \"string\",\n        \"num_unique_values\": 12,\n        \"samples\": [\n          \"A10\",\n          \"A9\",\n          \"A0\"\n        ],\n        \"semantic_type\": \"\",\n        \"description\": \"\"\n      }\n    },\n    {\n      \"column\": \"B\",\n      \"properties\": {\n        \"dtype\": \"string\",\n        \"num_unique_values\": 12,\n        \"samples\": [\n          \"B10\",\n          \"B9\",\n          \"B0\"\n        ],\n        \"semantic_type\": \"\",\n        \"description\": \"\"\n      }\n    },\n    {\n      \"column\": \"C\",\n      \"properties\": {\n        \"dtype\": \"string\",\n        \"num_unique_values\": 12,\n        \"samples\": [\n          \"C10\",\n          \"C9\",\n          \"C0\"\n        ],\n        \"semantic_type\": \"\",\n        \"description\": \"\"\n      }\n    },\n    {\n      \"column\": \"D\",\n      \"properties\": {\n        \"dtype\": \"string\",\n        \"num_unique_values\": 12,\n        \"samples\": [\n          \"D10\",\n          \"D9\",\n          \"D0\"\n        ],\n        \"semantic_type\": \"\",\n        \"description\": \"\"\n      }\n    }\n  ]\n}"
            }
          },
          "metadata": {},
          "execution_count": 3
        }
      ]
    },
    {
      "cell_type": "code",
      "source": [
        "result = pd.concat(frames, keys=[\"x\", \"y\", \"z\"])\n",
        "result"
      ],
      "metadata": {
        "colab": {
          "base_uri": "https://localhost:8080/",
          "height": 426
        },
        "id": "mY63w_rxkISo",
        "outputId": "532e9cbe-8956-49c4-9bc2-c69f2e26c93a"
      },
      "execution_count": null,
      "outputs": [
        {
          "output_type": "execute_result",
          "data": {
            "text/plain": [
              "        A    B    C    D\n",
              "x 0    A0   B0   C0   D0\n",
              "  1    A1   B1   C1   D1\n",
              "  2    A2   B2   C2   D2\n",
              "  3    A3   B3   C3   D3\n",
              "y 4    A4   B4   C4   D4\n",
              "  5    A5   B5   C5   D5\n",
              "  6    A6   B6   C6   D6\n",
              "  7    A7   B7   C7   D7\n",
              "z 8    A8   B8   C8   D8\n",
              "  9    A9   B9   C9   D9\n",
              "  10  A10  B10  C10  D10\n",
              "  11  A11  B11  C11  D11"
            ],
            "text/html": [
              "\n",
              "  <div id=\"df-becb7738-d5c5-4e93-8fed-918bbb44fc0e\" class=\"colab-df-container\">\n",
              "    <div>\n",
              "<style scoped>\n",
              "    .dataframe tbody tr th:only-of-type {\n",
              "        vertical-align: middle;\n",
              "    }\n",
              "\n",
              "    .dataframe tbody tr th {\n",
              "        vertical-align: top;\n",
              "    }\n",
              "\n",
              "    .dataframe thead th {\n",
              "        text-align: right;\n",
              "    }\n",
              "</style>\n",
              "<table border=\"1\" class=\"dataframe\">\n",
              "  <thead>\n",
              "    <tr style=\"text-align: right;\">\n",
              "      <th></th>\n",
              "      <th></th>\n",
              "      <th>A</th>\n",
              "      <th>B</th>\n",
              "      <th>C</th>\n",
              "      <th>D</th>\n",
              "    </tr>\n",
              "  </thead>\n",
              "  <tbody>\n",
              "    <tr>\n",
              "      <th rowspan=\"4\" valign=\"top\">x</th>\n",
              "      <th>0</th>\n",
              "      <td>A0</td>\n",
              "      <td>B0</td>\n",
              "      <td>C0</td>\n",
              "      <td>D0</td>\n",
              "    </tr>\n",
              "    <tr>\n",
              "      <th>1</th>\n",
              "      <td>A1</td>\n",
              "      <td>B1</td>\n",
              "      <td>C1</td>\n",
              "      <td>D1</td>\n",
              "    </tr>\n",
              "    <tr>\n",
              "      <th>2</th>\n",
              "      <td>A2</td>\n",
              "      <td>B2</td>\n",
              "      <td>C2</td>\n",
              "      <td>D2</td>\n",
              "    </tr>\n",
              "    <tr>\n",
              "      <th>3</th>\n",
              "      <td>A3</td>\n",
              "      <td>B3</td>\n",
              "      <td>C3</td>\n",
              "      <td>D3</td>\n",
              "    </tr>\n",
              "    <tr>\n",
              "      <th rowspan=\"4\" valign=\"top\">y</th>\n",
              "      <th>4</th>\n",
              "      <td>A4</td>\n",
              "      <td>B4</td>\n",
              "      <td>C4</td>\n",
              "      <td>D4</td>\n",
              "    </tr>\n",
              "    <tr>\n",
              "      <th>5</th>\n",
              "      <td>A5</td>\n",
              "      <td>B5</td>\n",
              "      <td>C5</td>\n",
              "      <td>D5</td>\n",
              "    </tr>\n",
              "    <tr>\n",
              "      <th>6</th>\n",
              "      <td>A6</td>\n",
              "      <td>B6</td>\n",
              "      <td>C6</td>\n",
              "      <td>D6</td>\n",
              "    </tr>\n",
              "    <tr>\n",
              "      <th>7</th>\n",
              "      <td>A7</td>\n",
              "      <td>B7</td>\n",
              "      <td>C7</td>\n",
              "      <td>D7</td>\n",
              "    </tr>\n",
              "    <tr>\n",
              "      <th rowspan=\"4\" valign=\"top\">z</th>\n",
              "      <th>8</th>\n",
              "      <td>A8</td>\n",
              "      <td>B8</td>\n",
              "      <td>C8</td>\n",
              "      <td>D8</td>\n",
              "    </tr>\n",
              "    <tr>\n",
              "      <th>9</th>\n",
              "      <td>A9</td>\n",
              "      <td>B9</td>\n",
              "      <td>C9</td>\n",
              "      <td>D9</td>\n",
              "    </tr>\n",
              "    <tr>\n",
              "      <th>10</th>\n",
              "      <td>A10</td>\n",
              "      <td>B10</td>\n",
              "      <td>C10</td>\n",
              "      <td>D10</td>\n",
              "    </tr>\n",
              "    <tr>\n",
              "      <th>11</th>\n",
              "      <td>A11</td>\n",
              "      <td>B11</td>\n",
              "      <td>C11</td>\n",
              "      <td>D11</td>\n",
              "    </tr>\n",
              "  </tbody>\n",
              "</table>\n",
              "</div>\n",
              "    <div class=\"colab-df-buttons\">\n",
              "\n",
              "  <div class=\"colab-df-container\">\n",
              "    <button class=\"colab-df-convert\" onclick=\"convertToInteractive('df-becb7738-d5c5-4e93-8fed-918bbb44fc0e')\"\n",
              "            title=\"Convert this dataframe to an interactive table.\"\n",
              "            style=\"display:none;\">\n",
              "\n",
              "  <svg xmlns=\"http://www.w3.org/2000/svg\" height=\"24px\" viewBox=\"0 -960 960 960\">\n",
              "    <path d=\"M120-120v-720h720v720H120Zm60-500h600v-160H180v160Zm220 220h160v-160H400v160Zm0 220h160v-160H400v160ZM180-400h160v-160H180v160Zm440 0h160v-160H620v160ZM180-180h160v-160H180v160Zm440 0h160v-160H620v160Z\"/>\n",
              "  </svg>\n",
              "    </button>\n",
              "\n",
              "  <style>\n",
              "    .colab-df-container {\n",
              "      display:flex;\n",
              "      gap: 12px;\n",
              "    }\n",
              "\n",
              "    .colab-df-convert {\n",
              "      background-color: #E8F0FE;\n",
              "      border: none;\n",
              "      border-radius: 50%;\n",
              "      cursor: pointer;\n",
              "      display: none;\n",
              "      fill: #1967D2;\n",
              "      height: 32px;\n",
              "      padding: 0 0 0 0;\n",
              "      width: 32px;\n",
              "    }\n",
              "\n",
              "    .colab-df-convert:hover {\n",
              "      background-color: #E2EBFA;\n",
              "      box-shadow: 0px 1px 2px rgba(60, 64, 67, 0.3), 0px 1px 3px 1px rgba(60, 64, 67, 0.15);\n",
              "      fill: #174EA6;\n",
              "    }\n",
              "\n",
              "    .colab-df-buttons div {\n",
              "      margin-bottom: 4px;\n",
              "    }\n",
              "\n",
              "    [theme=dark] .colab-df-convert {\n",
              "      background-color: #3B4455;\n",
              "      fill: #D2E3FC;\n",
              "    }\n",
              "\n",
              "    [theme=dark] .colab-df-convert:hover {\n",
              "      background-color: #434B5C;\n",
              "      box-shadow: 0px 1px 3px 1px rgba(0, 0, 0, 0.15);\n",
              "      filter: drop-shadow(0px 1px 2px rgba(0, 0, 0, 0.3));\n",
              "      fill: #FFFFFF;\n",
              "    }\n",
              "  </style>\n",
              "\n",
              "    <script>\n",
              "      const buttonEl =\n",
              "        document.querySelector('#df-becb7738-d5c5-4e93-8fed-918bbb44fc0e button.colab-df-convert');\n",
              "      buttonEl.style.display =\n",
              "        google.colab.kernel.accessAllowed ? 'block' : 'none';\n",
              "\n",
              "      async function convertToInteractive(key) {\n",
              "        const element = document.querySelector('#df-becb7738-d5c5-4e93-8fed-918bbb44fc0e');\n",
              "        const dataTable =\n",
              "          await google.colab.kernel.invokeFunction('convertToInteractive',\n",
              "                                                    [key], {});\n",
              "        if (!dataTable) return;\n",
              "\n",
              "        const docLinkHtml = 'Like what you see? Visit the ' +\n",
              "          '<a target=\"_blank\" href=https://colab.research.google.com/notebooks/data_table.ipynb>data table notebook</a>'\n",
              "          + ' to learn more about interactive tables.';\n",
              "        element.innerHTML = '';\n",
              "        dataTable['output_type'] = 'display_data';\n",
              "        await google.colab.output.renderOutput(dataTable, element);\n",
              "        const docLink = document.createElement('div');\n",
              "        docLink.innerHTML = docLinkHtml;\n",
              "        element.appendChild(docLink);\n",
              "      }\n",
              "    </script>\n",
              "  </div>\n",
              "\n",
              "\n",
              "    <div id=\"df-094d6b08-24bd-469f-8d16-5d6f34f5c8b9\">\n",
              "      <button class=\"colab-df-quickchart\" onclick=\"quickchart('df-094d6b08-24bd-469f-8d16-5d6f34f5c8b9')\"\n",
              "                title=\"Suggest charts\"\n",
              "                style=\"display:none;\">\n",
              "\n",
              "<svg xmlns=\"http://www.w3.org/2000/svg\" height=\"24px\"viewBox=\"0 0 24 24\"\n",
              "     width=\"24px\">\n",
              "    <g>\n",
              "        <path d=\"M19 3H5c-1.1 0-2 .9-2 2v14c0 1.1.9 2 2 2h14c1.1 0 2-.9 2-2V5c0-1.1-.9-2-2-2zM9 17H7v-7h2v7zm4 0h-2V7h2v10zm4 0h-2v-4h2v4z\"/>\n",
              "    </g>\n",
              "</svg>\n",
              "      </button>\n",
              "\n",
              "<style>\n",
              "  .colab-df-quickchart {\n",
              "      --bg-color: #E8F0FE;\n",
              "      --fill-color: #1967D2;\n",
              "      --hover-bg-color: #E2EBFA;\n",
              "      --hover-fill-color: #174EA6;\n",
              "      --disabled-fill-color: #AAA;\n",
              "      --disabled-bg-color: #DDD;\n",
              "  }\n",
              "\n",
              "  [theme=dark] .colab-df-quickchart {\n",
              "      --bg-color: #3B4455;\n",
              "      --fill-color: #D2E3FC;\n",
              "      --hover-bg-color: #434B5C;\n",
              "      --hover-fill-color: #FFFFFF;\n",
              "      --disabled-bg-color: #3B4455;\n",
              "      --disabled-fill-color: #666;\n",
              "  }\n",
              "\n",
              "  .colab-df-quickchart {\n",
              "    background-color: var(--bg-color);\n",
              "    border: none;\n",
              "    border-radius: 50%;\n",
              "    cursor: pointer;\n",
              "    display: none;\n",
              "    fill: var(--fill-color);\n",
              "    height: 32px;\n",
              "    padding: 0;\n",
              "    width: 32px;\n",
              "  }\n",
              "\n",
              "  .colab-df-quickchart:hover {\n",
              "    background-color: var(--hover-bg-color);\n",
              "    box-shadow: 0 1px 2px rgba(60, 64, 67, 0.3), 0 1px 3px 1px rgba(60, 64, 67, 0.15);\n",
              "    fill: var(--button-hover-fill-color);\n",
              "  }\n",
              "\n",
              "  .colab-df-quickchart-complete:disabled,\n",
              "  .colab-df-quickchart-complete:disabled:hover {\n",
              "    background-color: var(--disabled-bg-color);\n",
              "    fill: var(--disabled-fill-color);\n",
              "    box-shadow: none;\n",
              "  }\n",
              "\n",
              "  .colab-df-spinner {\n",
              "    border: 2px solid var(--fill-color);\n",
              "    border-color: transparent;\n",
              "    border-bottom-color: var(--fill-color);\n",
              "    animation:\n",
              "      spin 1s steps(1) infinite;\n",
              "  }\n",
              "\n",
              "  @keyframes spin {\n",
              "    0% {\n",
              "      border-color: transparent;\n",
              "      border-bottom-color: var(--fill-color);\n",
              "      border-left-color: var(--fill-color);\n",
              "    }\n",
              "    20% {\n",
              "      border-color: transparent;\n",
              "      border-left-color: var(--fill-color);\n",
              "      border-top-color: var(--fill-color);\n",
              "    }\n",
              "    30% {\n",
              "      border-color: transparent;\n",
              "      border-left-color: var(--fill-color);\n",
              "      border-top-color: var(--fill-color);\n",
              "      border-right-color: var(--fill-color);\n",
              "    }\n",
              "    40% {\n",
              "      border-color: transparent;\n",
              "      border-right-color: var(--fill-color);\n",
              "      border-top-color: var(--fill-color);\n",
              "    }\n",
              "    60% {\n",
              "      border-color: transparent;\n",
              "      border-right-color: var(--fill-color);\n",
              "    }\n",
              "    80% {\n",
              "      border-color: transparent;\n",
              "      border-right-color: var(--fill-color);\n",
              "      border-bottom-color: var(--fill-color);\n",
              "    }\n",
              "    90% {\n",
              "      border-color: transparent;\n",
              "      border-bottom-color: var(--fill-color);\n",
              "    }\n",
              "  }\n",
              "</style>\n",
              "\n",
              "      <script>\n",
              "        async function quickchart(key) {\n",
              "          const quickchartButtonEl =\n",
              "            document.querySelector('#' + key + ' button');\n",
              "          quickchartButtonEl.disabled = true;  // To prevent multiple clicks.\n",
              "          quickchartButtonEl.classList.add('colab-df-spinner');\n",
              "          try {\n",
              "            const charts = await google.colab.kernel.invokeFunction(\n",
              "                'suggestCharts', [key], {});\n",
              "          } catch (error) {\n",
              "            console.error('Error during call to suggestCharts:', error);\n",
              "          }\n",
              "          quickchartButtonEl.classList.remove('colab-df-spinner');\n",
              "          quickchartButtonEl.classList.add('colab-df-quickchart-complete');\n",
              "        }\n",
              "        (() => {\n",
              "          let quickchartButtonEl =\n",
              "            document.querySelector('#df-094d6b08-24bd-469f-8d16-5d6f34f5c8b9 button');\n",
              "          quickchartButtonEl.style.display =\n",
              "            google.colab.kernel.accessAllowed ? 'block' : 'none';\n",
              "        })();\n",
              "      </script>\n",
              "    </div>\n",
              "\n",
              "  <div id=\"id_3dd348b9-019e-405f-a0cc-2807796cdfc7\">\n",
              "    <style>\n",
              "      .colab-df-generate {\n",
              "        background-color: #E8F0FE;\n",
              "        border: none;\n",
              "        border-radius: 50%;\n",
              "        cursor: pointer;\n",
              "        display: none;\n",
              "        fill: #1967D2;\n",
              "        height: 32px;\n",
              "        padding: 0 0 0 0;\n",
              "        width: 32px;\n",
              "      }\n",
              "\n",
              "      .colab-df-generate:hover {\n",
              "        background-color: #E2EBFA;\n",
              "        box-shadow: 0px 1px 2px rgba(60, 64, 67, 0.3), 0px 1px 3px 1px rgba(60, 64, 67, 0.15);\n",
              "        fill: #174EA6;\n",
              "      }\n",
              "\n",
              "      [theme=dark] .colab-df-generate {\n",
              "        background-color: #3B4455;\n",
              "        fill: #D2E3FC;\n",
              "      }\n",
              "\n",
              "      [theme=dark] .colab-df-generate:hover {\n",
              "        background-color: #434B5C;\n",
              "        box-shadow: 0px 1px 3px 1px rgba(0, 0, 0, 0.15);\n",
              "        filter: drop-shadow(0px 1px 2px rgba(0, 0, 0, 0.3));\n",
              "        fill: #FFFFFF;\n",
              "      }\n",
              "    </style>\n",
              "    <button class=\"colab-df-generate\" onclick=\"generateWithVariable('result')\"\n",
              "            title=\"Generate code using this dataframe.\"\n",
              "            style=\"display:none;\">\n",
              "\n",
              "  <svg xmlns=\"http://www.w3.org/2000/svg\" height=\"24px\"viewBox=\"0 0 24 24\"\n",
              "       width=\"24px\">\n",
              "    <path d=\"M7,19H8.4L18.45,9,17,7.55,7,17.6ZM5,21V16.75L18.45,3.32a2,2,0,0,1,2.83,0l1.4,1.43a1.91,1.91,0,0,1,.58,1.4,1.91,1.91,0,0,1-.58,1.4L9.25,21ZM18.45,9,17,7.55Zm-12,3A5.31,5.31,0,0,0,4.9,8.1,5.31,5.31,0,0,0,1,6.5,5.31,5.31,0,0,0,4.9,4.9,5.31,5.31,0,0,0,6.5,1,5.31,5.31,0,0,0,8.1,4.9,5.31,5.31,0,0,0,12,6.5,5.46,5.46,0,0,0,6.5,12Z\"/>\n",
              "  </svg>\n",
              "    </button>\n",
              "    <script>\n",
              "      (() => {\n",
              "      const buttonEl =\n",
              "        document.querySelector('#id_3dd348b9-019e-405f-a0cc-2807796cdfc7 button.colab-df-generate');\n",
              "      buttonEl.style.display =\n",
              "        google.colab.kernel.accessAllowed ? 'block' : 'none';\n",
              "\n",
              "      buttonEl.onclick = () => {\n",
              "        google.colab.notebook.generateWithVariable('result');\n",
              "      }\n",
              "      })();\n",
              "    </script>\n",
              "  </div>\n",
              "\n",
              "    </div>\n",
              "  </div>\n"
            ],
            "application/vnd.google.colaboratory.intrinsic+json": {
              "type": "dataframe",
              "variable_name": "result",
              "summary": "{\n  \"name\": \"result\",\n  \"rows\": 12,\n  \"fields\": [\n    {\n      \"column\": \"A\",\n      \"properties\": {\n        \"dtype\": \"string\",\n        \"num_unique_values\": 12,\n        \"samples\": [\n          \"A10\",\n          \"A9\",\n          \"A0\"\n        ],\n        \"semantic_type\": \"\",\n        \"description\": \"\"\n      }\n    },\n    {\n      \"column\": \"B\",\n      \"properties\": {\n        \"dtype\": \"string\",\n        \"num_unique_values\": 12,\n        \"samples\": [\n          \"B10\",\n          \"B9\",\n          \"B0\"\n        ],\n        \"semantic_type\": \"\",\n        \"description\": \"\"\n      }\n    },\n    {\n      \"column\": \"C\",\n      \"properties\": {\n        \"dtype\": \"string\",\n        \"num_unique_values\": 12,\n        \"samples\": [\n          \"C10\",\n          \"C9\",\n          \"C0\"\n        ],\n        \"semantic_type\": \"\",\n        \"description\": \"\"\n      }\n    },\n    {\n      \"column\": \"D\",\n      \"properties\": {\n        \"dtype\": \"string\",\n        \"num_unique_values\": 12,\n        \"samples\": [\n          \"D10\",\n          \"D9\",\n          \"D0\"\n        ],\n        \"semantic_type\": \"\",\n        \"description\": \"\"\n      }\n    }\n  ]\n}"
            }
          },
          "metadata": {},
          "execution_count": 4
        }
      ]
    },
    {
      "cell_type": "code",
      "source": [
        "df4 = pd.DataFrame(\n",
        "   {\n",
        "       \"B\": [\"B2\", \"B3\", \"B6\", \"B7\"],\n",
        "       \"D\": [\"D2\", \"D3\", \"D6\", \"D7\"],\n",
        "       \"F\": [\"F2\", \"F3\", \"F6\", \"F7\"],\n",
        "   },\n",
        "   index=[2, 3, 6, 7],\n",
        ")\n",
        "result = pd.concat([df1, df4], axis=1)\n",
        "result"
      ],
      "metadata": {
        "colab": {
          "base_uri": "https://localhost:8080/",
          "height": 238
        },
        "id": "-h6H3wKXkcej",
        "outputId": "b8e7a68f-fa38-4860-e292-b23f33e36e8c"
      },
      "execution_count": null,
      "outputs": [
        {
          "output_type": "execute_result",
          "data": {
            "text/plain": [
              "     A    B    C    D    B    D    F\n",
              "0   A0   B0   C0   D0  NaN  NaN  NaN\n",
              "1   A1   B1   C1   D1  NaN  NaN  NaN\n",
              "2   A2   B2   C2   D2   B2   D2   F2\n",
              "3   A3   B3   C3   D3   B3   D3   F3\n",
              "6  NaN  NaN  NaN  NaN   B6   D6   F6\n",
              "7  NaN  NaN  NaN  NaN   B7   D7   F7"
            ],
            "text/html": [
              "\n",
              "  <div id=\"df-4435bdf8-9b04-463a-a33a-7ee490819d5d\" class=\"colab-df-container\">\n",
              "    <div>\n",
              "<style scoped>\n",
              "    .dataframe tbody tr th:only-of-type {\n",
              "        vertical-align: middle;\n",
              "    }\n",
              "\n",
              "    .dataframe tbody tr th {\n",
              "        vertical-align: top;\n",
              "    }\n",
              "\n",
              "    .dataframe thead th {\n",
              "        text-align: right;\n",
              "    }\n",
              "</style>\n",
              "<table border=\"1\" class=\"dataframe\">\n",
              "  <thead>\n",
              "    <tr style=\"text-align: right;\">\n",
              "      <th></th>\n",
              "      <th>A</th>\n",
              "      <th>B</th>\n",
              "      <th>C</th>\n",
              "      <th>D</th>\n",
              "      <th>B</th>\n",
              "      <th>D</th>\n",
              "      <th>F</th>\n",
              "    </tr>\n",
              "  </thead>\n",
              "  <tbody>\n",
              "    <tr>\n",
              "      <th>0</th>\n",
              "      <td>A0</td>\n",
              "      <td>B0</td>\n",
              "      <td>C0</td>\n",
              "      <td>D0</td>\n",
              "      <td>NaN</td>\n",
              "      <td>NaN</td>\n",
              "      <td>NaN</td>\n",
              "    </tr>\n",
              "    <tr>\n",
              "      <th>1</th>\n",
              "      <td>A1</td>\n",
              "      <td>B1</td>\n",
              "      <td>C1</td>\n",
              "      <td>D1</td>\n",
              "      <td>NaN</td>\n",
              "      <td>NaN</td>\n",
              "      <td>NaN</td>\n",
              "    </tr>\n",
              "    <tr>\n",
              "      <th>2</th>\n",
              "      <td>A2</td>\n",
              "      <td>B2</td>\n",
              "      <td>C2</td>\n",
              "      <td>D2</td>\n",
              "      <td>B2</td>\n",
              "      <td>D2</td>\n",
              "      <td>F2</td>\n",
              "    </tr>\n",
              "    <tr>\n",
              "      <th>3</th>\n",
              "      <td>A3</td>\n",
              "      <td>B3</td>\n",
              "      <td>C3</td>\n",
              "      <td>D3</td>\n",
              "      <td>B3</td>\n",
              "      <td>D3</td>\n",
              "      <td>F3</td>\n",
              "    </tr>\n",
              "    <tr>\n",
              "      <th>6</th>\n",
              "      <td>NaN</td>\n",
              "      <td>NaN</td>\n",
              "      <td>NaN</td>\n",
              "      <td>NaN</td>\n",
              "      <td>B6</td>\n",
              "      <td>D6</td>\n",
              "      <td>F6</td>\n",
              "    </tr>\n",
              "    <tr>\n",
              "      <th>7</th>\n",
              "      <td>NaN</td>\n",
              "      <td>NaN</td>\n",
              "      <td>NaN</td>\n",
              "      <td>NaN</td>\n",
              "      <td>B7</td>\n",
              "      <td>D7</td>\n",
              "      <td>F7</td>\n",
              "    </tr>\n",
              "  </tbody>\n",
              "</table>\n",
              "</div>\n",
              "    <div class=\"colab-df-buttons\">\n",
              "\n",
              "  <div class=\"colab-df-container\">\n",
              "    <button class=\"colab-df-convert\" onclick=\"convertToInteractive('df-4435bdf8-9b04-463a-a33a-7ee490819d5d')\"\n",
              "            title=\"Convert this dataframe to an interactive table.\"\n",
              "            style=\"display:none;\">\n",
              "\n",
              "  <svg xmlns=\"http://www.w3.org/2000/svg\" height=\"24px\" viewBox=\"0 -960 960 960\">\n",
              "    <path d=\"M120-120v-720h720v720H120Zm60-500h600v-160H180v160Zm220 220h160v-160H400v160Zm0 220h160v-160H400v160ZM180-400h160v-160H180v160Zm440 0h160v-160H620v160ZM180-180h160v-160H180v160Zm440 0h160v-160H620v160Z\"/>\n",
              "  </svg>\n",
              "    </button>\n",
              "\n",
              "  <style>\n",
              "    .colab-df-container {\n",
              "      display:flex;\n",
              "      gap: 12px;\n",
              "    }\n",
              "\n",
              "    .colab-df-convert {\n",
              "      background-color: #E8F0FE;\n",
              "      border: none;\n",
              "      border-radius: 50%;\n",
              "      cursor: pointer;\n",
              "      display: none;\n",
              "      fill: #1967D2;\n",
              "      height: 32px;\n",
              "      padding: 0 0 0 0;\n",
              "      width: 32px;\n",
              "    }\n",
              "\n",
              "    .colab-df-convert:hover {\n",
              "      background-color: #E2EBFA;\n",
              "      box-shadow: 0px 1px 2px rgba(60, 64, 67, 0.3), 0px 1px 3px 1px rgba(60, 64, 67, 0.15);\n",
              "      fill: #174EA6;\n",
              "    }\n",
              "\n",
              "    .colab-df-buttons div {\n",
              "      margin-bottom: 4px;\n",
              "    }\n",
              "\n",
              "    [theme=dark] .colab-df-convert {\n",
              "      background-color: #3B4455;\n",
              "      fill: #D2E3FC;\n",
              "    }\n",
              "\n",
              "    [theme=dark] .colab-df-convert:hover {\n",
              "      background-color: #434B5C;\n",
              "      box-shadow: 0px 1px 3px 1px rgba(0, 0, 0, 0.15);\n",
              "      filter: drop-shadow(0px 1px 2px rgba(0, 0, 0, 0.3));\n",
              "      fill: #FFFFFF;\n",
              "    }\n",
              "  </style>\n",
              "\n",
              "    <script>\n",
              "      const buttonEl =\n",
              "        document.querySelector('#df-4435bdf8-9b04-463a-a33a-7ee490819d5d button.colab-df-convert');\n",
              "      buttonEl.style.display =\n",
              "        google.colab.kernel.accessAllowed ? 'block' : 'none';\n",
              "\n",
              "      async function convertToInteractive(key) {\n",
              "        const element = document.querySelector('#df-4435bdf8-9b04-463a-a33a-7ee490819d5d');\n",
              "        const dataTable =\n",
              "          await google.colab.kernel.invokeFunction('convertToInteractive',\n",
              "                                                    [key], {});\n",
              "        if (!dataTable) return;\n",
              "\n",
              "        const docLinkHtml = 'Like what you see? Visit the ' +\n",
              "          '<a target=\"_blank\" href=https://colab.research.google.com/notebooks/data_table.ipynb>data table notebook</a>'\n",
              "          + ' to learn more about interactive tables.';\n",
              "        element.innerHTML = '';\n",
              "        dataTable['output_type'] = 'display_data';\n",
              "        await google.colab.output.renderOutput(dataTable, element);\n",
              "        const docLink = document.createElement('div');\n",
              "        docLink.innerHTML = docLinkHtml;\n",
              "        element.appendChild(docLink);\n",
              "      }\n",
              "    </script>\n",
              "  </div>\n",
              "\n",
              "\n",
              "    <div id=\"df-bf3d3faf-add3-40b7-a2c7-1e79027466f8\">\n",
              "      <button class=\"colab-df-quickchart\" onclick=\"quickchart('df-bf3d3faf-add3-40b7-a2c7-1e79027466f8')\"\n",
              "                title=\"Suggest charts\"\n",
              "                style=\"display:none;\">\n",
              "\n",
              "<svg xmlns=\"http://www.w3.org/2000/svg\" height=\"24px\"viewBox=\"0 0 24 24\"\n",
              "     width=\"24px\">\n",
              "    <g>\n",
              "        <path d=\"M19 3H5c-1.1 0-2 .9-2 2v14c0 1.1.9 2 2 2h14c1.1 0 2-.9 2-2V5c0-1.1-.9-2-2-2zM9 17H7v-7h2v7zm4 0h-2V7h2v10zm4 0h-2v-4h2v4z\"/>\n",
              "    </g>\n",
              "</svg>\n",
              "      </button>\n",
              "\n",
              "<style>\n",
              "  .colab-df-quickchart {\n",
              "      --bg-color: #E8F0FE;\n",
              "      --fill-color: #1967D2;\n",
              "      --hover-bg-color: #E2EBFA;\n",
              "      --hover-fill-color: #174EA6;\n",
              "      --disabled-fill-color: #AAA;\n",
              "      --disabled-bg-color: #DDD;\n",
              "  }\n",
              "\n",
              "  [theme=dark] .colab-df-quickchart {\n",
              "      --bg-color: #3B4455;\n",
              "      --fill-color: #D2E3FC;\n",
              "      --hover-bg-color: #434B5C;\n",
              "      --hover-fill-color: #FFFFFF;\n",
              "      --disabled-bg-color: #3B4455;\n",
              "      --disabled-fill-color: #666;\n",
              "  }\n",
              "\n",
              "  .colab-df-quickchart {\n",
              "    background-color: var(--bg-color);\n",
              "    border: none;\n",
              "    border-radius: 50%;\n",
              "    cursor: pointer;\n",
              "    display: none;\n",
              "    fill: var(--fill-color);\n",
              "    height: 32px;\n",
              "    padding: 0;\n",
              "    width: 32px;\n",
              "  }\n",
              "\n",
              "  .colab-df-quickchart:hover {\n",
              "    background-color: var(--hover-bg-color);\n",
              "    box-shadow: 0 1px 2px rgba(60, 64, 67, 0.3), 0 1px 3px 1px rgba(60, 64, 67, 0.15);\n",
              "    fill: var(--button-hover-fill-color);\n",
              "  }\n",
              "\n",
              "  .colab-df-quickchart-complete:disabled,\n",
              "  .colab-df-quickchart-complete:disabled:hover {\n",
              "    background-color: var(--disabled-bg-color);\n",
              "    fill: var(--disabled-fill-color);\n",
              "    box-shadow: none;\n",
              "  }\n",
              "\n",
              "  .colab-df-spinner {\n",
              "    border: 2px solid var(--fill-color);\n",
              "    border-color: transparent;\n",
              "    border-bottom-color: var(--fill-color);\n",
              "    animation:\n",
              "      spin 1s steps(1) infinite;\n",
              "  }\n",
              "\n",
              "  @keyframes spin {\n",
              "    0% {\n",
              "      border-color: transparent;\n",
              "      border-bottom-color: var(--fill-color);\n",
              "      border-left-color: var(--fill-color);\n",
              "    }\n",
              "    20% {\n",
              "      border-color: transparent;\n",
              "      border-left-color: var(--fill-color);\n",
              "      border-top-color: var(--fill-color);\n",
              "    }\n",
              "    30% {\n",
              "      border-color: transparent;\n",
              "      border-left-color: var(--fill-color);\n",
              "      border-top-color: var(--fill-color);\n",
              "      border-right-color: var(--fill-color);\n",
              "    }\n",
              "    40% {\n",
              "      border-color: transparent;\n",
              "      border-right-color: var(--fill-color);\n",
              "      border-top-color: var(--fill-color);\n",
              "    }\n",
              "    60% {\n",
              "      border-color: transparent;\n",
              "      border-right-color: var(--fill-color);\n",
              "    }\n",
              "    80% {\n",
              "      border-color: transparent;\n",
              "      border-right-color: var(--fill-color);\n",
              "      border-bottom-color: var(--fill-color);\n",
              "    }\n",
              "    90% {\n",
              "      border-color: transparent;\n",
              "      border-bottom-color: var(--fill-color);\n",
              "    }\n",
              "  }\n",
              "</style>\n",
              "\n",
              "      <script>\n",
              "        async function quickchart(key) {\n",
              "          const quickchartButtonEl =\n",
              "            document.querySelector('#' + key + ' button');\n",
              "          quickchartButtonEl.disabled = true;  // To prevent multiple clicks.\n",
              "          quickchartButtonEl.classList.add('colab-df-spinner');\n",
              "          try {\n",
              "            const charts = await google.colab.kernel.invokeFunction(\n",
              "                'suggestCharts', [key], {});\n",
              "          } catch (error) {\n",
              "            console.error('Error during call to suggestCharts:', error);\n",
              "          }\n",
              "          quickchartButtonEl.classList.remove('colab-df-spinner');\n",
              "          quickchartButtonEl.classList.add('colab-df-quickchart-complete');\n",
              "        }\n",
              "        (() => {\n",
              "          let quickchartButtonEl =\n",
              "            document.querySelector('#df-bf3d3faf-add3-40b7-a2c7-1e79027466f8 button');\n",
              "          quickchartButtonEl.style.display =\n",
              "            google.colab.kernel.accessAllowed ? 'block' : 'none';\n",
              "        })();\n",
              "      </script>\n",
              "    </div>\n",
              "\n",
              "  <div id=\"id_7b8edb31-a323-4b6b-b3ec-a95c3b86cb8a\">\n",
              "    <style>\n",
              "      .colab-df-generate {\n",
              "        background-color: #E8F0FE;\n",
              "        border: none;\n",
              "        border-radius: 50%;\n",
              "        cursor: pointer;\n",
              "        display: none;\n",
              "        fill: #1967D2;\n",
              "        height: 32px;\n",
              "        padding: 0 0 0 0;\n",
              "        width: 32px;\n",
              "      }\n",
              "\n",
              "      .colab-df-generate:hover {\n",
              "        background-color: #E2EBFA;\n",
              "        box-shadow: 0px 1px 2px rgba(60, 64, 67, 0.3), 0px 1px 3px 1px rgba(60, 64, 67, 0.15);\n",
              "        fill: #174EA6;\n",
              "      }\n",
              "\n",
              "      [theme=dark] .colab-df-generate {\n",
              "        background-color: #3B4455;\n",
              "        fill: #D2E3FC;\n",
              "      }\n",
              "\n",
              "      [theme=dark] .colab-df-generate:hover {\n",
              "        background-color: #434B5C;\n",
              "        box-shadow: 0px 1px 3px 1px rgba(0, 0, 0, 0.15);\n",
              "        filter: drop-shadow(0px 1px 2px rgba(0, 0, 0, 0.3));\n",
              "        fill: #FFFFFF;\n",
              "      }\n",
              "    </style>\n",
              "    <button class=\"colab-df-generate\" onclick=\"generateWithVariable('result')\"\n",
              "            title=\"Generate code using this dataframe.\"\n",
              "            style=\"display:none;\">\n",
              "\n",
              "  <svg xmlns=\"http://www.w3.org/2000/svg\" height=\"24px\"viewBox=\"0 0 24 24\"\n",
              "       width=\"24px\">\n",
              "    <path d=\"M7,19H8.4L18.45,9,17,7.55,7,17.6ZM5,21V16.75L18.45,3.32a2,2,0,0,1,2.83,0l1.4,1.43a1.91,1.91,0,0,1,.58,1.4,1.91,1.91,0,0,1-.58,1.4L9.25,21ZM18.45,9,17,7.55Zm-12,3A5.31,5.31,0,0,0,4.9,8.1,5.31,5.31,0,0,0,1,6.5,5.31,5.31,0,0,0,4.9,4.9,5.31,5.31,0,0,0,6.5,1,5.31,5.31,0,0,0,8.1,4.9,5.31,5.31,0,0,0,12,6.5,5.46,5.46,0,0,0,6.5,12Z\"/>\n",
              "  </svg>\n",
              "    </button>\n",
              "    <script>\n",
              "      (() => {\n",
              "      const buttonEl =\n",
              "        document.querySelector('#id_7b8edb31-a323-4b6b-b3ec-a95c3b86cb8a button.colab-df-generate');\n",
              "      buttonEl.style.display =\n",
              "        google.colab.kernel.accessAllowed ? 'block' : 'none';\n",
              "\n",
              "      buttonEl.onclick = () => {\n",
              "        google.colab.notebook.generateWithVariable('result');\n",
              "      }\n",
              "      })();\n",
              "    </script>\n",
              "  </div>\n",
              "\n",
              "    </div>\n",
              "  </div>\n"
            ],
            "application/vnd.google.colaboratory.intrinsic+json": {
              "type": "dataframe",
              "variable_name": "result",
              "summary": "{\n  \"name\": \"result\",\n  \"rows\": 6,\n  \"fields\": [\n    {\n      \"column\": \"A\",\n      \"properties\": {\n        \"dtype\": \"string\",\n        \"num_unique_values\": 4,\n        \"samples\": [\n          \"A1\",\n          \"A3\",\n          \"A0\"\n        ],\n        \"semantic_type\": \"\",\n        \"description\": \"\"\n      }\n    },\n    {\n      \"column\": \"B\",\n      \"properties\": {\n        \"dtype\": \"string\",\n        \"num_unique_values\": 4,\n        \"samples\": [\n          \"B1\",\n          \"B3\",\n          \"B0\"\n        ],\n        \"semantic_type\": \"\",\n        \"description\": \"\"\n      }\n    },\n    {\n      \"column\": \"C\",\n      \"properties\": {\n        \"dtype\": \"string\",\n        \"num_unique_values\": 4,\n        \"samples\": [\n          \"C1\",\n          \"C3\",\n          \"C0\"\n        ],\n        \"semantic_type\": \"\",\n        \"description\": \"\"\n      }\n    },\n    {\n      \"column\": \"D\",\n      \"properties\": {\n        \"dtype\": \"string\",\n        \"num_unique_values\": 4,\n        \"samples\": [\n          \"D1\",\n          \"D3\",\n          \"D0\"\n        ],\n        \"semantic_type\": \"\",\n        \"description\": \"\"\n      }\n    },\n    {\n      \"column\": \"B\",\n      \"properties\": {\n        \"dtype\": \"string\",\n        \"num_unique_values\": 4,\n        \"samples\": [\n          \"B3\",\n          \"B7\",\n          \"B2\"\n        ],\n        \"semantic_type\": \"\",\n        \"description\": \"\"\n      }\n    },\n    {\n      \"column\": \"D\",\n      \"properties\": {\n        \"dtype\": \"string\",\n        \"num_unique_values\": 4,\n        \"samples\": [\n          \"D3\",\n          \"D7\",\n          \"D2\"\n        ],\n        \"semantic_type\": \"\",\n        \"description\": \"\"\n      }\n    },\n    {\n      \"column\": \"F\",\n      \"properties\": {\n        \"dtype\": \"string\",\n        \"num_unique_values\": 4,\n        \"samples\": [\n          \"F3\",\n          \"F7\",\n          \"F2\"\n        ],\n        \"semantic_type\": \"\",\n        \"description\": \"\"\n      }\n    }\n  ]\n}"
            }
          },
          "metadata": {},
          "execution_count": 5
        }
      ]
    },
    {
      "cell_type": "code",
      "source": [
        "result = pd.concat([df1, df4], axis=1, join=\"inner\")\n",
        "result"
      ],
      "metadata": {
        "colab": {
          "base_uri": "https://localhost:8080/",
          "height": 125
        },
        "id": "fhyCS4hRkulS",
        "outputId": "4ceb6cb1-8aab-4427-971f-f6cb6fa2e978"
      },
      "execution_count": null,
      "outputs": [
        {
          "output_type": "execute_result",
          "data": {
            "text/plain": [
              "    A   B   C   D   B   D   F\n",
              "2  A2  B2  C2  D2  B2  D2  F2\n",
              "3  A3  B3  C3  D3  B3  D3  F3"
            ],
            "text/html": [
              "\n",
              "  <div id=\"df-4ed7f113-a08c-41e9-bbb0-54702159ab97\" class=\"colab-df-container\">\n",
              "    <div>\n",
              "<style scoped>\n",
              "    .dataframe tbody tr th:only-of-type {\n",
              "        vertical-align: middle;\n",
              "    }\n",
              "\n",
              "    .dataframe tbody tr th {\n",
              "        vertical-align: top;\n",
              "    }\n",
              "\n",
              "    .dataframe thead th {\n",
              "        text-align: right;\n",
              "    }\n",
              "</style>\n",
              "<table border=\"1\" class=\"dataframe\">\n",
              "  <thead>\n",
              "    <tr style=\"text-align: right;\">\n",
              "      <th></th>\n",
              "      <th>A</th>\n",
              "      <th>B</th>\n",
              "      <th>C</th>\n",
              "      <th>D</th>\n",
              "      <th>B</th>\n",
              "      <th>D</th>\n",
              "      <th>F</th>\n",
              "    </tr>\n",
              "  </thead>\n",
              "  <tbody>\n",
              "    <tr>\n",
              "      <th>2</th>\n",
              "      <td>A2</td>\n",
              "      <td>B2</td>\n",
              "      <td>C2</td>\n",
              "      <td>D2</td>\n",
              "      <td>B2</td>\n",
              "      <td>D2</td>\n",
              "      <td>F2</td>\n",
              "    </tr>\n",
              "    <tr>\n",
              "      <th>3</th>\n",
              "      <td>A3</td>\n",
              "      <td>B3</td>\n",
              "      <td>C3</td>\n",
              "      <td>D3</td>\n",
              "      <td>B3</td>\n",
              "      <td>D3</td>\n",
              "      <td>F3</td>\n",
              "    </tr>\n",
              "  </tbody>\n",
              "</table>\n",
              "</div>\n",
              "    <div class=\"colab-df-buttons\">\n",
              "\n",
              "  <div class=\"colab-df-container\">\n",
              "    <button class=\"colab-df-convert\" onclick=\"convertToInteractive('df-4ed7f113-a08c-41e9-bbb0-54702159ab97')\"\n",
              "            title=\"Convert this dataframe to an interactive table.\"\n",
              "            style=\"display:none;\">\n",
              "\n",
              "  <svg xmlns=\"http://www.w3.org/2000/svg\" height=\"24px\" viewBox=\"0 -960 960 960\">\n",
              "    <path d=\"M120-120v-720h720v720H120Zm60-500h600v-160H180v160Zm220 220h160v-160H400v160Zm0 220h160v-160H400v160ZM180-400h160v-160H180v160Zm440 0h160v-160H620v160ZM180-180h160v-160H180v160Zm440 0h160v-160H620v160Z\"/>\n",
              "  </svg>\n",
              "    </button>\n",
              "\n",
              "  <style>\n",
              "    .colab-df-container {\n",
              "      display:flex;\n",
              "      gap: 12px;\n",
              "    }\n",
              "\n",
              "    .colab-df-convert {\n",
              "      background-color: #E8F0FE;\n",
              "      border: none;\n",
              "      border-radius: 50%;\n",
              "      cursor: pointer;\n",
              "      display: none;\n",
              "      fill: #1967D2;\n",
              "      height: 32px;\n",
              "      padding: 0 0 0 0;\n",
              "      width: 32px;\n",
              "    }\n",
              "\n",
              "    .colab-df-convert:hover {\n",
              "      background-color: #E2EBFA;\n",
              "      box-shadow: 0px 1px 2px rgba(60, 64, 67, 0.3), 0px 1px 3px 1px rgba(60, 64, 67, 0.15);\n",
              "      fill: #174EA6;\n",
              "    }\n",
              "\n",
              "    .colab-df-buttons div {\n",
              "      margin-bottom: 4px;\n",
              "    }\n",
              "\n",
              "    [theme=dark] .colab-df-convert {\n",
              "      background-color: #3B4455;\n",
              "      fill: #D2E3FC;\n",
              "    }\n",
              "\n",
              "    [theme=dark] .colab-df-convert:hover {\n",
              "      background-color: #434B5C;\n",
              "      box-shadow: 0px 1px 3px 1px rgba(0, 0, 0, 0.15);\n",
              "      filter: drop-shadow(0px 1px 2px rgba(0, 0, 0, 0.3));\n",
              "      fill: #FFFFFF;\n",
              "    }\n",
              "  </style>\n",
              "\n",
              "    <script>\n",
              "      const buttonEl =\n",
              "        document.querySelector('#df-4ed7f113-a08c-41e9-bbb0-54702159ab97 button.colab-df-convert');\n",
              "      buttonEl.style.display =\n",
              "        google.colab.kernel.accessAllowed ? 'block' : 'none';\n",
              "\n",
              "      async function convertToInteractive(key) {\n",
              "        const element = document.querySelector('#df-4ed7f113-a08c-41e9-bbb0-54702159ab97');\n",
              "        const dataTable =\n",
              "          await google.colab.kernel.invokeFunction('convertToInteractive',\n",
              "                                                    [key], {});\n",
              "        if (!dataTable) return;\n",
              "\n",
              "        const docLinkHtml = 'Like what you see? Visit the ' +\n",
              "          '<a target=\"_blank\" href=https://colab.research.google.com/notebooks/data_table.ipynb>data table notebook</a>'\n",
              "          + ' to learn more about interactive tables.';\n",
              "        element.innerHTML = '';\n",
              "        dataTable['output_type'] = 'display_data';\n",
              "        await google.colab.output.renderOutput(dataTable, element);\n",
              "        const docLink = document.createElement('div');\n",
              "        docLink.innerHTML = docLinkHtml;\n",
              "        element.appendChild(docLink);\n",
              "      }\n",
              "    </script>\n",
              "  </div>\n",
              "\n",
              "\n",
              "    <div id=\"df-fbf2a54f-1ade-47f4-b03b-e4cf228e4cf1\">\n",
              "      <button class=\"colab-df-quickchart\" onclick=\"quickchart('df-fbf2a54f-1ade-47f4-b03b-e4cf228e4cf1')\"\n",
              "                title=\"Suggest charts\"\n",
              "                style=\"display:none;\">\n",
              "\n",
              "<svg xmlns=\"http://www.w3.org/2000/svg\" height=\"24px\"viewBox=\"0 0 24 24\"\n",
              "     width=\"24px\">\n",
              "    <g>\n",
              "        <path d=\"M19 3H5c-1.1 0-2 .9-2 2v14c0 1.1.9 2 2 2h14c1.1 0 2-.9 2-2V5c0-1.1-.9-2-2-2zM9 17H7v-7h2v7zm4 0h-2V7h2v10zm4 0h-2v-4h2v4z\"/>\n",
              "    </g>\n",
              "</svg>\n",
              "      </button>\n",
              "\n",
              "<style>\n",
              "  .colab-df-quickchart {\n",
              "      --bg-color: #E8F0FE;\n",
              "      --fill-color: #1967D2;\n",
              "      --hover-bg-color: #E2EBFA;\n",
              "      --hover-fill-color: #174EA6;\n",
              "      --disabled-fill-color: #AAA;\n",
              "      --disabled-bg-color: #DDD;\n",
              "  }\n",
              "\n",
              "  [theme=dark] .colab-df-quickchart {\n",
              "      --bg-color: #3B4455;\n",
              "      --fill-color: #D2E3FC;\n",
              "      --hover-bg-color: #434B5C;\n",
              "      --hover-fill-color: #FFFFFF;\n",
              "      --disabled-bg-color: #3B4455;\n",
              "      --disabled-fill-color: #666;\n",
              "  }\n",
              "\n",
              "  .colab-df-quickchart {\n",
              "    background-color: var(--bg-color);\n",
              "    border: none;\n",
              "    border-radius: 50%;\n",
              "    cursor: pointer;\n",
              "    display: none;\n",
              "    fill: var(--fill-color);\n",
              "    height: 32px;\n",
              "    padding: 0;\n",
              "    width: 32px;\n",
              "  }\n",
              "\n",
              "  .colab-df-quickchart:hover {\n",
              "    background-color: var(--hover-bg-color);\n",
              "    box-shadow: 0 1px 2px rgba(60, 64, 67, 0.3), 0 1px 3px 1px rgba(60, 64, 67, 0.15);\n",
              "    fill: var(--button-hover-fill-color);\n",
              "  }\n",
              "\n",
              "  .colab-df-quickchart-complete:disabled,\n",
              "  .colab-df-quickchart-complete:disabled:hover {\n",
              "    background-color: var(--disabled-bg-color);\n",
              "    fill: var(--disabled-fill-color);\n",
              "    box-shadow: none;\n",
              "  }\n",
              "\n",
              "  .colab-df-spinner {\n",
              "    border: 2px solid var(--fill-color);\n",
              "    border-color: transparent;\n",
              "    border-bottom-color: var(--fill-color);\n",
              "    animation:\n",
              "      spin 1s steps(1) infinite;\n",
              "  }\n",
              "\n",
              "  @keyframes spin {\n",
              "    0% {\n",
              "      border-color: transparent;\n",
              "      border-bottom-color: var(--fill-color);\n",
              "      border-left-color: var(--fill-color);\n",
              "    }\n",
              "    20% {\n",
              "      border-color: transparent;\n",
              "      border-left-color: var(--fill-color);\n",
              "      border-top-color: var(--fill-color);\n",
              "    }\n",
              "    30% {\n",
              "      border-color: transparent;\n",
              "      border-left-color: var(--fill-color);\n",
              "      border-top-color: var(--fill-color);\n",
              "      border-right-color: var(--fill-color);\n",
              "    }\n",
              "    40% {\n",
              "      border-color: transparent;\n",
              "      border-right-color: var(--fill-color);\n",
              "      border-top-color: var(--fill-color);\n",
              "    }\n",
              "    60% {\n",
              "      border-color: transparent;\n",
              "      border-right-color: var(--fill-color);\n",
              "    }\n",
              "    80% {\n",
              "      border-color: transparent;\n",
              "      border-right-color: var(--fill-color);\n",
              "      border-bottom-color: var(--fill-color);\n",
              "    }\n",
              "    90% {\n",
              "      border-color: transparent;\n",
              "      border-bottom-color: var(--fill-color);\n",
              "    }\n",
              "  }\n",
              "</style>\n",
              "\n",
              "      <script>\n",
              "        async function quickchart(key) {\n",
              "          const quickchartButtonEl =\n",
              "            document.querySelector('#' + key + ' button');\n",
              "          quickchartButtonEl.disabled = true;  // To prevent multiple clicks.\n",
              "          quickchartButtonEl.classList.add('colab-df-spinner');\n",
              "          try {\n",
              "            const charts = await google.colab.kernel.invokeFunction(\n",
              "                'suggestCharts', [key], {});\n",
              "          } catch (error) {\n",
              "            console.error('Error during call to suggestCharts:', error);\n",
              "          }\n",
              "          quickchartButtonEl.classList.remove('colab-df-spinner');\n",
              "          quickchartButtonEl.classList.add('colab-df-quickchart-complete');\n",
              "        }\n",
              "        (() => {\n",
              "          let quickchartButtonEl =\n",
              "            document.querySelector('#df-fbf2a54f-1ade-47f4-b03b-e4cf228e4cf1 button');\n",
              "          quickchartButtonEl.style.display =\n",
              "            google.colab.kernel.accessAllowed ? 'block' : 'none';\n",
              "        })();\n",
              "      </script>\n",
              "    </div>\n",
              "\n",
              "  <div id=\"id_6d54114d-1393-4020-a65c-eeb93c52dd4b\">\n",
              "    <style>\n",
              "      .colab-df-generate {\n",
              "        background-color: #E8F0FE;\n",
              "        border: none;\n",
              "        border-radius: 50%;\n",
              "        cursor: pointer;\n",
              "        display: none;\n",
              "        fill: #1967D2;\n",
              "        height: 32px;\n",
              "        padding: 0 0 0 0;\n",
              "        width: 32px;\n",
              "      }\n",
              "\n",
              "      .colab-df-generate:hover {\n",
              "        background-color: #E2EBFA;\n",
              "        box-shadow: 0px 1px 2px rgba(60, 64, 67, 0.3), 0px 1px 3px 1px rgba(60, 64, 67, 0.15);\n",
              "        fill: #174EA6;\n",
              "      }\n",
              "\n",
              "      [theme=dark] .colab-df-generate {\n",
              "        background-color: #3B4455;\n",
              "        fill: #D2E3FC;\n",
              "      }\n",
              "\n",
              "      [theme=dark] .colab-df-generate:hover {\n",
              "        background-color: #434B5C;\n",
              "        box-shadow: 0px 1px 3px 1px rgba(0, 0, 0, 0.15);\n",
              "        filter: drop-shadow(0px 1px 2px rgba(0, 0, 0, 0.3));\n",
              "        fill: #FFFFFF;\n",
              "      }\n",
              "    </style>\n",
              "    <button class=\"colab-df-generate\" onclick=\"generateWithVariable('result')\"\n",
              "            title=\"Generate code using this dataframe.\"\n",
              "            style=\"display:none;\">\n",
              "\n",
              "  <svg xmlns=\"http://www.w3.org/2000/svg\" height=\"24px\"viewBox=\"0 0 24 24\"\n",
              "       width=\"24px\">\n",
              "    <path d=\"M7,19H8.4L18.45,9,17,7.55,7,17.6ZM5,21V16.75L18.45,3.32a2,2,0,0,1,2.83,0l1.4,1.43a1.91,1.91,0,0,1,.58,1.4,1.91,1.91,0,0,1-.58,1.4L9.25,21ZM18.45,9,17,7.55Zm-12,3A5.31,5.31,0,0,0,4.9,8.1,5.31,5.31,0,0,0,1,6.5,5.31,5.31,0,0,0,4.9,4.9,5.31,5.31,0,0,0,6.5,1,5.31,5.31,0,0,0,8.1,4.9,5.31,5.31,0,0,0,12,6.5,5.46,5.46,0,0,0,6.5,12Z\"/>\n",
              "  </svg>\n",
              "    </button>\n",
              "    <script>\n",
              "      (() => {\n",
              "      const buttonEl =\n",
              "        document.querySelector('#id_6d54114d-1393-4020-a65c-eeb93c52dd4b button.colab-df-generate');\n",
              "      buttonEl.style.display =\n",
              "        google.colab.kernel.accessAllowed ? 'block' : 'none';\n",
              "\n",
              "      buttonEl.onclick = () => {\n",
              "        google.colab.notebook.generateWithVariable('result');\n",
              "      }\n",
              "      })();\n",
              "    </script>\n",
              "  </div>\n",
              "\n",
              "    </div>\n",
              "  </div>\n"
            ],
            "application/vnd.google.colaboratory.intrinsic+json": {
              "type": "dataframe",
              "variable_name": "result",
              "summary": "{\n  \"name\": \"result\",\n  \"rows\": 2,\n  \"fields\": [\n    {\n      \"column\": \"A\",\n      \"properties\": {\n        \"dtype\": \"string\",\n        \"num_unique_values\": 2,\n        \"samples\": [\n          \"A3\",\n          \"A2\"\n        ],\n        \"semantic_type\": \"\",\n        \"description\": \"\"\n      }\n    },\n    {\n      \"column\": \"B\",\n      \"properties\": {\n        \"dtype\": \"string\",\n        \"num_unique_values\": 2,\n        \"samples\": [\n          \"B3\",\n          \"B2\"\n        ],\n        \"semantic_type\": \"\",\n        \"description\": \"\"\n      }\n    },\n    {\n      \"column\": \"C\",\n      \"properties\": {\n        \"dtype\": \"string\",\n        \"num_unique_values\": 2,\n        \"samples\": [\n          \"C3\",\n          \"C2\"\n        ],\n        \"semantic_type\": \"\",\n        \"description\": \"\"\n      }\n    },\n    {\n      \"column\": \"D\",\n      \"properties\": {\n        \"dtype\": \"string\",\n        \"num_unique_values\": 2,\n        \"samples\": [\n          \"D3\",\n          \"D2\"\n        ],\n        \"semantic_type\": \"\",\n        \"description\": \"\"\n      }\n    },\n    {\n      \"column\": \"B\",\n      \"properties\": {\n        \"dtype\": \"string\",\n        \"num_unique_values\": 2,\n        \"samples\": [\n          \"B3\",\n          \"B2\"\n        ],\n        \"semantic_type\": \"\",\n        \"description\": \"\"\n      }\n    },\n    {\n      \"column\": \"D\",\n      \"properties\": {\n        \"dtype\": \"string\",\n        \"num_unique_values\": 2,\n        \"samples\": [\n          \"D3\",\n          \"D2\"\n        ],\n        \"semantic_type\": \"\",\n        \"description\": \"\"\n      }\n    },\n    {\n      \"column\": \"F\",\n      \"properties\": {\n        \"dtype\": \"string\",\n        \"num_unique_values\": 2,\n        \"samples\": [\n          \"F3\",\n          \"F2\"\n        ],\n        \"semantic_type\": \"\",\n        \"description\": \"\"\n      }\n    }\n  ]\n}"
            }
          },
          "metadata": {},
          "execution_count": 7
        }
      ]
    },
    {
      "cell_type": "code",
      "source": [
        "result = pd.concat([df1, df4], ignore_index=True, sort=False)\n",
        "result"
      ],
      "metadata": {
        "colab": {
          "base_uri": "https://localhost:8080/",
          "height": 300
        },
        "id": "SB_4kHDZlDjP",
        "outputId": "b51e323f-6e4d-4755-8402-9766b63536bb"
      },
      "execution_count": null,
      "outputs": [
        {
          "output_type": "execute_result",
          "data": {
            "text/plain": [
              "     A   B    C   D    F\n",
              "0   A0  B0   C0  D0  NaN\n",
              "1   A1  B1   C1  D1  NaN\n",
              "2   A2  B2   C2  D2  NaN\n",
              "3   A3  B3   C3  D3  NaN\n",
              "4  NaN  B2  NaN  D2   F2\n",
              "5  NaN  B3  NaN  D3   F3\n",
              "6  NaN  B6  NaN  D6   F6\n",
              "7  NaN  B7  NaN  D7   F7"
            ],
            "text/html": [
              "\n",
              "  <div id=\"df-e103c187-1b44-4c69-adfc-3d7192fb64e0\" class=\"colab-df-container\">\n",
              "    <div>\n",
              "<style scoped>\n",
              "    .dataframe tbody tr th:only-of-type {\n",
              "        vertical-align: middle;\n",
              "    }\n",
              "\n",
              "    .dataframe tbody tr th {\n",
              "        vertical-align: top;\n",
              "    }\n",
              "\n",
              "    .dataframe thead th {\n",
              "        text-align: right;\n",
              "    }\n",
              "</style>\n",
              "<table border=\"1\" class=\"dataframe\">\n",
              "  <thead>\n",
              "    <tr style=\"text-align: right;\">\n",
              "      <th></th>\n",
              "      <th>A</th>\n",
              "      <th>B</th>\n",
              "      <th>C</th>\n",
              "      <th>D</th>\n",
              "      <th>F</th>\n",
              "    </tr>\n",
              "  </thead>\n",
              "  <tbody>\n",
              "    <tr>\n",
              "      <th>0</th>\n",
              "      <td>A0</td>\n",
              "      <td>B0</td>\n",
              "      <td>C0</td>\n",
              "      <td>D0</td>\n",
              "      <td>NaN</td>\n",
              "    </tr>\n",
              "    <tr>\n",
              "      <th>1</th>\n",
              "      <td>A1</td>\n",
              "      <td>B1</td>\n",
              "      <td>C1</td>\n",
              "      <td>D1</td>\n",
              "      <td>NaN</td>\n",
              "    </tr>\n",
              "    <tr>\n",
              "      <th>2</th>\n",
              "      <td>A2</td>\n",
              "      <td>B2</td>\n",
              "      <td>C2</td>\n",
              "      <td>D2</td>\n",
              "      <td>NaN</td>\n",
              "    </tr>\n",
              "    <tr>\n",
              "      <th>3</th>\n",
              "      <td>A3</td>\n",
              "      <td>B3</td>\n",
              "      <td>C3</td>\n",
              "      <td>D3</td>\n",
              "      <td>NaN</td>\n",
              "    </tr>\n",
              "    <tr>\n",
              "      <th>4</th>\n",
              "      <td>NaN</td>\n",
              "      <td>B2</td>\n",
              "      <td>NaN</td>\n",
              "      <td>D2</td>\n",
              "      <td>F2</td>\n",
              "    </tr>\n",
              "    <tr>\n",
              "      <th>5</th>\n",
              "      <td>NaN</td>\n",
              "      <td>B3</td>\n",
              "      <td>NaN</td>\n",
              "      <td>D3</td>\n",
              "      <td>F3</td>\n",
              "    </tr>\n",
              "    <tr>\n",
              "      <th>6</th>\n",
              "      <td>NaN</td>\n",
              "      <td>B6</td>\n",
              "      <td>NaN</td>\n",
              "      <td>D6</td>\n",
              "      <td>F6</td>\n",
              "    </tr>\n",
              "    <tr>\n",
              "      <th>7</th>\n",
              "      <td>NaN</td>\n",
              "      <td>B7</td>\n",
              "      <td>NaN</td>\n",
              "      <td>D7</td>\n",
              "      <td>F7</td>\n",
              "    </tr>\n",
              "  </tbody>\n",
              "</table>\n",
              "</div>\n",
              "    <div class=\"colab-df-buttons\">\n",
              "\n",
              "  <div class=\"colab-df-container\">\n",
              "    <button class=\"colab-df-convert\" onclick=\"convertToInteractive('df-e103c187-1b44-4c69-adfc-3d7192fb64e0')\"\n",
              "            title=\"Convert this dataframe to an interactive table.\"\n",
              "            style=\"display:none;\">\n",
              "\n",
              "  <svg xmlns=\"http://www.w3.org/2000/svg\" height=\"24px\" viewBox=\"0 -960 960 960\">\n",
              "    <path d=\"M120-120v-720h720v720H120Zm60-500h600v-160H180v160Zm220 220h160v-160H400v160Zm0 220h160v-160H400v160ZM180-400h160v-160H180v160Zm440 0h160v-160H620v160ZM180-180h160v-160H180v160Zm440 0h160v-160H620v160Z\"/>\n",
              "  </svg>\n",
              "    </button>\n",
              "\n",
              "  <style>\n",
              "    .colab-df-container {\n",
              "      display:flex;\n",
              "      gap: 12px;\n",
              "    }\n",
              "\n",
              "    .colab-df-convert {\n",
              "      background-color: #E8F0FE;\n",
              "      border: none;\n",
              "      border-radius: 50%;\n",
              "      cursor: pointer;\n",
              "      display: none;\n",
              "      fill: #1967D2;\n",
              "      height: 32px;\n",
              "      padding: 0 0 0 0;\n",
              "      width: 32px;\n",
              "    }\n",
              "\n",
              "    .colab-df-convert:hover {\n",
              "      background-color: #E2EBFA;\n",
              "      box-shadow: 0px 1px 2px rgba(60, 64, 67, 0.3), 0px 1px 3px 1px rgba(60, 64, 67, 0.15);\n",
              "      fill: #174EA6;\n",
              "    }\n",
              "\n",
              "    .colab-df-buttons div {\n",
              "      margin-bottom: 4px;\n",
              "    }\n",
              "\n",
              "    [theme=dark] .colab-df-convert {\n",
              "      background-color: #3B4455;\n",
              "      fill: #D2E3FC;\n",
              "    }\n",
              "\n",
              "    [theme=dark] .colab-df-convert:hover {\n",
              "      background-color: #434B5C;\n",
              "      box-shadow: 0px 1px 3px 1px rgba(0, 0, 0, 0.15);\n",
              "      filter: drop-shadow(0px 1px 2px rgba(0, 0, 0, 0.3));\n",
              "      fill: #FFFFFF;\n",
              "    }\n",
              "  </style>\n",
              "\n",
              "    <script>\n",
              "      const buttonEl =\n",
              "        document.querySelector('#df-e103c187-1b44-4c69-adfc-3d7192fb64e0 button.colab-df-convert');\n",
              "      buttonEl.style.display =\n",
              "        google.colab.kernel.accessAllowed ? 'block' : 'none';\n",
              "\n",
              "      async function convertToInteractive(key) {\n",
              "        const element = document.querySelector('#df-e103c187-1b44-4c69-adfc-3d7192fb64e0');\n",
              "        const dataTable =\n",
              "          await google.colab.kernel.invokeFunction('convertToInteractive',\n",
              "                                                    [key], {});\n",
              "        if (!dataTable) return;\n",
              "\n",
              "        const docLinkHtml = 'Like what you see? Visit the ' +\n",
              "          '<a target=\"_blank\" href=https://colab.research.google.com/notebooks/data_table.ipynb>data table notebook</a>'\n",
              "          + ' to learn more about interactive tables.';\n",
              "        element.innerHTML = '';\n",
              "        dataTable['output_type'] = 'display_data';\n",
              "        await google.colab.output.renderOutput(dataTable, element);\n",
              "        const docLink = document.createElement('div');\n",
              "        docLink.innerHTML = docLinkHtml;\n",
              "        element.appendChild(docLink);\n",
              "      }\n",
              "    </script>\n",
              "  </div>\n",
              "\n",
              "\n",
              "    <div id=\"df-d33984af-0c47-475a-9d9e-e24b83fad026\">\n",
              "      <button class=\"colab-df-quickchart\" onclick=\"quickchart('df-d33984af-0c47-475a-9d9e-e24b83fad026')\"\n",
              "                title=\"Suggest charts\"\n",
              "                style=\"display:none;\">\n",
              "\n",
              "<svg xmlns=\"http://www.w3.org/2000/svg\" height=\"24px\"viewBox=\"0 0 24 24\"\n",
              "     width=\"24px\">\n",
              "    <g>\n",
              "        <path d=\"M19 3H5c-1.1 0-2 .9-2 2v14c0 1.1.9 2 2 2h14c1.1 0 2-.9 2-2V5c0-1.1-.9-2-2-2zM9 17H7v-7h2v7zm4 0h-2V7h2v10zm4 0h-2v-4h2v4z\"/>\n",
              "    </g>\n",
              "</svg>\n",
              "      </button>\n",
              "\n",
              "<style>\n",
              "  .colab-df-quickchart {\n",
              "      --bg-color: #E8F0FE;\n",
              "      --fill-color: #1967D2;\n",
              "      --hover-bg-color: #E2EBFA;\n",
              "      --hover-fill-color: #174EA6;\n",
              "      --disabled-fill-color: #AAA;\n",
              "      --disabled-bg-color: #DDD;\n",
              "  }\n",
              "\n",
              "  [theme=dark] .colab-df-quickchart {\n",
              "      --bg-color: #3B4455;\n",
              "      --fill-color: #D2E3FC;\n",
              "      --hover-bg-color: #434B5C;\n",
              "      --hover-fill-color: #FFFFFF;\n",
              "      --disabled-bg-color: #3B4455;\n",
              "      --disabled-fill-color: #666;\n",
              "  }\n",
              "\n",
              "  .colab-df-quickchart {\n",
              "    background-color: var(--bg-color);\n",
              "    border: none;\n",
              "    border-radius: 50%;\n",
              "    cursor: pointer;\n",
              "    display: none;\n",
              "    fill: var(--fill-color);\n",
              "    height: 32px;\n",
              "    padding: 0;\n",
              "    width: 32px;\n",
              "  }\n",
              "\n",
              "  .colab-df-quickchart:hover {\n",
              "    background-color: var(--hover-bg-color);\n",
              "    box-shadow: 0 1px 2px rgba(60, 64, 67, 0.3), 0 1px 3px 1px rgba(60, 64, 67, 0.15);\n",
              "    fill: var(--button-hover-fill-color);\n",
              "  }\n",
              "\n",
              "  .colab-df-quickchart-complete:disabled,\n",
              "  .colab-df-quickchart-complete:disabled:hover {\n",
              "    background-color: var(--disabled-bg-color);\n",
              "    fill: var(--disabled-fill-color);\n",
              "    box-shadow: none;\n",
              "  }\n",
              "\n",
              "  .colab-df-spinner {\n",
              "    border: 2px solid var(--fill-color);\n",
              "    border-color: transparent;\n",
              "    border-bottom-color: var(--fill-color);\n",
              "    animation:\n",
              "      spin 1s steps(1) infinite;\n",
              "  }\n",
              "\n",
              "  @keyframes spin {\n",
              "    0% {\n",
              "      border-color: transparent;\n",
              "      border-bottom-color: var(--fill-color);\n",
              "      border-left-color: var(--fill-color);\n",
              "    }\n",
              "    20% {\n",
              "      border-color: transparent;\n",
              "      border-left-color: var(--fill-color);\n",
              "      border-top-color: var(--fill-color);\n",
              "    }\n",
              "    30% {\n",
              "      border-color: transparent;\n",
              "      border-left-color: var(--fill-color);\n",
              "      border-top-color: var(--fill-color);\n",
              "      border-right-color: var(--fill-color);\n",
              "    }\n",
              "    40% {\n",
              "      border-color: transparent;\n",
              "      border-right-color: var(--fill-color);\n",
              "      border-top-color: var(--fill-color);\n",
              "    }\n",
              "    60% {\n",
              "      border-color: transparent;\n",
              "      border-right-color: var(--fill-color);\n",
              "    }\n",
              "    80% {\n",
              "      border-color: transparent;\n",
              "      border-right-color: var(--fill-color);\n",
              "      border-bottom-color: var(--fill-color);\n",
              "    }\n",
              "    90% {\n",
              "      border-color: transparent;\n",
              "      border-bottom-color: var(--fill-color);\n",
              "    }\n",
              "  }\n",
              "</style>\n",
              "\n",
              "      <script>\n",
              "        async function quickchart(key) {\n",
              "          const quickchartButtonEl =\n",
              "            document.querySelector('#' + key + ' button');\n",
              "          quickchartButtonEl.disabled = true;  // To prevent multiple clicks.\n",
              "          quickchartButtonEl.classList.add('colab-df-spinner');\n",
              "          try {\n",
              "            const charts = await google.colab.kernel.invokeFunction(\n",
              "                'suggestCharts', [key], {});\n",
              "          } catch (error) {\n",
              "            console.error('Error during call to suggestCharts:', error);\n",
              "          }\n",
              "          quickchartButtonEl.classList.remove('colab-df-spinner');\n",
              "          quickchartButtonEl.classList.add('colab-df-quickchart-complete');\n",
              "        }\n",
              "        (() => {\n",
              "          let quickchartButtonEl =\n",
              "            document.querySelector('#df-d33984af-0c47-475a-9d9e-e24b83fad026 button');\n",
              "          quickchartButtonEl.style.display =\n",
              "            google.colab.kernel.accessAllowed ? 'block' : 'none';\n",
              "        })();\n",
              "      </script>\n",
              "    </div>\n",
              "\n",
              "  <div id=\"id_b295d436-5b77-4e69-b909-29119e829d07\">\n",
              "    <style>\n",
              "      .colab-df-generate {\n",
              "        background-color: #E8F0FE;\n",
              "        border: none;\n",
              "        border-radius: 50%;\n",
              "        cursor: pointer;\n",
              "        display: none;\n",
              "        fill: #1967D2;\n",
              "        height: 32px;\n",
              "        padding: 0 0 0 0;\n",
              "        width: 32px;\n",
              "      }\n",
              "\n",
              "      .colab-df-generate:hover {\n",
              "        background-color: #E2EBFA;\n",
              "        box-shadow: 0px 1px 2px rgba(60, 64, 67, 0.3), 0px 1px 3px 1px rgba(60, 64, 67, 0.15);\n",
              "        fill: #174EA6;\n",
              "      }\n",
              "\n",
              "      [theme=dark] .colab-df-generate {\n",
              "        background-color: #3B4455;\n",
              "        fill: #D2E3FC;\n",
              "      }\n",
              "\n",
              "      [theme=dark] .colab-df-generate:hover {\n",
              "        background-color: #434B5C;\n",
              "        box-shadow: 0px 1px 3px 1px rgba(0, 0, 0, 0.15);\n",
              "        filter: drop-shadow(0px 1px 2px rgba(0, 0, 0, 0.3));\n",
              "        fill: #FFFFFF;\n",
              "      }\n",
              "    </style>\n",
              "    <button class=\"colab-df-generate\" onclick=\"generateWithVariable('result')\"\n",
              "            title=\"Generate code using this dataframe.\"\n",
              "            style=\"display:none;\">\n",
              "\n",
              "  <svg xmlns=\"http://www.w3.org/2000/svg\" height=\"24px\"viewBox=\"0 0 24 24\"\n",
              "       width=\"24px\">\n",
              "    <path d=\"M7,19H8.4L18.45,9,17,7.55,7,17.6ZM5,21V16.75L18.45,3.32a2,2,0,0,1,2.83,0l1.4,1.43a1.91,1.91,0,0,1,.58,1.4,1.91,1.91,0,0,1-.58,1.4L9.25,21ZM18.45,9,17,7.55Zm-12,3A5.31,5.31,0,0,0,4.9,8.1,5.31,5.31,0,0,0,1,6.5,5.31,5.31,0,0,0,4.9,4.9,5.31,5.31,0,0,0,6.5,1,5.31,5.31,0,0,0,8.1,4.9,5.31,5.31,0,0,0,12,6.5,5.46,5.46,0,0,0,6.5,12Z\"/>\n",
              "  </svg>\n",
              "    </button>\n",
              "    <script>\n",
              "      (() => {\n",
              "      const buttonEl =\n",
              "        document.querySelector('#id_b295d436-5b77-4e69-b909-29119e829d07 button.colab-df-generate');\n",
              "      buttonEl.style.display =\n",
              "        google.colab.kernel.accessAllowed ? 'block' : 'none';\n",
              "\n",
              "      buttonEl.onclick = () => {\n",
              "        google.colab.notebook.generateWithVariable('result');\n",
              "      }\n",
              "      })();\n",
              "    </script>\n",
              "  </div>\n",
              "\n",
              "    </div>\n",
              "  </div>\n"
            ],
            "application/vnd.google.colaboratory.intrinsic+json": {
              "type": "dataframe",
              "variable_name": "result",
              "summary": "{\n  \"name\": \"result\",\n  \"rows\": 8,\n  \"fields\": [\n    {\n      \"column\": \"A\",\n      \"properties\": {\n        \"dtype\": \"string\",\n        \"num_unique_values\": 4,\n        \"samples\": [\n          \"A1\",\n          \"A3\",\n          \"A0\"\n        ],\n        \"semantic_type\": \"\",\n        \"description\": \"\"\n      }\n    },\n    {\n      \"column\": \"B\",\n      \"properties\": {\n        \"dtype\": \"string\",\n        \"num_unique_values\": 6,\n        \"samples\": [\n          \"B0\",\n          \"B1\",\n          \"B7\"\n        ],\n        \"semantic_type\": \"\",\n        \"description\": \"\"\n      }\n    },\n    {\n      \"column\": \"C\",\n      \"properties\": {\n        \"dtype\": \"string\",\n        \"num_unique_values\": 4,\n        \"samples\": [\n          \"C1\",\n          \"C3\",\n          \"C0\"\n        ],\n        \"semantic_type\": \"\",\n        \"description\": \"\"\n      }\n    },\n    {\n      \"column\": \"D\",\n      \"properties\": {\n        \"dtype\": \"string\",\n        \"num_unique_values\": 6,\n        \"samples\": [\n          \"D0\",\n          \"D1\",\n          \"D7\"\n        ],\n        \"semantic_type\": \"\",\n        \"description\": \"\"\n      }\n    },\n    {\n      \"column\": \"F\",\n      \"properties\": {\n        \"dtype\": \"string\",\n        \"num_unique_values\": 4,\n        \"samples\": [\n          \"F3\",\n          \"F7\",\n          \"F2\"\n        ],\n        \"semantic_type\": \"\",\n        \"description\": \"\"\n      }\n    }\n  ]\n}"
            }
          },
          "metadata": {},
          "execution_count": 8
        }
      ]
    },
    {
      "cell_type": "code",
      "source": [
        "df1 = pd.DataFrame({'employee': ['Bob', 'Jake', 'Lisa', 'Sue'],\n",
        "                   'group': ['Accounting', 'Engineering',\n",
        "                             'Engineering', 'HR']})\n",
        "df2 = pd.DataFrame({'employee': ['Lisa', 'Bob', 'Jake', 'Sue'],\n",
        "                   'hire_date': [2004, 2008, 2012, 2014]})\n",
        "print(df1)\n",
        "print(df2)\n",
        "df3 = pd.merge(df1, df2)\n",
        "print('--------------------------')\n",
        "print(df3)"
      ],
      "metadata": {
        "colab": {
          "base_uri": "https://localhost:8080/"
        },
        "id": "8DRAFZtmlS5_",
        "outputId": "ed6265f8-7cdb-4dcb-aa51-58f33bc84faf"
      },
      "execution_count": null,
      "outputs": [
        {
          "output_type": "stream",
          "name": "stdout",
          "text": [
            "  employee        group\n",
            "0      Bob   Accounting\n",
            "1     Jake  Engineering\n",
            "2     Lisa  Engineering\n",
            "3      Sue           HR\n",
            "  employee  hire_date\n",
            "0     Lisa       2004\n",
            "1      Bob       2008\n",
            "2     Jake       2012\n",
            "3      Sue       2014\n",
            "--------------------------\n",
            "  employee        group  hire_date\n",
            "0      Bob   Accounting       2008\n",
            "1     Jake  Engineering       2012\n",
            "2     Lisa  Engineering       2004\n",
            "3      Sue           HR       2014\n"
          ]
        }
      ]
    },
    {
      "cell_type": "code",
      "source": [
        "df1 = pd.DataFrame({'employee': ['Bob', 'Jake', 'Lisa', 'Sue'],\n",
        "                   'group': ['Accounting', 'Engineering',\n",
        "                             'Engineering', 'HR']})\n",
        "df2 = pd.DataFrame({'employee': ['Lisa', 'Bob', 'Jake', 'Sue'],\n",
        "                   'hire_date': [2004, 2008, 2012, 2014]})\n",
        "print(df1)\n",
        "print(df2)\n",
        "df3 = pd.merge(df1, df2)\n",
        "print('--------------------------')\n",
        "print(df3)"
      ],
      "metadata": {
        "colab": {
          "base_uri": "https://localhost:8080/"
        },
        "id": "s_YEEKi9ldE6",
        "outputId": "75749af2-b335-462e-c2a9-d8ef53b1c517"
      },
      "execution_count": null,
      "outputs": [
        {
          "output_type": "stream",
          "name": "stdout",
          "text": [
            "  employee        group\n",
            "0      Bob   Accounting\n",
            "1     Jake  Engineering\n",
            "2     Lisa  Engineering\n",
            "3      Sue           HR\n",
            "  employee  hire_date\n",
            "0     Lisa       2004\n",
            "1      Bob       2008\n",
            "2     Jake       2012\n",
            "3      Sue       2014\n",
            "--------------------------\n",
            "  employee        group  hire_date\n",
            "0      Bob   Accounting       2008\n",
            "1     Jake  Engineering       2012\n",
            "2     Lisa  Engineering       2004\n",
            "3      Sue           HR       2014\n"
          ]
        }
      ]
    },
    {
      "cell_type": "code",
      "source": [
        "import pandas as pd\n",
        "df1 = pd.DataFrame({'employee': ['Bob', 'Jake', 'Lisa', 'Sue'],\n",
        "                   'group': ['Accounting', 'Engineering',\n",
        "                             'Engineering', 'HR']})\n",
        "df2 = pd.DataFrame({'employee': ['Lisa', 'Bob', 'Jake', 'Sue'],\n",
        "                   'hire_date': [2004, 2008, 2012, 2014]})\n",
        "df3 = pd.DataFrame({'name': ['Bob', 'Jake', 'Lisa', 'Sue'],\n",
        "                   'salary': [70000, 80000, 120000, 90000]})\n",
        "print(df1)\n",
        "print(df3)\n",
        "print(pd.merge(df1, df3, left_on=\"employee\", right_on=\"name\"))"
      ],
      "metadata": {
        "colab": {
          "base_uri": "https://localhost:8080/"
        },
        "id": "-gyJjHIrlsbV",
        "outputId": "9bd50d52-4a66-49b7-8234-aee426dbb8aa"
      },
      "execution_count": null,
      "outputs": [
        {
          "output_type": "stream",
          "name": "stdout",
          "text": [
            "  employee        group\n",
            "0      Bob   Accounting\n",
            "1     Jake  Engineering\n",
            "2     Lisa  Engineering\n",
            "3      Sue           HR\n",
            "   name  salary\n",
            "0   Bob   70000\n",
            "1  Jake   80000\n",
            "2  Lisa  120000\n",
            "3   Sue   90000\n",
            "  employee        group  name  salary\n",
            "0      Bob   Accounting   Bob   70000\n",
            "1     Jake  Engineering  Jake   80000\n",
            "2     Lisa  Engineering  Lisa  120000\n",
            "3      Sue           HR   Sue   90000\n"
          ]
        }
      ]
    },
    {
      "cell_type": "code",
      "source": [
        "import pandas as pd\n",
        "import numpy as np\n",
        "\n",
        "df = pd.DataFrame(np.random.rand(5, 3), columns=['A', 'B', 'C'])\n",
        "result = df.eval(\"(A + B) / (C - 1)\", engine='python')\n",
        "\n",
        "print(df)\n",
        "print(result)\n",
        "\n"
      ],
      "metadata": {
        "colab": {
          "base_uri": "https://localhost:8080/"
        },
        "id": "HpYe0HRTl02A",
        "outputId": "ca1bdb2f-d48d-4e10-faa2-1eb95ff84453"
      },
      "execution_count": null,
      "outputs": [
        {
          "output_type": "stream",
          "name": "stdout",
          "text": [
            "          A         B         C\n",
            "0  0.913689  0.673927  0.021598\n",
            "1  0.202116  0.203865  0.606155\n",
            "2  0.454507  0.783541  0.522392\n",
            "3  0.420286  0.139171  0.211049\n",
            "4  0.283884  0.754321  0.159608\n",
            "0   -1.622663\n",
            "1   -1.030811\n",
            "2   -2.592184\n",
            "3   -0.709114\n",
            "4   -1.235381\n",
            "dtype: float64\n"
          ]
        }
      ]
    },
    {
      "cell_type": "markdown",
      "source": [
        "***4.3.4 Set logic on the other axes during merging***"
      ],
      "metadata": {
        "id": "sE5f6prEH4UP"
      }
    },
    {
      "cell_type": "code",
      "source": [
        "import pandas as pd\n",
        "df1 = pd.DataFrame({'employee': ['Bob', 'Jake', 'Lisa', 'Sue'],\n",
        "                   'group': ['Accounting', 'Engineering',\n",
        "                             'Engineering', 'HR']})\n",
        "df2 = pd.DataFrame({'employee': ['Lisa', 'Bob', 'Jake', 'Sue'],\n",
        "                   'hire_date': [2004, 2008, 2012, 2014]})\n",
        "df3 = pd.DataFrame({'name': ['Bob', 'Jake', 'Lisa', 'Sue'],\n",
        "                   'salary': [70000, 80000, 120000, 90000]})\n",
        "print(df1)\n",
        "print(df3)\n",
        "print(pd.merge(df1, df3, left_on=\"employee\",\n",
        "              right_on=\"name\").drop('name', axis=1))"
      ],
      "metadata": {
        "colab": {
          "base_uri": "https://localhost:8080/"
        },
        "id": "yOq3RFnEHU3P",
        "outputId": "6b8021c6-a4b5-420a-8444-f6671e8ad4ef"
      },
      "execution_count": null,
      "outputs": [
        {
          "output_type": "stream",
          "name": "stdout",
          "text": [
            "  employee        group\n",
            "0      Bob   Accounting\n",
            "1     Jake  Engineering\n",
            "2     Lisa  Engineering\n",
            "3      Sue           HR\n",
            "   name  salary\n",
            "0   Bob   70000\n",
            "1  Jake   80000\n",
            "2  Lisa  120000\n",
            "3   Sue   90000\n",
            "  employee        group  salary\n",
            "0      Bob   Accounting   70000\n",
            "1     Jake  Engineering   80000\n",
            "2     Lisa  Engineering  120000\n",
            "3      Sue           HR   90000\n"
          ]
        }
      ]
    },
    {
      "cell_type": "code",
      "source": [
        "import pandas as pd\n",
        "df1 = pd.DataFrame({'name': ['Peter', 'Paul', 'Mary'],\n",
        "                   'food': ['fish', 'beans', 'bread']},\n",
        "                   columns=['name', 'food'])\n",
        "df2 = pd.DataFrame({'name': ['Mary', 'Joseph'],\n",
        "                   'drink': ['cola', '7 up']},\n",
        "                   columns=['name', 'drink'])\n",
        "print(df1)\n",
        "print('-----------------------------')\n",
        "print(df2)\n",
        "print('-----------------------------')\n",
        "df3 = pd.merge(df1, df2)\n",
        "print(df3)"
      ],
      "metadata": {
        "colab": {
          "base_uri": "https://localhost:8080/"
        },
        "id": "On59hh4bIUia",
        "outputId": "4af84f49-ab6d-4b3f-dc81-a1e4c0f5277a"
      },
      "execution_count": null,
      "outputs": [
        {
          "output_type": "stream",
          "name": "stdout",
          "text": [
            "    name   food\n",
            "0  Peter   fish\n",
            "1   Paul  beans\n",
            "2   Mary  bread\n",
            "-----------------------------\n",
            "     name drink\n",
            "0    Mary  cola\n",
            "1  Joseph  7 up\n",
            "-----------------------------\n",
            "   name   food drink\n",
            "0  Mary  bread  cola\n"
          ]
        }
      ]
    },
    {
      "cell_type": "code",
      "source": [
        "import pandas as pd\n",
        "df1 = pd.DataFrame({'name': ['Peter', 'Paul', 'Mary'],\n",
        "                   'food': ['fish', 'beans', 'bread']},\n",
        "                   columns=['name', 'food'])\n",
        "df2 = pd.DataFrame({'name': ['Mary', 'Joseph'],\n",
        "                   'drink': ['cola', '7 up']},\n",
        "                   columns=['name', 'drink'])\n",
        "print(df1)\n",
        "print('-----------------------------')\n",
        "print(df2)\n",
        "print('-----------------------------')\n",
        "df3 = pd.merge(df1, df2, how='outer') #how='inner' for intersection of dataframe\n",
        "#outer is used for union of dataframe\n",
        "print(df3)"
      ],
      "metadata": {
        "colab": {
          "base_uri": "https://localhost:8080/"
        },
        "id": "y2rwTADzJc3J",
        "outputId": "4b8a1b76-41cc-4138-bf6d-6f676e37535f"
      },
      "execution_count": null,
      "outputs": [
        {
          "output_type": "stream",
          "name": "stdout",
          "text": [
            "    name   food\n",
            "0  Peter   fish\n",
            "1   Paul  beans\n",
            "2   Mary  bread\n",
            "-----------------------------\n",
            "     name drink\n",
            "0    Mary  cola\n",
            "1  Joseph  7 up\n",
            "-----------------------------\n",
            "     name   food drink\n",
            "0  Joseph    NaN  7 up\n",
            "1    Mary  bread  cola\n",
            "2    Paul  beans   NaN\n",
            "3   Peter   fish   NaN\n"
          ]
        }
      ]
    },
    {
      "cell_type": "code",
      "source": [
        "import pandas as pd\n",
        "df1 = pd.DataFrame({'name': ['Peter', 'Paul', 'Mary'],\n",
        "                   'food': ['fish', 'beans', 'bread']},\n",
        "                   columns=['name', 'food'])\n",
        "df2 = pd.DataFrame({'name': ['Mary', 'Joseph'],\n",
        "                   'drink': ['cola', '7 up']},\n",
        "                   columns=['name', 'drink'])\n",
        "print(df1)\n",
        "print('-----------------------------')\n",
        "print(df2)\n",
        "print('-----------------------------')\n",
        "df3 = pd.merge(df1, df2, how='left')\n",
        "print(df3)\n",
        "print('-----------------------------')\n",
        "df3 = pd.merge(df1, df2, how='right')\n",
        "print(df3)"
      ],
      "metadata": {
        "colab": {
          "base_uri": "https://localhost:8080/"
        },
        "id": "-rudMiLFKV2h",
        "outputId": "e310e344-247a-4b46-ba3c-089b7450d85b"
      },
      "execution_count": null,
      "outputs": [
        {
          "output_type": "stream",
          "name": "stdout",
          "text": [
            "    name   food\n",
            "0  Peter   fish\n",
            "1   Paul  beans\n",
            "2   Mary  bread\n",
            "-----------------------------\n",
            "     name drink\n",
            "0    Mary  cola\n",
            "1  Joseph  7 up\n",
            "-----------------------------\n",
            "    name   food drink\n",
            "0  Peter   fish   NaN\n",
            "1   Paul  beans   NaN\n",
            "2   Mary  bread  cola\n",
            "-----------------------------\n",
            "     name   food drink\n",
            "0    Mary  bread  cola\n",
            "1  Joseph    NaN  7 up\n"
          ]
        }
      ]
    },
    {
      "cell_type": "markdown",
      "source": [
        "**4.4 Advanced operations on DataFrames**\n",
        "4.4.1 Statistics for the entire DF"
      ],
      "metadata": {
        "id": "7C7yD1gyK7ai"
      }
    },
    {
      "cell_type": "code",
      "source": [
        "import pandas as pd\n",
        "import numpy as np\n",
        "df = pd.DataFrame({'A': np.random.rand(10),'B': np.random.rand(10)})\n",
        "print(df)\n",
        "print('------------------------------')\n",
        "print(df['A'].sum())\n",
        "print('------------------------------')\n",
        "print(df.prod())\n",
        "print('------------------------------')\n",
        "print(df.mean())"
      ],
      "metadata": {
        "colab": {
          "base_uri": "https://localhost:8080/"
        },
        "id": "ZhK8QcpOK6z0",
        "outputId": "b2ff4e1e-fb8e-40d4-a080-54660329e8f2"
      },
      "execution_count": null,
      "outputs": [
        {
          "output_type": "stream",
          "name": "stdout",
          "text": [
            "          A         B\n",
            "0  0.169778  0.684154\n",
            "1  0.612914  0.587859\n",
            "2  0.872902  0.170943\n",
            "3  0.130288  0.013833\n",
            "4  0.415470  0.324501\n",
            "5  0.768424  0.497536\n",
            "6  0.179871  0.375064\n",
            "7  0.760807  0.025116\n",
            "8  0.953065  0.103789\n",
            "9  0.637271  0.007415\n",
            "------------------------------\n",
            "5.500791013844702\n",
            "------------------------------\n",
            "A    3.140318e-04\n",
            "B    1.113112e-09\n",
            "dtype: float64\n",
            "------------------------------\n",
            "A    0.550079\n",
            "B    0.279021\n",
            "dtype: float64\n"
          ]
        }
      ]
    },
    {
      "cell_type": "markdown",
      "source": [
        " 4.4.3 Statistics on all columns or all row of the DF"
      ],
      "metadata": {
        "id": "9SI35pNDLu62"
      }
    },
    {
      "cell_type": "code",
      "source": [
        "import pandas as pd\n",
        "import numpy as np\n",
        "df = pd.DataFrame({'A': np.random.rand(10),'B': np.random.rand(10)})\n",
        "print(df)\n",
        "print('------------------------------')\n",
        "print(df.mean(axis='rows'))\n",
        "# print(df.mean(axis='columns'))\n",
        "print('------------------------------')\n",
        "print(df.count())\n",
        "print('------------------------------')\n",
        "print(df.min())\n",
        "print('------------------------------')\n",
        "print(df.max())\n",
        "print('------------------------------')\n",
        "print(df.std())\n",
        "print('------------------------------')"
      ],
      "metadata": {
        "colab": {
          "base_uri": "https://localhost:8080/"
        },
        "id": "3D4WGZgGLuiW",
        "outputId": "8c0b5c2d-0522-4041-84b1-280884ad9f90"
      },
      "execution_count": null,
      "outputs": [
        {
          "output_type": "stream",
          "name": "stdout",
          "text": [
            "          A         B\n",
            "0  0.211355  0.957901\n",
            "1  0.430793  0.514695\n",
            "2  0.550424  0.990693\n",
            "3  0.330069  0.439804\n",
            "4  0.690173  0.726695\n",
            "5  0.140465  0.811890\n",
            "6  0.622695  0.661493\n",
            "7  0.623130  0.410211\n",
            "8  0.333939  0.577653\n",
            "9  0.184959  0.953631\n",
            "------------------------------\n",
            "A    0.411800\n",
            "B    0.704466\n",
            "dtype: float64\n",
            "------------------------------\n",
            "A    10\n",
            "B    10\n",
            "dtype: int64\n",
            "------------------------------\n",
            "A    0.140465\n",
            "B    0.410211\n",
            "dtype: float64\n",
            "------------------------------\n",
            "A    0.690173\n",
            "B    0.990693\n",
            "dtype: float64\n",
            "------------------------------\n",
            "A    0.201165\n",
            "B    0.218796\n",
            "dtype: float64\n",
            "------------------------------\n"
          ]
        }
      ]
    },
    {
      "cell_type": "code",
      "source": [
        "import pandas as pd\n",
        "df = pd.DataFrame({'key':['A','B','C','A','B','C'],\n",
        "'data': range(6)},columns=['key', 'data'])\n",
        "print(df)\n",
        "print(df.describe())"
      ],
      "metadata": {
        "colab": {
          "base_uri": "https://localhost:8080/"
        },
        "id": "k3iNVYTqLuUr",
        "outputId": "805a2778-3857-4bcb-e3bc-b5d455b6b8cd"
      },
      "execution_count": null,
      "outputs": [
        {
          "output_type": "stream",
          "name": "stdout",
          "text": [
            "  key  data\n",
            "0   A     0\n",
            "1   B     1\n",
            "2   C     2\n",
            "3   A     3\n",
            "4   B     4\n",
            "5   C     5\n",
            "           data\n",
            "count  6.000000\n",
            "mean   2.500000\n",
            "std    1.870829\n",
            "min    0.000000\n",
            "25%    1.250000\n",
            "50%    2.500000\n",
            "75%    3.750000\n",
            "max    5.000000\n"
          ]
        }
      ]
    },
    {
      "cell_type": "markdown",
      "source": [
        "4.4.6 Groupby"
      ],
      "metadata": {
        "id": "Ebx9yTqVM6p3"
      }
    },
    {
      "cell_type": "code",
      "source": [
        "import pandas as pd\n",
        "df = pd.DataFrame({'key':['A','B','C','A','B','C'],\n",
        "'data': range(6)},columns=['key', 'data'])\n",
        "print(df)\n",
        "print(df.groupby('key').sum())"
      ],
      "metadata": {
        "colab": {
          "base_uri": "https://localhost:8080/"
        },
        "id": "Dyg59CBNLR_h",
        "outputId": "bba1cb36-b02c-412d-8ef6-2d38edc7b7c0"
      },
      "execution_count": null,
      "outputs": [
        {
          "output_type": "stream",
          "name": "stdout",
          "text": [
            "  key  data\n",
            "0   A     0\n",
            "1   B     1\n",
            "2   C     2\n",
            "3   A     3\n",
            "4   B     4\n",
            "5   C     5\n",
            "     data\n",
            "key      \n",
            "A       3\n",
            "B       5\n",
            "C       7\n"
          ]
        }
      ]
    },
    {
      "cell_type": "code",
      "source": [
        "import pandas as pd\n",
        "df = pd.DataFrame({'key':['A','B','C','A','B','C'],\n",
        "'data': range(6)},columns=['key', 'data'])\n",
        "print(df)\n",
        "print(df.groupby('key').describe())"
      ],
      "metadata": {
        "colab": {
          "base_uri": "https://localhost:8080/"
        },
        "id": "lQrNbxquNHIm",
        "outputId": "72646692-c9a2-42c1-ed4f-5c4e33feeca6"
      },
      "execution_count": null,
      "outputs": [
        {
          "output_type": "stream",
          "name": "stdout",
          "text": [
            "  key  data\n",
            "0   A     0\n",
            "1   B     1\n",
            "2   C     2\n",
            "3   A     3\n",
            "4   B     4\n",
            "5   C     5\n",
            "     data                                         \n",
            "    count mean      std  min   25%  50%   75%  max\n",
            "key                                               \n",
            "A     2.0  1.5  2.12132  0.0  0.75  1.5  2.25  3.0\n",
            "B     2.0  2.5  2.12132  1.0  1.75  2.5  3.25  4.0\n",
            "C     2.0  3.5  2.12132  2.0  2.75  3.5  4.25  5.0\n"
          ]
        }
      ]
    },
    {
      "cell_type": "code",
      "source": [
        "import pandas as pd\n",
        "df = pd.DataFrame({'key':['A','B','C','A','B','C'],\n",
        "                  'data': range(6)},columns=['key', 'data'])\n",
        "print(df)\n",
        "print(df.groupby('key').describe().unstack())"
      ],
      "metadata": {
        "colab": {
          "base_uri": "https://localhost:8080/"
        },
        "id": "7m-C-OhONNsP",
        "outputId": "839e7824-93b8-45eb-c061-0447f027df4d"
      },
      "execution_count": null,
      "outputs": [
        {
          "output_type": "stream",
          "name": "stdout",
          "text": [
            "  key  data\n",
            "0   A     0\n",
            "1   B     1\n",
            "2   C     2\n",
            "3   A     3\n",
            "4   B     4\n",
            "5   C     5\n",
            "             key\n",
            "data  count  A      2.00000\n",
            "             B      2.00000\n",
            "             C      2.00000\n",
            "      mean   A      1.50000\n",
            "             B      2.50000\n",
            "             C      3.50000\n",
            "      std    A      2.12132\n",
            "             B      2.12132\n",
            "             C      2.12132\n",
            "      min    A      0.00000\n",
            "             B      1.00000\n",
            "             C      2.00000\n",
            "      25%    A      0.75000\n",
            "             B      1.75000\n",
            "             C      2.75000\n",
            "      50%    A      1.50000\n",
            "             B      2.50000\n",
            "             C      3.50000\n",
            "      75%    A      2.25000\n",
            "             B      3.25000\n",
            "             C      4.25000\n",
            "      max    A      3.00000\n",
            "             B      4.00000\n",
            "             C      5.00000\n",
            "dtype: float64\n"
          ]
        }
      ]
    },
    {
      "cell_type": "code",
      "source": [
        "import pandas as pd\n",
        "import numpy as np\n",
        "df = pd.DataFrame({'key': ['A', 'B', 'C', 'A', 'B', 'C'],\n",
        "                  'data1': range(6),\n",
        "                  'data2': np.random.randint(0, 10, 6)},\n",
        "                   columns = ['key', 'data1', 'data2'])\n",
        "print(df)\n",
        "df2 = df.groupby('key').aggregate({'data1': 'min','data2': 'max'})\n",
        "print(df2)"
      ],
      "metadata": {
        "colab": {
          "base_uri": "https://localhost:8080/"
        },
        "id": "4owMPVhQNSDJ",
        "outputId": "90fd8bc2-2256-4989-e7da-db3fc29fea8a"
      },
      "execution_count": null,
      "outputs": [
        {
          "output_type": "stream",
          "name": "stdout",
          "text": [
            "  key  data1  data2\n",
            "0   A      0      4\n",
            "1   B      1      2\n",
            "2   C      2      5\n",
            "3   A      3      9\n",
            "4   B      4      1\n",
            "5   C      5      2\n",
            "     data1  data2\n",
            "key              \n",
            "A        0      9\n",
            "B        1      2\n",
            "C        2      5\n"
          ]
        }
      ]
    },
    {
      "cell_type": "code",
      "source": [
        "import pandas as pd\n",
        "import numpy as np\n",
        "df = pd.DataFrame({'key': ['A', 'B', 'C', 'A', 'B', 'C'],\n",
        "                  'data1': range(6),\n",
        "                  'data2': np.random.randint(0, 10, 6)},\n",
        "                   columns = ['key', 'data1', 'data2'])\n",
        "print(df)\n",
        "def filter_func(x):\n",
        "   return x['data2'].std() > 4\n",
        "df2 = df.groupby('key').filter(filter_func)\n",
        "print(df2)"
      ],
      "metadata": {
        "colab": {
          "base_uri": "https://localhost:8080/"
        },
        "id": "3O-gB_evNaFK",
        "outputId": "3867a9a1-4661-4f6a-c4fe-e7159b90717b"
      },
      "execution_count": null,
      "outputs": [
        {
          "output_type": "stream",
          "name": "stdout",
          "text": [
            "  key  data1  data2\n",
            "0   A      0      5\n",
            "1   B      1      0\n",
            "2   C      2      1\n",
            "3   A      3      4\n",
            "4   B      4      0\n",
            "5   C      5      6\n",
            "Empty DataFrame\n",
            "Columns: [key, data1, data2]\n",
            "Index: []\n"
          ]
        }
      ]
    },
    {
      "cell_type": "code",
      "source": [
        "import pandas as pd\n",
        "import numpy as np\n",
        "df = pd.DataFrame({'key': ['A', 'B', 'C', 'A', 'B', 'C'],\n",
        "                  'data1': range(6),\n",
        "                  'data2': np.random.randint(0, 10, 6)},\n",
        "                   columns = ['key', 'data1', 'data2'])\n",
        "print(df)\n",
        "df2 = df.groupby('key').transform(lambda x: x**2)\n",
        "print(df2)"
      ],
      "metadata": {
        "colab": {
          "base_uri": "https://localhost:8080/"
        },
        "id": "26KLCIBnNkEE",
        "outputId": "3f23ee37-17b2-4a20-d850-5c99d2e3add6"
      },
      "execution_count": null,
      "outputs": [
        {
          "output_type": "stream",
          "name": "stdout",
          "text": [
            "  key  data1  data2\n",
            "0   A      0      8\n",
            "1   B      1      1\n",
            "2   C      2      6\n",
            "3   A      3      8\n",
            "4   B      4      7\n",
            "5   C      5      1\n"
          ]
        }
      ]
    },
    {
      "cell_type": "markdown",
      "source": [
        "4.5 Data Transformation and Handling Missing Data"
      ],
      "metadata": {
        "id": "HpyoxU3IN-xS"
      }
    },
    {
      "cell_type": "code",
      "source": [
        "# Sample DataFrame with unnecessary data\n",
        "data = {'Name': ['Alice', 'Bob', 'Charlie','shailesh'],\n",
        "       'Age': [25, 30, None,66],\n",
        "       'Unneeded_Column': ['A', 'B', 'C',None]}\n",
        "df = pd.DataFrame(data)\n",
        "# Displaying the original DataFrame\n",
        "print(\"Original DataFrame:\")\n",
        "print(df)\n",
        "# Dropping the unneeded column\n",
        "df = df.drop(columns=['Unneeded_Column'])\n",
        "# Displaying the DataFrame after dropping the column\n",
        "print(\"\\nDataFrame after streamlining data:\")\n",
        "print(df)\n",
        "print(\"---------------------->\")\n",
        "df_clean = df.dropna()\n",
        "print(\"\\nDataFrame with all rows without missing value \")\n",
        "print(df_clean)"
      ],
      "metadata": {
        "colab": {
          "base_uri": "https://localhost:8080/"
        },
        "id": "zXQvNXp_NnVx",
        "outputId": "11257f65-7ad2-418e-dc99-5b6c39ee0339"
      },
      "execution_count": null,
      "outputs": [
        {
          "output_type": "stream",
          "name": "stdout",
          "text": [
            "Original DataFrame:\n",
            "       Name   Age Unneeded_Column\n",
            "0     Alice  25.0               A\n",
            "1       Bob  30.0               B\n",
            "2   Charlie   NaN               C\n",
            "3  shailesh  66.0            None\n",
            "\n",
            "DataFrame after streamlining data:\n",
            "       Name   Age\n",
            "0     Alice  25.0\n",
            "1       Bob  30.0\n",
            "2   Charlie   NaN\n",
            "3  shailesh  66.0\n",
            "---------------------->\n",
            "\n",
            "DataFrame with all rows without missing value \n",
            "       Name   Age\n",
            "0     Alice  25.0\n",
            "1       Bob  30.0\n",
            "3  shailesh  66.0\n"
          ]
        }
      ]
    },
    {
      "cell_type": "code",
      "source": [
        "import pandas as pd\n",
        "# Sample DataFrame with missing values\n",
        "data = {'Name': ['Alice', 'Bob', None, 'Charlie'],\n",
        "       'Age': [25, 30, None, 22],\n",
        "       'Salary': [50000, None, 60000, 70000]}\n",
        "df = pd.DataFrame(data)\n",
        "# Displaying the original DataFrame\n",
        "print(\"Original DataFrame:\")\n",
        "print(df)\n",
        "# Drop the entire row if there is any one missing data\n",
        "df_clean = df.drop(2,  axis=0)\n",
        "print(\"\\nDataFrame with all rows without missing value \")\n",
        "print(df_clean)"
      ],
      "metadata": {
        "colab": {
          "base_uri": "https://localhost:8080/"
        },
        "id": "vP4CMPiGOA65",
        "outputId": "21613f76-70ad-4ea1-eb2b-8ee9c58242ca"
      },
      "execution_count": null,
      "outputs": [
        {
          "output_type": "stream",
          "name": "stdout",
          "text": [
            "Original DataFrame:\n",
            "      Name   Age   Salary\n",
            "0    Alice  25.0  50000.0\n",
            "1      Bob  30.0      NaN\n",
            "2     None   NaN  60000.0\n",
            "3  Charlie  22.0  70000.0\n",
            "\n",
            "DataFrame with all rows without missing value \n",
            "      Name   Age   Salary\n",
            "0    Alice  25.0  50000.0\n",
            "1      Bob  30.0      NaN\n",
            "3  Charlie  22.0  70000.0\n"
          ]
        }
      ]
    },
    {
      "cell_type": "code",
      "source": [
        "import pandas as pd\n",
        "# Sample DataFrame with missing values\n",
        "data = {'Name': ['Alice', 'Bob', None, 'Charlie'],\n",
        "       'Age': [25, 30, None, 22],\n",
        "       'Salary': [50000, None, 60000, 70000]}\n",
        "df = pd.DataFrame(data)\n",
        "# Displaying the original DataFrame\n",
        "print(\"Original DataFrame:\")\n",
        "print(df)\n",
        "# Checking for missing values\n",
        "missing_values = df.isnull()\n",
        "# Displaying the DataFrame with missing value indicators\n",
        "print(\"\\nDataFrame with Missing Value Indicators:\")\n",
        "print(missing_values)\n",
        "# Show rows where any one of them have missing value in the Salary column\n",
        "rows_with_missing = df[df[\"Salary\"].isnull()]\n",
        "print(\"\\nDataFrame with all rows contain Missing Value \")\n",
        "print(rows_with_missing)"
      ],
      "metadata": {
        "colab": {
          "base_uri": "https://localhost:8080/"
        },
        "id": "-IklIXLbPFYY",
        "outputId": "f6048a4e-c397-4675-96da-374de1aefaea"
      },
      "execution_count": null,
      "outputs": [
        {
          "output_type": "stream",
          "name": "stdout",
          "text": [
            "Original DataFrame:\n",
            "      Name   Age   Salary\n",
            "0    Alice  25.0  50000.0\n",
            "1      Bob  30.0      NaN\n",
            "2     None   NaN  60000.0\n",
            "3  Charlie  22.0  70000.0\n",
            "\n",
            "DataFrame with Missing Value Indicators:\n",
            "    Name    Age  Salary\n",
            "0  False  False   False\n",
            "1  False  False    True\n",
            "2   True   True   False\n",
            "3  False  False   False\n",
            "\n",
            "DataFrame with all rows contain Missing Value \n",
            "  Name   Age  Salary\n",
            "1  Bob  30.0     NaN\n"
          ]
        }
      ]
    },
    {
      "cell_type": "code",
      "source": [
        "import pandas as pd\n",
        "# Sample DataFrame with duplicate data\n",
        "data = {'Name': ['Alice', 'Bob', 'Alice', 'Charlie', 'Bob'],\n",
        "'Age': [25, 30, 25, 22, 30],\n",
        "'Salary': [50000, 60000, 50000, 70000, 60000]}\n",
        "df = pd.DataFrame(data)\n",
        "# Displaying the original DataFrame\n",
        "print(\"Original DataFrame:\")\n",
        "print(df)\n",
        "# Dropping duplicates based on all columns\n",
        "df_no_duplicates = df.drop_duplicates()\n",
        "# Displaying the DataFrame after dropping duplicates\n",
        "print(\"\\nDataFrame after dropping duplicates:\")\n",
        "print(df_no_duplicates)"
      ],
      "metadata": {
        "colab": {
          "base_uri": "https://localhost:8080/"
        },
        "id": "SW45v3LXPUgL",
        "outputId": "ce081344-3ad4-4715-96de-7821ecda3334"
      },
      "execution_count": null,
      "outputs": [
        {
          "output_type": "stream",
          "name": "stdout",
          "text": [
            "Original DataFrame:\n",
            "      Name  Age  Salary\n",
            "0    Alice   25   50000\n",
            "1      Bob   30   60000\n",
            "2    Alice   25   50000\n",
            "3  Charlie   22   70000\n",
            "4      Bob   30   60000\n",
            "\n",
            "DataFrame after dropping duplicates:\n",
            "      Name  Age  Salary\n",
            "0    Alice   25   50000\n",
            "1      Bob   30   60000\n",
            "3  Charlie   22   70000\n"
          ]
        }
      ]
    },
    {
      "cell_type": "code",
      "source": [
        "# create DataFrame with duplicate entries\n",
        "df = pd.DataFrame({'k1':['one']*3 + ['two']*4, 'k2':[1,1,2,3,3,4,4]})\n",
        "# Displaying the original DataFrame\n",
        "print(\"Original DataFrame:\")\n",
        "print(df)\n",
        "# drop duplicate entries based on k1 only\n",
        "df_k1 = df.drop_duplicates(['k1'])\n",
        " # Displaying the df after drop the duplicates based on k1\n",
        "print(\"\\n The DF without duplicate (k1 based) :\")\n",
        "print(df_k1)\n",
        " # drop if k1 and k2 column matched\n",
        "df_k1_k2 =df.drop_duplicates(['k1', 'k2'])\n",
        " # Displaying the df after drop the duplicates based on k1 and k2\n",
        "print(\"\\n The DF without duplicate (k1_k2 based) :\")\n",
        "print(df_k1_k2)"
      ],
      "metadata": {
        "colab": {
          "base_uri": "https://localhost:8080/"
        },
        "id": "C3x8ZGDRPljm",
        "outputId": "1ea98ce2-e747-410a-b9fc-3a6ac47025a4"
      },
      "execution_count": null,
      "outputs": [
        {
          "output_type": "stream",
          "name": "stdout",
          "text": [
            "Original DataFrame:\n",
            "    k1  k2\n",
            "0  one   1\n",
            "1  one   1\n",
            "2  one   2\n",
            "3  two   3\n",
            "4  two   3\n",
            "5  two   4\n",
            "6  two   4\n",
            "\n",
            " The DF without duplicate (k1 based) :\n",
            "    k1  k2\n",
            "0  one   1\n",
            "3  two   3\n",
            "\n",
            " The DF without duplicate (k1_k2 based) :\n",
            "    k1  k2\n",
            "0  one   1\n",
            "2  one   2\n",
            "3  two   3\n",
            "5  two   4\n"
          ]
        }
      ]
    },
    {
      "cell_type": "markdown",
      "source": [
        "**4.5.7 Transforming Data Using the replace() Function**"
      ],
      "metadata": {
        "id": "p7wvqGHGQBaT"
      }
    },
    {
      "cell_type": "code",
      "source": [
        "import pandas as pd\n",
        "# Sample DataFrame with a column containing specific values to be replaced\n",
        "data = {'Category': ['Fruit', 'Vegetable', 'Fruit', 'Meat', 'Vegetable', 'Fruit','meat'],\n",
        "        'Price': [2.5, 1.8, 3.0, 5.5, 2.0, 3.2, 6.0]}\n",
        "df = pd.DataFrame(data)\n",
        "# Displaying the original DataFrame\n",
        "print(\"Original DataFrame:\")\n",
        "print(df)\n",
        "# Replacing 'Fruit' with 'Healthy Snack' in the 'Category' column\n",
        "df['Category'] = df['Category'].replace('Fruit', 'Healthy Snack')\n",
        "# Displaying the DataFrame after replacement\n",
        "print(\"\\nDataFrame after Replacement:\")\n",
        "print(df)"
      ],
      "metadata": {
        "colab": {
          "base_uri": "https://localhost:8080/"
        },
        "id": "rbbmPYsJQEwJ",
        "outputId": "9442f313-432c-441e-ab9d-5d2c2c199c9c"
      },
      "execution_count": null,
      "outputs": [
        {
          "output_type": "stream",
          "name": "stdout",
          "text": [
            "Original DataFrame:\n",
            "    Category  Price\n",
            "0      Fruit    2.5\n",
            "1  Vegetable    1.8\n",
            "2      Fruit    3.0\n",
            "3       Meat    5.5\n",
            "4  Vegetable    2.0\n",
            "5      Fruit    3.2\n",
            "6       meat    6.0\n",
            "\n",
            "DataFrame after Replacement:\n",
            "        Category  Price\n",
            "0  Healthy Snack    2.5\n",
            "1      Vegetable    1.8\n",
            "2  Healthy Snack    3.0\n",
            "3           Meat    5.5\n",
            "4      Vegetable    2.0\n",
            "5  Healthy Snack    3.2\n",
            "6           meat    6.0\n"
          ]
        }
      ]
    },
    {
      "cell_type": "code",
      "source": [
        "# create DataFrame with duplicate entries\n",
        "df = pd.DataFrame({'k1':['one']*3 + ['two']*4, 'k2':[1,1,2,3,3,4,4]})\n",
        "# Displaying the original DataFrame\n",
        "print(\"Original DataFrame:\")\n",
        "print(df)\n",
        "df_replaced=df.replace(['one', 3], ['One', '30'])\n",
        "# Displaying the DataFrame after replacement\n",
        "print(\"\\nDataFrame after Replacement:\")\n",
        "print(df_replaced)"
      ],
      "metadata": {
        "colab": {
          "base_uri": "https://localhost:8080/"
        },
        "id": "dPi6CtkXQ-Ne",
        "outputId": "ed188fa0-7bd1-4b83-b0eb-b97d0f1294f2"
      },
      "execution_count": null,
      "outputs": [
        {
          "output_type": "stream",
          "name": "stdout",
          "text": [
            "Original DataFrame:\n",
            "    k1  k2\n",
            "0  one   1\n",
            "1  one   1\n",
            "2  one   2\n",
            "3  two   3\n",
            "4  two   3\n",
            "5  two   4\n",
            "6  two   4\n",
            "\n",
            "DataFrame after Replacement:\n",
            "    k1  k2\n",
            "0  One   1\n",
            "1  One   1\n",
            "2  One   2\n",
            "3  two  30\n",
            "4  two  30\n",
            "5  two   4\n",
            "6  two   4\n"
          ]
        }
      ]
    },
    {
      "cell_type": "code",
      "source": [
        "import pandas as pd\n",
        "# Sample DataFrame with a column containing repeated elements\n",
        "data = {'Category': ['Fruit', 'Vegetable', 'Fruit', 'Meat', 'Vegetable', 'Fruit','meat'],\n",
        "        'Price': [2.5, 1.8, 3.0, 5.5, 2.0, 3.2, 6.0]}\n",
        "df = pd.DataFrame(data)\n",
        "# Displaying the original DataFrame\n",
        "print(\"Original DataFrame:\")\n",
        "print(df)\n",
        "# Extracting unique elements from the 'Category' column\n",
        "unique_categories = df['Category'].unique()\n",
        "# Counting the number of unique elements in the 'Category' column\n",
        "\n",
        "# num_unique_categories = df['Category'].nunique()\n",
        "# Displaying the unique elements\n",
        "\n",
        "print(\"\\nUnique Categories:\")\n",
        "print(unique_categories)"
      ],
      "metadata": {
        "colab": {
          "base_uri": "https://localhost:8080/"
        },
        "id": "9_t0axJuRGZQ",
        "outputId": "5b690269-96c4-40dd-bbb4-896202ece5af"
      },
      "execution_count": null,
      "outputs": [
        {
          "output_type": "stream",
          "name": "stdout",
          "text": [
            "Original DataFrame:\n",
            "    Category  Price\n",
            "0      Fruit    2.5\n",
            "1  Vegetable    1.8\n",
            "2      Fruit    3.0\n",
            "3       Meat    5.5\n",
            "4  Vegetable    2.0\n",
            "5      Fruit    3.2\n",
            "6       meat    6.0\n",
            "\n",
            "Unique Categories:\n",
            "['Fruit' 'Vegetable' 'Meat' 'meat']\n"
          ]
        }
      ]
    },
    {
      "cell_type": "markdown",
      "source": [
        "5. Multi **Index**\n",
        "# 5.1 Creating a 3D hierarchical table using MultiIndex or other\n",
        " methods."
      ],
      "metadata": {
        "id": "VVSSk28RRw-5"
      }
    },
    {
      "cell_type": "code",
      "source": [
        "import pandas as pd\n",
        "index = [('California', 2000),('California', 2010),\n",
        "('New York', 2000),('New York', 2010),\n",
        "('Texas', 2000),('Texas', 2010)]\n",
        "populations = [10000,15000,\n",
        "20000,25000,\n",
        "30000,35000]\n",
        "index = pd.MultiIndex.from_tuples(index)\n",
        "pop = pd.Series(populations, index=index)\n",
        "pop = pop.reindex(index)\n",
        "print(pop)"
      ],
      "metadata": {
        "colab": {
          "base_uri": "https://localhost:8080/"
        },
        "id": "94jhoRIOR78h",
        "outputId": "e3409da8-ec67-40a4-8cdb-6f4379ab973a"
      },
      "execution_count": null,
      "outputs": [
        {
          "output_type": "stream",
          "name": "stdout",
          "text": [
            "California  2000    10000\n",
            "            2010    15000\n",
            "New York    2000    20000\n",
            "            2010    25000\n",
            "Texas       2000    30000\n",
            "            2010    35000\n",
            "dtype: int64\n"
          ]
        }
      ]
    },
    {
      "cell_type": "code",
      "source": [
        "import pandas as pd\n",
        "import numpy as np\n",
        "df = pd.DataFrame(np.random.rand(4, 2),\n",
        "index=[['a', 'a', 'b', 'b'],\n",
        "[1, 2, 1, 2]],columns=['income', 'profit'])\n",
        "print(df)"
      ],
      "metadata": {
        "colab": {
          "base_uri": "https://localhost:8080/"
        },
        "id": "GjUyOLHuSOT6",
        "outputId": "8da7e92f-c398-4bf2-f0d7-143c988c6309"
      },
      "execution_count": null,
      "outputs": [
        {
          "output_type": "stream",
          "name": "stdout",
          "text": [
            "       income    profit\n",
            "a 1  0.829561  0.934795\n",
            "  2  0.966779  0.705716\n",
            "b 1  0.653565  0.754989\n",
            "  2  0.568349  0.403380\n"
          ]
        }
      ]
    },
    {
      "cell_type": "code",
      "source": [
        "import pandas as pd\n",
        "data = {('California', 2000): 10000,('California', 2010):15000,\n",
        "       ('Texas', 2000): 20000,('Texas', 2010): 25000,\n",
        "       ('New York', 2000): 30000,('New York', 2010): 35000}\n",
        "df = pd.Series(data)\n",
        "print(df)"
      ],
      "metadata": {
        "colab": {
          "base_uri": "https://localhost:8080/"
        },
        "id": "mGVKsyz9TMNL",
        "outputId": "593c2c69-6cfb-43c7-c8a4-788261425013"
      },
      "execution_count": null,
      "outputs": [
        {
          "output_type": "stream",
          "name": "stdout",
          "text": [
            "California  2000    10000\n",
            "            2010    15000\n",
            "Texas       2000    20000\n",
            "            2010    25000\n",
            "New York    2000    30000\n",
            "            2010    35000\n",
            "dtype: int64\n"
          ]
        }
      ]
    },
    {
      "cell_type": "code",
      "source": [
        "import pandas as pd\n",
        "index = [('California', 2000),('California', 2010),\n",
        "        ('New York', 2000),('New York', 2010),\n",
        "        ('Texas', 2000),('Texas', 2010)]\n",
        "populations = [10000,15000,\n",
        "              20000,25000,\n",
        "              30000,35000]\n",
        "index = pd.MultiIndex.from_tuples(index)\n",
        "pop = pd.Series(populations, index=index)\n",
        "pop = pop.reindex(index)\n",
        "print(pop[:, 2010])"
      ],
      "metadata": {
        "colab": {
          "base_uri": "https://localhost:8080/"
        },
        "id": "BDPSkc_dTUud",
        "outputId": "8d16147b-45ed-46e9-ba0f-6333b39b3ad6"
      },
      "execution_count": null,
      "outputs": [
        {
          "output_type": "stream",
          "name": "stdout",
          "text": [
            "California    15000\n",
            "New York      25000\n",
            "Texas         35000\n",
            "dtype: int64\n"
          ]
        }
      ]
    },
    {
      "cell_type": "code",
      "source": [
        "import pandas as pd\n",
        "index = [('California', 2000),('California', 2010),\n",
        "        ('New York', 2000),('New York', 2010),\n",
        "         ('Texas', 2000),('Texas', 2010)]\n",
        "populations = [10000,15000,\n",
        "              20000,25000,\n",
        "              30000,35000]\n",
        "index = pd.MultiIndex.from_tuples(index)\n",
        "pop = pd.Series(populations, index=index)\n",
        "pop = pop.reindex(index)\n",
        "print(pop.unstack())"
      ],
      "metadata": {
        "id": "mHa3wS3hTcT-",
        "colab": {
          "base_uri": "https://localhost:8080/"
        },
        "outputId": "dfb3adf6-a833-44c9-f43e-69f3d6225bb0"
      },
      "execution_count": null,
      "outputs": [
        {
          "output_type": "stream",
          "name": "stdout",
          "text": [
            "             2000   2010\n",
            "California  10000  15000\n",
            "New York    20000  25000\n",
            "Texas       30000  35000\n"
          ]
        }
      ]
    },
    {
      "cell_type": "code",
      "source": [
        "import pandas as pd\n",
        "index = [('California', 2000),('California', 2010),\n",
        "        ('New York', 2000),('New York', 2010),\n",
        "        ('Texas', 2000),('Texas', 2010)]\n",
        "populations = [10000,15000,\n",
        "              20000,25000,\n",
        "              30000,35000]\n",
        "index = pd.MultiIndex.from_tuples(index)\n",
        "pop = pd.Series(populations, index=index)\n",
        "pop = pop.reindex(index)\n",
        "pop_df = pd.DataFrame({'total': pop,\n",
        "                      'under18':[9267089, 9284094,4687374,\n",
        "                                 4318033,5906301, 6879014]})\n",
        "print(pop)\n",
        "print(pop_df)"
      ],
      "metadata": {
        "colab": {
          "base_uri": "https://localhost:8080/"
        },
        "id": "VUCOiGs9rp9I",
        "outputId": "c10b3ae5-8a09-47c3-9d07-e82fc7bc1ba4"
      },
      "execution_count": null,
      "outputs": [
        {
          "output_type": "stream",
          "name": "stdout",
          "text": [
            "California  2000    10000\n",
            "            2010    15000\n",
            "New York    2000    20000\n",
            "            2010    25000\n",
            "Texas       2000    30000\n",
            "            2010    35000\n",
            "dtype: int64\n",
            "                 total  under18\n",
            "California 2000  10000  9267089\n",
            "           2010  15000  9284094\n",
            "New York   2000  20000  4687374\n",
            "           2010  25000  4318033\n",
            "Texas      2000  30000  5906301\n",
            "           2010  35000  6879014\n"
          ]
        }
      ]
    },
    {
      "cell_type": "code",
      "source": [
        "import pandas as pd\n",
        "import numpy  as np\n",
        "index = pd.MultiIndex.from_product([[2013, 2014],[1, 2]],\n",
        "                                  names=['year', 'visit'])\n",
        "columns = pd.MultiIndex.from_product([['Bob', 'Guido', 'Sue'],\n",
        "                                     ['HR', 'Temp']],\n",
        "                                   names=['subject', 'type'])\n",
        "data = np.round(np.random.randn(4, 6))\n",
        "health_data = pd.DataFrame(data, index=index, columns=columns)\n",
        "print(health_data)"
      ],
      "metadata": {
        "colab": {
          "base_uri": "https://localhost:8080/"
        },
        "id": "3yI0a6CIrvGW",
        "outputId": "c36badd0-7d13-4864-a7c8-46c754d26b63"
      },
      "execution_count": null,
      "outputs": [
        {
          "output_type": "stream",
          "name": "stdout",
          "text": [
            "subject     Bob      Guido       Sue     \n",
            "type         HR Temp    HR Temp   HR Temp\n",
            "year visit                               \n",
            "2013 1      0.0 -0.0  -1.0  2.0 -0.0  1.0\n",
            "     2      0.0  1.0  -0.0  1.0 -1.0 -1.0\n",
            "2014 1     -0.0 -2.0   1.0 -1.0  1.0 -2.0\n",
            "     2      2.0  1.0   1.0  1.0 -1.0  0.0\n"
          ]
        }
      ]
    },
    {
      "cell_type": "code",
      "source": [
        "import pandas as pd\n",
        "import numpy  as np\n",
        "index = pd.MultiIndex.from_product([[2013, 2014],[1, 2]],\n",
        "                                  names=['year', 'visit'])\n",
        "columns = pd.MultiIndex.from_product([['Bob', 'Guido', 'Sue'],\n",
        "                                     ['HR', 'Temp']],\n",
        "                                   names=['subject', 'type'])\n",
        "data = np.round(np.random.randn(4, 6))\n",
        "health_data = pd.DataFrame(data, index=index, columns=columns)\n",
        "print(health_data['Guido', 'HR'])"
      ],
      "metadata": {
        "colab": {
          "base_uri": "https://localhost:8080/"
        },
        "id": "mzKGcOcGr6iq",
        "outputId": "099e2be6-512d-4de5-b509-fc1ccf67e503"
      },
      "execution_count": null,
      "outputs": [
        {
          "output_type": "stream",
          "name": "stdout",
          "text": [
            "year  visit\n",
            "2013  1        1.0\n",
            "      2        1.0\n",
            "2014  1       -1.0\n",
            "      2        2.0\n",
            "Name: (Guido, HR), dtype: float64\n"
          ]
        }
      ]
    },
    {
      "cell_type": "code",
      "source": [
        "import pandas as pd\n",
        "import numpy  as np\n",
        "index = pd.MultiIndex.from_product([[2013, 2014],[1, 2]],\n",
        "                                  names=['year', 'visit'])\n",
        "columns = pd.MultiIndex.from_product([['Bob', 'Guido', 'Sue'],\n",
        "                                     ['HR', 'Temp']],\n",
        "                                   names=['subject', 'type'])\n",
        "data = np.round(np.random.randn(4, 6))\n",
        "health_data = pd.DataFrame(data, index=index, columns=columns)\n",
        "print(health_data.loc[:, ('Bob', 'HR')])"
      ],
      "metadata": {
        "colab": {
          "base_uri": "https://localhost:8080/"
        },
        "id": "NJuAQ79Hr9_t",
        "outputId": "e7f16105-0389-4f38-edac-59a5c69eb251"
      },
      "execution_count": null,
      "outputs": [
        {
          "output_type": "stream",
          "name": "stdout",
          "text": [
            "year  visit\n",
            "2013  1        2.0\n",
            "      2       -0.0\n",
            "2014  1        1.0\n",
            "      2       -1.0\n",
            "Name: (Bob, HR), dtype: float64\n"
          ]
        }
      ]
    },
    {
      "cell_type": "code",
      "source": [
        "import pandas as pd\n",
        "import numpy  as np\n",
        "index = pd.MultiIndex.from_product([[2013, 2014],[1, 2]],\n",
        "                                  names=['year', 'visit'])\n",
        "columns = pd.MultiIndex.from_product([['Bob', 'Guido', 'Sue'],\n",
        "                                     ['HR', 'Temp']],\n",
        "                                   names=['subject', 'type'])\n",
        "data = np.round(np.random.randn(4, 6))\n",
        "health_data = pd.DataFrame(data, index=index, columns=columns)\n",
        "idx = pd.IndexSlice\n",
        "print(health_data.loc[idx[:, 1], idx[:, 'HR']])"
      ],
      "metadata": {
        "colab": {
          "base_uri": "https://localhost:8080/"
        },
        "id": "UtoVnvi6sEfj",
        "outputId": "97564814-cb00-4ca9-87b5-f3bf84aea3e4"
      },
      "execution_count": null,
      "outputs": [
        {
          "output_type": "stream",
          "name": "stdout",
          "text": [
            "subject     Bob Guido  Sue\n",
            "type         HR    HR   HR\n",
            "year visit                \n",
            "2013 1     -1.0   0.0  0.0\n",
            "2014 1     -0.0   1.0 -1.0\n"
          ]
        }
      ]
    },
    {
      "cell_type": "markdown",
      "source": [
        "6. String in **pandas**"
      ],
      "metadata": {
        "id": "x3xGnFKzsYbr"
      }
    },
    {
      "cell_type": "code",
      "source": [
        "import pandas as pd\n",
        "data = ['peter', 'Paul', 'MARY', '15' , '  ' ]\n",
        "print( pd.Series(data).str.len()) # length\n",
        "print( pd.Series(data).str.startswith('p'))# is it start with \"p\"\n",
        "print( pd.Series(data).str.endswith('Y')) #does is end with \"r\"\n",
        "print( pd.Series(data).str.find('t')) # find this letter\n",
        "print( pd.Series(data).str.rfind('A'))# find it from right"
      ],
      "metadata": {
        "colab": {
          "base_uri": "https://localhost:8080/"
        },
        "id": "TgzThIwmsMKT",
        "outputId": "508f7615-33ef-4534-8ae4-8700fec60797"
      },
      "execution_count": null,
      "outputs": [
        {
          "output_type": "stream",
          "name": "stdout",
          "text": [
            "0    5\n",
            "1    4\n",
            "2    4\n",
            "3    2\n",
            "4    2\n",
            "dtype: int64\n",
            "0     True\n",
            "1    False\n",
            "2    False\n",
            "3    False\n",
            "4    False\n",
            "dtype: bool\n",
            "0    False\n",
            "1    False\n",
            "2     True\n",
            "3    False\n",
            "4    False\n",
            "dtype: bool\n",
            "0    2\n",
            "1   -1\n",
            "2   -1\n",
            "3   -1\n",
            "4   -1\n",
            "dtype: int64\n",
            "0   -1\n",
            "1   -1\n",
            "2    1\n",
            "3   -1\n",
            "4   -1\n",
            "dtype: int64\n"
          ]
        }
      ]
    },
    {
      "cell_type": "code",
      "source": [
        "import pandas as pd\n",
        "data = ['peter', 'Paul', 'MARY', '15' , '  ' ]\n",
        "print( pd.Series(data).str.rjust(20))# adjust from right\n",
        "print( pd.Series(data).str.ljust(50))# adjust from left\n",
        "print( pd.Series(data).str.center(10))# make it center\n",
        "print( pd.Series(data).str.zfill(5))# fill zeros"
      ],
      "metadata": {
        "colab": {
          "base_uri": "https://localhost:8080/"
        },
        "id": "7UYygC7wteGw",
        "outputId": "d091fd0a-42d4-40ee-e74e-8cf607d77641"
      },
      "execution_count": null,
      "outputs": [
        {
          "output_type": "stream",
          "name": "stdout",
          "text": [
            "0                   peter\n",
            "1                    Paul\n",
            "2                    MARY\n",
            "3                      15\n",
            "4                        \n",
            "dtype: object\n",
            "0    peter                                         ...\n",
            "1    Paul                                          ...\n",
            "2    MARY                                          ...\n",
            "3    15                                            ...\n",
            "4                                                  ...\n",
            "dtype: object\n",
            "0      peter   \n",
            "1       Paul   \n",
            "2       MARY   \n",
            "3        15    \n",
            "4              \n",
            "dtype: object\n",
            "0    peter\n",
            "1    0Paul\n",
            "2    0MARY\n",
            "3    00015\n",
            "4    000  \n",
            "dtype: object\n"
          ]
        }
      ]
    },
    {
      "cell_type": "code",
      "source": [
        "import pandas as pd\n",
        "data = ['peter', 'Paul', 'MARY', '15' , '  ' ]\n",
        "print( pd.Series(data).str.isupper())# is it all calpital\n",
        "print( pd.Series(data).str.islower())# is it lower ?\n",
        "print( pd.Series(data).str.istitle())# is like like \"This\"\n",
        "print( pd.Series(data).str.isspace())# is it all spaces ?\n",
        "print( pd.Series(data).str.isdigit())# is it numbers ?\n",
        "print( pd.Series(data).str.isalpha())# is it all letters ?\n",
        "print( pd.Series(data).str.isalnum())# is it not got any spaces ?\n",
        "print( pd.Series(data).str.isdecimal())# is it decimals ?\n",
        "print( pd.Series(data).str.isnumeric()) # is it number\n",
        "print( pd.Series(data).str.upper())# make it capital\n",
        "print( pd.Series(data).str.capitalize())# make it like 'This'\n",
        "print( pd.Series(data).str.lower())# make it lower\n",
        "print( pd.Series(data).str.swapcase())# switch capital & small"
      ],
      "metadata": {
        "colab": {
          "base_uri": "https://localhost:8080/"
        },
        "id": "ox0qDK7PtlaO",
        "outputId": "106449d0-f94a-43f5-fd94-34568a07a757"
      },
      "execution_count": null,
      "outputs": [
        {
          "output_type": "stream",
          "name": "stdout",
          "text": [
            "0    False\n",
            "1    False\n",
            "2     True\n",
            "3    False\n",
            "4    False\n",
            "dtype: bool\n",
            "0     True\n",
            "1    False\n",
            "2    False\n",
            "3    False\n",
            "4    False\n",
            "dtype: bool\n",
            "0    False\n",
            "1     True\n",
            "2    False\n",
            "3    False\n",
            "4    False\n",
            "dtype: bool\n",
            "0    False\n",
            "1    False\n",
            "2    False\n",
            "3    False\n",
            "4     True\n",
            "dtype: bool\n",
            "0    False\n",
            "1    False\n",
            "2    False\n",
            "3     True\n",
            "4    False\n",
            "dtype: bool\n",
            "0     True\n",
            "1     True\n",
            "2     True\n",
            "3    False\n",
            "4    False\n",
            "dtype: bool\n",
            "0     True\n",
            "1     True\n",
            "2     True\n",
            "3     True\n",
            "4    False\n",
            "dtype: bool\n",
            "0    False\n",
            "1    False\n",
            "2    False\n",
            "3     True\n",
            "4    False\n",
            "dtype: bool\n",
            "0    False\n",
            "1    False\n",
            "2    False\n",
            "3     True\n",
            "4    False\n",
            "dtype: bool\n",
            "0    PETER\n",
            "1     PAUL\n",
            "2     MARY\n",
            "3       15\n",
            "4         \n",
            "dtype: object\n",
            "0    Peter\n",
            "1     Paul\n",
            "2     Mary\n",
            "3       15\n",
            "4         \n",
            "dtype: object\n",
            "0    peter\n",
            "1     paul\n",
            "2     mary\n",
            "3       15\n",
            "4         \n",
            "dtype: object\n",
            "0    PETER\n",
            "1     pAUL\n",
            "2     mary\n",
            "3       15\n",
            "4         \n",
            "dtype: object\n"
          ]
        }
      ]
    },
    {
      "cell_type": "markdown",
      "source": [
        " 7. Date & **Time**"
      ],
      "metadata": {
        "id": "6o3sMmBUt2u5"
      }
    },
    {
      "cell_type": "code",
      "source": [
        "import pandas as pd\n",
        "x = pd.to_datetime(\"4th of July, 2018\")\n",
        "print(x)"
      ],
      "metadata": {
        "colab": {
          "base_uri": "https://localhost:8080/"
        },
        "id": "xS3Py7JMtzIg",
        "outputId": "2f5562d6-752f-4278-f67b-07cad8fc6b78"
      },
      "execution_count": null,
      "outputs": [
        {
          "output_type": "stream",
          "name": "stdout",
          "text": [
            "2018-07-04 00:00:00\n"
          ]
        }
      ]
    },
    {
      "cell_type": "code",
      "source": [
        "import pandas as pd\n",
        "import numpy as np\n",
        "x = pd.to_datetime(\"4th of July, 2018\")\n",
        "y = x + pd.to_timedelta(np.arange(20),'D')\n",
        "z = x - pd.to_timedelta(np.arange(20),'D')\n",
        "print(x)\n",
        "print(y)\n",
        "print(z)"
      ],
      "metadata": {
        "colab": {
          "base_uri": "https://localhost:8080/"
        },
        "id": "msAfXbvauLOF",
        "outputId": "d9454960-6c7e-4753-d036-438a66365d94"
      },
      "execution_count": null,
      "outputs": [
        {
          "output_type": "stream",
          "name": "stdout",
          "text": [
            "2018-07-04 00:00:00\n",
            "DatetimeIndex(['2018-07-04', '2018-07-05', '2018-07-06', '2018-07-07',\n",
            "               '2018-07-08', '2018-07-09', '2018-07-10', '2018-07-11',\n",
            "               '2018-07-12', '2018-07-13', '2018-07-14', '2018-07-15',\n",
            "               '2018-07-16', '2018-07-17', '2018-07-18', '2018-07-19',\n",
            "               '2018-07-20', '2018-07-21', '2018-07-22', '2018-07-23'],\n",
            "              dtype='datetime64[ns]', freq=None)\n",
            "DatetimeIndex(['2018-07-04', '2018-07-03', '2018-07-02', '2018-07-01',\n",
            "               '2018-06-30', '2018-06-29', '2018-06-28', '2018-06-27',\n",
            "               '2018-06-26', '2018-06-25', '2018-06-24', '2018-06-23',\n",
            "               '2018-06-22', '2018-06-21', '2018-06-20', '2018-06-19',\n",
            "               '2018-06-18', '2018-06-17', '2018-06-16', '2018-06-15'],\n",
            "              dtype='datetime64[ns]', freq=None)\n"
          ]
        }
      ]
    },
    {
      "cell_type": "code",
      "source": [
        "import pandas as pd\n",
        "index = pd.DatetimeIndex(['2014-07-04', '2014-08-04',\n",
        "'2015-07-04','2015-08-04'])\n",
        "data = pd.Series([0, 1, 2, 3], index=index)\n",
        "print(data)"
      ],
      "metadata": {
        "colab": {
          "base_uri": "https://localhost:8080/"
        },
        "id": "ZMC9-8IguP2E",
        "outputId": "ca74f60b-3c81-41da-a379-5107650ea673"
      },
      "execution_count": null,
      "outputs": [
        {
          "output_type": "stream",
          "name": "stdout",
          "text": [
            "2014-07-04    0\n",
            "2014-08-04    1\n",
            "2015-07-04    2\n",
            "2015-08-04    3\n",
            "dtype: int64\n"
          ]
        }
      ]
    },
    {
      "cell_type": "code",
      "source": [
        "import pandas as pd\n",
        "index = pd.DatetimeIndex(['2011-03-12', '2012-08-21',\n",
        "'2013-07-11','2014-11-08'])\n",
        "data = pd.Series([0, 1, 2, 3], index=index)\n",
        "print(data['2011-01-01':'2012-12-31'])"
      ],
      "metadata": {
        "colab": {
          "base_uri": "https://localhost:8080/"
        },
        "id": "y1TLdx2XuWp2",
        "outputId": "08628b1a-1593-401a-ceff-45826a11b5dc"
      },
      "execution_count": null,
      "outputs": [
        {
          "output_type": "stream",
          "name": "stdout",
          "text": [
            "2011-03-12    0\n",
            "2012-08-21    1\n",
            "dtype: int64\n"
          ]
        }
      ]
    },
    {
      "cell_type": "code",
      "source": [
        "import pandas as pd\n",
        "index = pd.DatetimeIndex(['2011-03-12', '2012-08-21',\n",
        "'2013-07-11','2014-11-08'])\n",
        "data = pd.Series([0, 1, 2, 3], index=index)\n",
        "print(data['2012'])"
      ],
      "metadata": {
        "colab": {
          "base_uri": "https://localhost:8080/"
        },
        "id": "sPcWxf4kud2c",
        "outputId": "afe2e634-6620-4d26-e20b-5fe81df25f57"
      },
      "execution_count": null,
      "outputs": [
        {
          "output_type": "stream",
          "name": "stdout",
          "text": [
            "2012-08-21    1\n",
            "dtype: int64\n"
          ]
        }
      ]
    },
    {
      "cell_type": "code",
      "source": [
        "import pandas as pd\n",
        "index = pd.DatetimeIndex(['2011-03-12', '2012-08-21',\n",
        "'2013-07-11','2014-11-08'])\n",
        "data = pd.Series([0, 1, 2, 3], index=index)\n",
        "print(data['2012-08'])"
      ],
      "metadata": {
        "colab": {
          "base_uri": "https://localhost:8080/"
        },
        "id": "9mM_GRjJujiR",
        "outputId": "1d0be875-1d30-447c-98ec-473f5882a103"
      },
      "execution_count": null,
      "outputs": [
        {
          "output_type": "stream",
          "name": "stdout",
          "text": [
            "2012-08-21    1\n",
            "dtype: int64\n"
          ]
        }
      ]
    },
    {
      "cell_type": "code",
      "source": [
        "import pandas as pd\n",
        "data = pd.date_range('2011-12-25', '2012-01-08')\n",
        "print(data)"
      ],
      "metadata": {
        "colab": {
          "base_uri": "https://localhost:8080/"
        },
        "id": "dElrwBAAurRl",
        "outputId": "84fd1f71-a40b-4d43-b644-6b61bc4d5d47"
      },
      "execution_count": null,
      "outputs": [
        {
          "output_type": "stream",
          "name": "stdout",
          "text": [
            "DatetimeIndex(['2011-12-25', '2011-12-26', '2011-12-27', '2011-12-28',\n",
            "               '2011-12-29', '2011-12-30', '2011-12-31', '2012-01-01',\n",
            "               '2012-01-02', '2012-01-03', '2012-01-04', '2012-01-05',\n",
            "               '2012-01-06', '2012-01-07', '2012-01-08'],\n",
            "              dtype='datetime64[ns]', freq='D')\n"
          ]
        }
      ]
    },
    {
      "cell_type": "code",
      "source": [
        "import pandas as pd\n",
        "data = pd.timedelta_range(0, periods=9, freq=\"2H30T40S\")\n",
        "print(data)"
      ],
      "metadata": {
        "colab": {
          "base_uri": "https://localhost:8080/"
        },
        "id": "tR-jS4DTux6A",
        "outputId": "7f0c864b-32c9-4c9b-8d9c-0a2c97272648"
      },
      "execution_count": null,
      "outputs": [
        {
          "output_type": "stream",
          "name": "stdout",
          "text": [
            "TimedeltaIndex(['0 days 00:00:00', '0 days 02:30:40', '0 days 05:01:20',\n",
            "                '0 days 07:32:00', '0 days 10:02:40', '0 days 12:33:20',\n",
            "                '0 days 15:04:00', '0 days 17:34:40', '0 days 20:05:20'],\n",
            "               dtype='timedelta64[ns]', freq='9040s')\n"
          ]
        },
        {
          "output_type": "stream",
          "name": "stderr",
          "text": [
            "/tmp/ipython-input-2915361548.py:2: FutureWarning: 'H' is deprecated and will be removed in a future version, please use 'h' instead.\n",
            "  data = pd.timedelta_range(0, periods=9, freq=\"2H30T40S\")\n",
            "/tmp/ipython-input-2915361548.py:2: FutureWarning: 'T' is deprecated and will be removed in a future version, please use 'min' instead.\n",
            "  data = pd.timedelta_range(0, periods=9, freq=\"2H30T40S\")\n",
            "/tmp/ipython-input-2915361548.py:2: FutureWarning: 'S' is deprecated and will be removed in a future version, please use 's' instead.\n",
            "  data = pd.timedelta_range(0, periods=9, freq=\"2H30T40S\")\n"
          ]
        }
      ]
    },
    {
      "cell_type": "code",
      "source": [
        "import pandas as pd\n",
        "from pandas.tseries.offsets import BDay\n",
        "data = pd.date_range('2018-07-01', periods=5, freq=BDay())\n",
        "print(data)"
      ],
      "metadata": {
        "colab": {
          "base_uri": "https://localhost:8080/"
        },
        "id": "__IwQv1uu9V-",
        "outputId": "1b0ed8a9-fa82-40ac-c694-8c50ed945032"
      },
      "execution_count": null,
      "outputs": [
        {
          "output_type": "stream",
          "name": "stdout",
          "text": [
            "DatetimeIndex(['2018-07-02', '2018-07-03', '2018-07-04', '2018-07-05',\n",
            "               '2018-07-06'],\n",
            "              dtype='datetime64[ns]', freq='B')\n"
          ]
        }
      ]
    },
    {
      "cell_type": "markdown",
      "source": [
        "8. File Handling (CSV files)**bold text**"
      ],
      "metadata": {
        "id": "v9TapS2ivHFW"
      }
    },
    {
      "cell_type": "code",
      "source": [
        "import pandas as pd\n",
        "iris = 'http://archive.ics.uci.edu/ml/machine-learning-databases/iris/iris.data'\n",
        "df = pd.read_csv(iris, sep=',')\n",
        "df.columns = [\"sepal_length\", \"sepal_width\", \"petal_length\", \"petal_width\", \"species\"]\n",
        "print(df.head(10))"
      ],
      "metadata": {
        "colab": {
          "base_uri": "https://localhost:8080/"
        },
        "id": "m8x-ejGGvJJh",
        "outputId": "83d0b3a4-2d01-4835-cb55-e168733dd46e"
      },
      "execution_count": null,
      "outputs": [
        {
          "output_type": "stream",
          "name": "stdout",
          "text": [
            "   sepal_length  sepal_width  petal_length  petal_width      species\n",
            "0           4.9          3.0           1.4          0.2  Iris-setosa\n",
            "1           4.7          3.2           1.3          0.2  Iris-setosa\n",
            "2           4.6          3.1           1.5          0.2  Iris-setosa\n",
            "3           5.0          3.6           1.4          0.2  Iris-setosa\n",
            "4           5.4          3.9           1.7          0.4  Iris-setosa\n",
            "5           4.6          3.4           1.4          0.3  Iris-setosa\n",
            "6           5.0          3.4           1.5          0.2  Iris-setosa\n",
            "7           4.4          2.9           1.4          0.2  Iris-setosa\n",
            "8           4.9          3.1           1.5          0.1  Iris-setosa\n",
            "9           5.4          3.7           1.5          0.2  Iris-setosa\n"
          ]
        }
      ]
    },
    {
      "cell_type": "code",
      "source": [
        "import pandas as pd\n",
        "grades1 = pd.read_csv('dataframe1.csv')\n",
        "grades2 = pd.read_excel('dataframe1.xlsx')\n",
        "print(grades1)\n",
        "print(grades2)"
      ],
      "metadata": {
        "colab": {
          "base_uri": "https://localhost:8080/",
          "height": 356
        },
        "id": "n71_N6oxviSb",
        "outputId": "dc9b9bba-e3b0-44aa-cc2b-63e677e845b5"
      },
      "execution_count": null,
      "outputs": [
        {
          "output_type": "error",
          "ename": "FileNotFoundError",
          "evalue": "[Errno 2] No such file or directory: 'dataframe1.csv'",
          "traceback": [
            "\u001b[0;31m---------------------------------------------------------------------------\u001b[0m",
            "\u001b[0;31mFileNotFoundError\u001b[0m                         Traceback (most recent call last)",
            "\u001b[0;32m/tmp/ipython-input-3961609733.py\u001b[0m in \u001b[0;36m<cell line: 0>\u001b[0;34m()\u001b[0m\n\u001b[1;32m      1\u001b[0m \u001b[0;32mimport\u001b[0m \u001b[0mpandas\u001b[0m \u001b[0;32mas\u001b[0m \u001b[0mpd\u001b[0m\u001b[0;34m\u001b[0m\u001b[0;34m\u001b[0m\u001b[0m\n\u001b[0;32m----> 2\u001b[0;31m \u001b[0mgrades1\u001b[0m \u001b[0;34m=\u001b[0m \u001b[0mpd\u001b[0m\u001b[0;34m.\u001b[0m\u001b[0mread_csv\u001b[0m\u001b[0;34m(\u001b[0m\u001b[0;34m'dataframe1.csv'\u001b[0m\u001b[0;34m)\u001b[0m\u001b[0;34m\u001b[0m\u001b[0;34m\u001b[0m\u001b[0m\n\u001b[0m\u001b[1;32m      3\u001b[0m \u001b[0mgrades2\u001b[0m \u001b[0;34m=\u001b[0m \u001b[0mpd\u001b[0m\u001b[0;34m.\u001b[0m\u001b[0mread_excel\u001b[0m\u001b[0;34m(\u001b[0m\u001b[0;34m'dataframe1.xlsx'\u001b[0m\u001b[0;34m)\u001b[0m\u001b[0;34m\u001b[0m\u001b[0;34m\u001b[0m\u001b[0m\n\u001b[1;32m      4\u001b[0m \u001b[0mprint\u001b[0m\u001b[0;34m(\u001b[0m\u001b[0mgrades1\u001b[0m\u001b[0;34m)\u001b[0m\u001b[0;34m\u001b[0m\u001b[0;34m\u001b[0m\u001b[0m\n\u001b[1;32m      5\u001b[0m \u001b[0mprint\u001b[0m\u001b[0;34m(\u001b[0m\u001b[0mgrades2\u001b[0m\u001b[0;34m)\u001b[0m\u001b[0;34m\u001b[0m\u001b[0;34m\u001b[0m\u001b[0m\n",
            "\u001b[0;32m/usr/local/lib/python3.11/dist-packages/pandas/io/parsers/readers.py\u001b[0m in \u001b[0;36mread_csv\u001b[0;34m(filepath_or_buffer, sep, delimiter, header, names, index_col, usecols, dtype, engine, converters, true_values, false_values, skipinitialspace, skiprows, skipfooter, nrows, na_values, keep_default_na, na_filter, verbose, skip_blank_lines, parse_dates, infer_datetime_format, keep_date_col, date_parser, date_format, dayfirst, cache_dates, iterator, chunksize, compression, thousands, decimal, lineterminator, quotechar, quoting, doublequote, escapechar, comment, encoding, encoding_errors, dialect, on_bad_lines, delim_whitespace, low_memory, memory_map, float_precision, storage_options, dtype_backend)\u001b[0m\n\u001b[1;32m   1024\u001b[0m     \u001b[0mkwds\u001b[0m\u001b[0;34m.\u001b[0m\u001b[0mupdate\u001b[0m\u001b[0;34m(\u001b[0m\u001b[0mkwds_defaults\u001b[0m\u001b[0;34m)\u001b[0m\u001b[0;34m\u001b[0m\u001b[0;34m\u001b[0m\u001b[0m\n\u001b[1;32m   1025\u001b[0m \u001b[0;34m\u001b[0m\u001b[0m\n\u001b[0;32m-> 1026\u001b[0;31m     \u001b[0;32mreturn\u001b[0m \u001b[0m_read\u001b[0m\u001b[0;34m(\u001b[0m\u001b[0mfilepath_or_buffer\u001b[0m\u001b[0;34m,\u001b[0m \u001b[0mkwds\u001b[0m\u001b[0;34m)\u001b[0m\u001b[0;34m\u001b[0m\u001b[0;34m\u001b[0m\u001b[0m\n\u001b[0m\u001b[1;32m   1027\u001b[0m \u001b[0;34m\u001b[0m\u001b[0m\n\u001b[1;32m   1028\u001b[0m \u001b[0;34m\u001b[0m\u001b[0m\n",
            "\u001b[0;32m/usr/local/lib/python3.11/dist-packages/pandas/io/parsers/readers.py\u001b[0m in \u001b[0;36m_read\u001b[0;34m(filepath_or_buffer, kwds)\u001b[0m\n\u001b[1;32m    618\u001b[0m \u001b[0;34m\u001b[0m\u001b[0m\n\u001b[1;32m    619\u001b[0m     \u001b[0;31m# Create the parser.\u001b[0m\u001b[0;34m\u001b[0m\u001b[0;34m\u001b[0m\u001b[0m\n\u001b[0;32m--> 620\u001b[0;31m     \u001b[0mparser\u001b[0m \u001b[0;34m=\u001b[0m \u001b[0mTextFileReader\u001b[0m\u001b[0;34m(\u001b[0m\u001b[0mfilepath_or_buffer\u001b[0m\u001b[0;34m,\u001b[0m \u001b[0;34m**\u001b[0m\u001b[0mkwds\u001b[0m\u001b[0;34m)\u001b[0m\u001b[0;34m\u001b[0m\u001b[0;34m\u001b[0m\u001b[0m\n\u001b[0m\u001b[1;32m    621\u001b[0m \u001b[0;34m\u001b[0m\u001b[0m\n\u001b[1;32m    622\u001b[0m     \u001b[0;32mif\u001b[0m \u001b[0mchunksize\u001b[0m \u001b[0;32mor\u001b[0m \u001b[0miterator\u001b[0m\u001b[0;34m:\u001b[0m\u001b[0;34m\u001b[0m\u001b[0;34m\u001b[0m\u001b[0m\n",
            "\u001b[0;32m/usr/local/lib/python3.11/dist-packages/pandas/io/parsers/readers.py\u001b[0m in \u001b[0;36m__init__\u001b[0;34m(self, f, engine, **kwds)\u001b[0m\n\u001b[1;32m   1618\u001b[0m \u001b[0;34m\u001b[0m\u001b[0m\n\u001b[1;32m   1619\u001b[0m         \u001b[0mself\u001b[0m\u001b[0;34m.\u001b[0m\u001b[0mhandles\u001b[0m\u001b[0;34m:\u001b[0m \u001b[0mIOHandles\u001b[0m \u001b[0;34m|\u001b[0m \u001b[0;32mNone\u001b[0m \u001b[0;34m=\u001b[0m \u001b[0;32mNone\u001b[0m\u001b[0;34m\u001b[0m\u001b[0;34m\u001b[0m\u001b[0m\n\u001b[0;32m-> 1620\u001b[0;31m         \u001b[0mself\u001b[0m\u001b[0;34m.\u001b[0m\u001b[0m_engine\u001b[0m \u001b[0;34m=\u001b[0m \u001b[0mself\u001b[0m\u001b[0;34m.\u001b[0m\u001b[0m_make_engine\u001b[0m\u001b[0;34m(\u001b[0m\u001b[0mf\u001b[0m\u001b[0;34m,\u001b[0m \u001b[0mself\u001b[0m\u001b[0;34m.\u001b[0m\u001b[0mengine\u001b[0m\u001b[0;34m)\u001b[0m\u001b[0;34m\u001b[0m\u001b[0;34m\u001b[0m\u001b[0m\n\u001b[0m\u001b[1;32m   1621\u001b[0m \u001b[0;34m\u001b[0m\u001b[0m\n\u001b[1;32m   1622\u001b[0m     \u001b[0;32mdef\u001b[0m \u001b[0mclose\u001b[0m\u001b[0;34m(\u001b[0m\u001b[0mself\u001b[0m\u001b[0;34m)\u001b[0m \u001b[0;34m->\u001b[0m \u001b[0;32mNone\u001b[0m\u001b[0;34m:\u001b[0m\u001b[0;34m\u001b[0m\u001b[0;34m\u001b[0m\u001b[0m\n",
            "\u001b[0;32m/usr/local/lib/python3.11/dist-packages/pandas/io/parsers/readers.py\u001b[0m in \u001b[0;36m_make_engine\u001b[0;34m(self, f, engine)\u001b[0m\n\u001b[1;32m   1878\u001b[0m                 \u001b[0;32mif\u001b[0m \u001b[0;34m\"b\"\u001b[0m \u001b[0;32mnot\u001b[0m \u001b[0;32min\u001b[0m \u001b[0mmode\u001b[0m\u001b[0;34m:\u001b[0m\u001b[0;34m\u001b[0m\u001b[0;34m\u001b[0m\u001b[0m\n\u001b[1;32m   1879\u001b[0m                     \u001b[0mmode\u001b[0m \u001b[0;34m+=\u001b[0m \u001b[0;34m\"b\"\u001b[0m\u001b[0;34m\u001b[0m\u001b[0;34m\u001b[0m\u001b[0m\n\u001b[0;32m-> 1880\u001b[0;31m             self.handles = get_handle(\n\u001b[0m\u001b[1;32m   1881\u001b[0m                 \u001b[0mf\u001b[0m\u001b[0;34m,\u001b[0m\u001b[0;34m\u001b[0m\u001b[0;34m\u001b[0m\u001b[0m\n\u001b[1;32m   1882\u001b[0m                 \u001b[0mmode\u001b[0m\u001b[0;34m,\u001b[0m\u001b[0;34m\u001b[0m\u001b[0;34m\u001b[0m\u001b[0m\n",
            "\u001b[0;32m/usr/local/lib/python3.11/dist-packages/pandas/io/common.py\u001b[0m in \u001b[0;36mget_handle\u001b[0;34m(path_or_buf, mode, encoding, compression, memory_map, is_text, errors, storage_options)\u001b[0m\n\u001b[1;32m    871\u001b[0m         \u001b[0;32mif\u001b[0m \u001b[0mioargs\u001b[0m\u001b[0;34m.\u001b[0m\u001b[0mencoding\u001b[0m \u001b[0;32mand\u001b[0m \u001b[0;34m\"b\"\u001b[0m \u001b[0;32mnot\u001b[0m \u001b[0;32min\u001b[0m \u001b[0mioargs\u001b[0m\u001b[0;34m.\u001b[0m\u001b[0mmode\u001b[0m\u001b[0;34m:\u001b[0m\u001b[0;34m\u001b[0m\u001b[0;34m\u001b[0m\u001b[0m\n\u001b[1;32m    872\u001b[0m             \u001b[0;31m# Encoding\u001b[0m\u001b[0;34m\u001b[0m\u001b[0;34m\u001b[0m\u001b[0m\n\u001b[0;32m--> 873\u001b[0;31m             handle = open(\n\u001b[0m\u001b[1;32m    874\u001b[0m                 \u001b[0mhandle\u001b[0m\u001b[0;34m,\u001b[0m\u001b[0;34m\u001b[0m\u001b[0;34m\u001b[0m\u001b[0m\n\u001b[1;32m    875\u001b[0m                 \u001b[0mioargs\u001b[0m\u001b[0;34m.\u001b[0m\u001b[0mmode\u001b[0m\u001b[0;34m,\u001b[0m\u001b[0;34m\u001b[0m\u001b[0;34m\u001b[0m\u001b[0m\n",
            "\u001b[0;31mFileNotFoundError\u001b[0m: [Errno 2] No such file or directory: 'dataframe1.csv'"
          ]
        }
      ]
    },
    {
      "cell_type": "code",
      "source": [
        "import pandas as pd\n",
        "w = pd.Series({'a':1 ,'b':2 ,'c':3 ,'d':4 ,'e':5})\n",
        "x = pd.Series({'a':6 ,'b':7 ,'c':8 ,'d':9 ,'e':10})\n",
        "y = pd.Series({'a':11 ,'b':12 ,'c':13 ,'d':14 ,'e':15})\n",
        "z = pd.Series({'a':16 ,'b':17 ,'c':18 ,'d':19 ,'e':20})\n",
        "grades = pd.DataFrame({'Math':w,'Physics':x,'French':y,'Chemistry':z})\n",
        "print(grades)\n",
        "grades.to_csv('dataframe1.csv')"
      ],
      "metadata": {
        "colab": {
          "base_uri": "https://localhost:8080/"
        },
        "id": "vBFtymrwv4X5",
        "outputId": "a5457e82-6991-48ed-d2c3-edd01042c795"
      },
      "execution_count": null,
      "outputs": [
        {
          "output_type": "stream",
          "name": "stdout",
          "text": [
            "   Math  Physics  French  Chemistry\n",
            "a     1        6      11         16\n",
            "b     2        7      12         17\n",
            "c     3        8      13         18\n",
            "d     4        9      14         19\n",
            "e     5       10      15         20\n"
          ]
        }
      ]
    },
    {
      "cell_type": "code",
      "source": [
        "w = pd.Series({'a':1 ,'b':2 ,'c':3 ,'d':4 ,'e':5})\n",
        "x = pd.Series({'a':6 ,'b':7 ,'c':8 ,'d':9 ,'e':10})\n",
        "y = pd.Series({'a':11 ,'b':12 ,'c':13 ,'d':14 ,'e':15})\n",
        "z = pd.Series({'a':16 ,'b':17 ,'c':18 ,'d':19 ,'e':20})\n",
        "grades = pd.DataFrame({'Math':w,'Physics':x,'French':y,'Chemistry':z})\n",
        "print(grades)\n",
        "grades.to_excel('dataframe1.xlsx',sheet_name ='Sheet1')"
      ],
      "metadata": {
        "colab": {
          "base_uri": "https://localhost:8080/"
        },
        "id": "E6_lYZAowF8x",
        "outputId": "c706a7d0-e895-4f36-8620-fb0d27e107f8"
      },
      "execution_count": null,
      "outputs": [
        {
          "output_type": "stream",
          "name": "stdout",
          "text": [
            "   Math  Physics  French  Chemistry\n",
            "a     1        6      11         16\n",
            "b     2        7      12         17\n",
            "c     3        8      13         18\n",
            "d     4        9      14         19\n",
            "e     5       10      15         20\n"
          ]
        }
      ]
    },
    {
      "cell_type": "code",
      "source": [
        "import pandas as pd\n",
        "filename= \"/content/sample_data/Breast_cancer_dataset.csv\"\n",
        "names = ['preg', 'plas', 'pres', 'skin', 'test', 'mass', 'pedi', 'age', 'class']\n",
        "df = pd.read_csv(filename, names = names)\n",
        "# df.head(10)\n",
        "description = data.describe()"
      ],
      "metadata": {
        "colab": {
          "base_uri": "https://localhost:8080/",
          "height": 356
        },
        "id": "AFcmMP04wTRE",
        "outputId": "74eb6efc-2f38-453d-a3a0-da194b8df82b"
      },
      "execution_count": null,
      "outputs": [
        {
          "output_type": "error",
          "ename": "FileNotFoundError",
          "evalue": "[Errno 2] No such file or directory: '/content/sample_data/Breast_cancer_dataset.csv'",
          "traceback": [
            "\u001b[0;31m---------------------------------------------------------------------------\u001b[0m",
            "\u001b[0;31mFileNotFoundError\u001b[0m                         Traceback (most recent call last)",
            "\u001b[0;32m/tmp/ipython-input-2050598995.py\u001b[0m in \u001b[0;36m<cell line: 0>\u001b[0;34m()\u001b[0m\n\u001b[1;32m      2\u001b[0m \u001b[0mfilename\u001b[0m\u001b[0;34m=\u001b[0m \u001b[0;34m\"/content/sample_data/Breast_cancer_dataset.csv\"\u001b[0m\u001b[0;34m\u001b[0m\u001b[0;34m\u001b[0m\u001b[0m\n\u001b[1;32m      3\u001b[0m \u001b[0mnames\u001b[0m \u001b[0;34m=\u001b[0m \u001b[0;34m[\u001b[0m\u001b[0;34m'preg'\u001b[0m\u001b[0;34m,\u001b[0m \u001b[0;34m'plas'\u001b[0m\u001b[0;34m,\u001b[0m \u001b[0;34m'pres'\u001b[0m\u001b[0;34m,\u001b[0m \u001b[0;34m'skin'\u001b[0m\u001b[0;34m,\u001b[0m \u001b[0;34m'test'\u001b[0m\u001b[0;34m,\u001b[0m \u001b[0;34m'mass'\u001b[0m\u001b[0;34m,\u001b[0m \u001b[0;34m'pedi'\u001b[0m\u001b[0;34m,\u001b[0m \u001b[0;34m'age'\u001b[0m\u001b[0;34m,\u001b[0m \u001b[0;34m'class'\u001b[0m\u001b[0;34m]\u001b[0m\u001b[0;34m\u001b[0m\u001b[0;34m\u001b[0m\u001b[0m\n\u001b[0;32m----> 4\u001b[0;31m \u001b[0mdf\u001b[0m \u001b[0;34m=\u001b[0m \u001b[0mpd\u001b[0m\u001b[0;34m.\u001b[0m\u001b[0mread_csv\u001b[0m\u001b[0;34m(\u001b[0m\u001b[0mfilename\u001b[0m\u001b[0;34m,\u001b[0m \u001b[0mnames\u001b[0m \u001b[0;34m=\u001b[0m \u001b[0mnames\u001b[0m\u001b[0;34m)\u001b[0m\u001b[0;34m\u001b[0m\u001b[0;34m\u001b[0m\u001b[0m\n\u001b[0m\u001b[1;32m      5\u001b[0m \u001b[0;31m# df.head(10)\u001b[0m\u001b[0;34m\u001b[0m\u001b[0;34m\u001b[0m\u001b[0m\n\u001b[1;32m      6\u001b[0m \u001b[0mdescription\u001b[0m \u001b[0;34m=\u001b[0m \u001b[0mdata\u001b[0m\u001b[0;34m.\u001b[0m\u001b[0mdescribe\u001b[0m\u001b[0;34m(\u001b[0m\u001b[0;34m)\u001b[0m\u001b[0;34m\u001b[0m\u001b[0;34m\u001b[0m\u001b[0m\n",
            "\u001b[0;32m/usr/local/lib/python3.11/dist-packages/pandas/io/parsers/readers.py\u001b[0m in \u001b[0;36mread_csv\u001b[0;34m(filepath_or_buffer, sep, delimiter, header, names, index_col, usecols, dtype, engine, converters, true_values, false_values, skipinitialspace, skiprows, skipfooter, nrows, na_values, keep_default_na, na_filter, verbose, skip_blank_lines, parse_dates, infer_datetime_format, keep_date_col, date_parser, date_format, dayfirst, cache_dates, iterator, chunksize, compression, thousands, decimal, lineterminator, quotechar, quoting, doublequote, escapechar, comment, encoding, encoding_errors, dialect, on_bad_lines, delim_whitespace, low_memory, memory_map, float_precision, storage_options, dtype_backend)\u001b[0m\n\u001b[1;32m   1024\u001b[0m     \u001b[0mkwds\u001b[0m\u001b[0;34m.\u001b[0m\u001b[0mupdate\u001b[0m\u001b[0;34m(\u001b[0m\u001b[0mkwds_defaults\u001b[0m\u001b[0;34m)\u001b[0m\u001b[0;34m\u001b[0m\u001b[0;34m\u001b[0m\u001b[0m\n\u001b[1;32m   1025\u001b[0m \u001b[0;34m\u001b[0m\u001b[0m\n\u001b[0;32m-> 1026\u001b[0;31m     \u001b[0;32mreturn\u001b[0m \u001b[0m_read\u001b[0m\u001b[0;34m(\u001b[0m\u001b[0mfilepath_or_buffer\u001b[0m\u001b[0;34m,\u001b[0m \u001b[0mkwds\u001b[0m\u001b[0;34m)\u001b[0m\u001b[0;34m\u001b[0m\u001b[0;34m\u001b[0m\u001b[0m\n\u001b[0m\u001b[1;32m   1027\u001b[0m \u001b[0;34m\u001b[0m\u001b[0m\n\u001b[1;32m   1028\u001b[0m \u001b[0;34m\u001b[0m\u001b[0m\n",
            "\u001b[0;32m/usr/local/lib/python3.11/dist-packages/pandas/io/parsers/readers.py\u001b[0m in \u001b[0;36m_read\u001b[0;34m(filepath_or_buffer, kwds)\u001b[0m\n\u001b[1;32m    618\u001b[0m \u001b[0;34m\u001b[0m\u001b[0m\n\u001b[1;32m    619\u001b[0m     \u001b[0;31m# Create the parser.\u001b[0m\u001b[0;34m\u001b[0m\u001b[0;34m\u001b[0m\u001b[0m\n\u001b[0;32m--> 620\u001b[0;31m     \u001b[0mparser\u001b[0m \u001b[0;34m=\u001b[0m \u001b[0mTextFileReader\u001b[0m\u001b[0;34m(\u001b[0m\u001b[0mfilepath_or_buffer\u001b[0m\u001b[0;34m,\u001b[0m \u001b[0;34m**\u001b[0m\u001b[0mkwds\u001b[0m\u001b[0;34m)\u001b[0m\u001b[0;34m\u001b[0m\u001b[0;34m\u001b[0m\u001b[0m\n\u001b[0m\u001b[1;32m    621\u001b[0m \u001b[0;34m\u001b[0m\u001b[0m\n\u001b[1;32m    622\u001b[0m     \u001b[0;32mif\u001b[0m \u001b[0mchunksize\u001b[0m \u001b[0;32mor\u001b[0m \u001b[0miterator\u001b[0m\u001b[0;34m:\u001b[0m\u001b[0;34m\u001b[0m\u001b[0;34m\u001b[0m\u001b[0m\n",
            "\u001b[0;32m/usr/local/lib/python3.11/dist-packages/pandas/io/parsers/readers.py\u001b[0m in \u001b[0;36m__init__\u001b[0;34m(self, f, engine, **kwds)\u001b[0m\n\u001b[1;32m   1618\u001b[0m \u001b[0;34m\u001b[0m\u001b[0m\n\u001b[1;32m   1619\u001b[0m         \u001b[0mself\u001b[0m\u001b[0;34m.\u001b[0m\u001b[0mhandles\u001b[0m\u001b[0;34m:\u001b[0m \u001b[0mIOHandles\u001b[0m \u001b[0;34m|\u001b[0m \u001b[0;32mNone\u001b[0m \u001b[0;34m=\u001b[0m \u001b[0;32mNone\u001b[0m\u001b[0;34m\u001b[0m\u001b[0;34m\u001b[0m\u001b[0m\n\u001b[0;32m-> 1620\u001b[0;31m         \u001b[0mself\u001b[0m\u001b[0;34m.\u001b[0m\u001b[0m_engine\u001b[0m \u001b[0;34m=\u001b[0m \u001b[0mself\u001b[0m\u001b[0;34m.\u001b[0m\u001b[0m_make_engine\u001b[0m\u001b[0;34m(\u001b[0m\u001b[0mf\u001b[0m\u001b[0;34m,\u001b[0m \u001b[0mself\u001b[0m\u001b[0;34m.\u001b[0m\u001b[0mengine\u001b[0m\u001b[0;34m)\u001b[0m\u001b[0;34m\u001b[0m\u001b[0;34m\u001b[0m\u001b[0m\n\u001b[0m\u001b[1;32m   1621\u001b[0m \u001b[0;34m\u001b[0m\u001b[0m\n\u001b[1;32m   1622\u001b[0m     \u001b[0;32mdef\u001b[0m \u001b[0mclose\u001b[0m\u001b[0;34m(\u001b[0m\u001b[0mself\u001b[0m\u001b[0;34m)\u001b[0m \u001b[0;34m->\u001b[0m \u001b[0;32mNone\u001b[0m\u001b[0;34m:\u001b[0m\u001b[0;34m\u001b[0m\u001b[0;34m\u001b[0m\u001b[0m\n",
            "\u001b[0;32m/usr/local/lib/python3.11/dist-packages/pandas/io/parsers/readers.py\u001b[0m in \u001b[0;36m_make_engine\u001b[0;34m(self, f, engine)\u001b[0m\n\u001b[1;32m   1878\u001b[0m                 \u001b[0;32mif\u001b[0m \u001b[0;34m\"b\"\u001b[0m \u001b[0;32mnot\u001b[0m \u001b[0;32min\u001b[0m \u001b[0mmode\u001b[0m\u001b[0;34m:\u001b[0m\u001b[0;34m\u001b[0m\u001b[0;34m\u001b[0m\u001b[0m\n\u001b[1;32m   1879\u001b[0m                     \u001b[0mmode\u001b[0m \u001b[0;34m+=\u001b[0m \u001b[0;34m\"b\"\u001b[0m\u001b[0;34m\u001b[0m\u001b[0;34m\u001b[0m\u001b[0m\n\u001b[0;32m-> 1880\u001b[0;31m             self.handles = get_handle(\n\u001b[0m\u001b[1;32m   1881\u001b[0m                 \u001b[0mf\u001b[0m\u001b[0;34m,\u001b[0m\u001b[0;34m\u001b[0m\u001b[0;34m\u001b[0m\u001b[0m\n\u001b[1;32m   1882\u001b[0m                 \u001b[0mmode\u001b[0m\u001b[0;34m,\u001b[0m\u001b[0;34m\u001b[0m\u001b[0;34m\u001b[0m\u001b[0m\n",
            "\u001b[0;32m/usr/local/lib/python3.11/dist-packages/pandas/io/common.py\u001b[0m in \u001b[0;36mget_handle\u001b[0;34m(path_or_buf, mode, encoding, compression, memory_map, is_text, errors, storage_options)\u001b[0m\n\u001b[1;32m    871\u001b[0m         \u001b[0;32mif\u001b[0m \u001b[0mioargs\u001b[0m\u001b[0;34m.\u001b[0m\u001b[0mencoding\u001b[0m \u001b[0;32mand\u001b[0m \u001b[0;34m\"b\"\u001b[0m \u001b[0;32mnot\u001b[0m \u001b[0;32min\u001b[0m \u001b[0mioargs\u001b[0m\u001b[0;34m.\u001b[0m\u001b[0mmode\u001b[0m\u001b[0;34m:\u001b[0m\u001b[0;34m\u001b[0m\u001b[0;34m\u001b[0m\u001b[0m\n\u001b[1;32m    872\u001b[0m             \u001b[0;31m# Encoding\u001b[0m\u001b[0;34m\u001b[0m\u001b[0;34m\u001b[0m\u001b[0m\n\u001b[0;32m--> 873\u001b[0;31m             handle = open(\n\u001b[0m\u001b[1;32m    874\u001b[0m                 \u001b[0mhandle\u001b[0m\u001b[0;34m,\u001b[0m\u001b[0;34m\u001b[0m\u001b[0;34m\u001b[0m\u001b[0m\n\u001b[1;32m    875\u001b[0m                 \u001b[0mioargs\u001b[0m\u001b[0;34m.\u001b[0m\u001b[0mmode\u001b[0m\u001b[0;34m,\u001b[0m\u001b[0;34m\u001b[0m\u001b[0;34m\u001b[0m\u001b[0m\n",
            "\u001b[0;31mFileNotFoundError\u001b[0m: [Errno 2] No such file or directory: '/content/sample_data/Breast_cancer_dataset.csv'"
          ]
        }
      ]
    },
    {
      "cell_type": "code",
      "source": [
        "import pandas as pd\n",
        "filename= \"/content/sample_data/Breast_cancer_dataset.csv\"\n",
        "df = pd.read_csv(filename)\n",
        "print(df)"
      ],
      "metadata": {
        "colab": {
          "base_uri": "https://localhost:8080/"
        },
        "id": "W0ZJl8yAQp90",
        "outputId": "e6e496a1-614e-4238-ba2c-6f9d3f6581cf"
      },
      "execution_count": null,
      "outputs": [
        {
          "output_type": "stream",
          "name": "stdout",
          "text": [
            "           id diagnosis  radius_mean  texture_mean  perimeter_mean  area_mean  \\\n",
            "0      842302         M        17.99         10.38          122.80     1001.0   \n",
            "1      842517         M        20.57         17.77          132.90     1326.0   \n",
            "2    84300903         M        19.69         21.25          130.00     1203.0   \n",
            "3    84348301         M        11.42         20.38           77.58      386.1   \n",
            "4    84358402         M        20.29         14.34          135.10     1297.0   \n",
            "..        ...       ...          ...           ...             ...        ...   \n",
            "564    926424         M        21.56         22.39          142.00     1479.0   \n",
            "565    926682         M        20.13         28.25          131.20     1261.0   \n",
            "566    926954         M        16.60         28.08          108.30      858.1   \n",
            "567    927241         M        20.60         29.33          140.10     1265.0   \n",
            "568     92751         B         7.76         24.54           47.92      181.0   \n",
            "\n",
            "     smoothness_mean  compactness_mean  concavity_mean  concave points_mean  \\\n",
            "0            0.11840           0.27760         0.30010              0.14710   \n",
            "1            0.08474           0.07864         0.08690              0.07017   \n",
            "2            0.10960           0.15990         0.19740              0.12790   \n",
            "3            0.14250           0.28390         0.24140              0.10520   \n",
            "4            0.10030           0.13280         0.19800              0.10430   \n",
            "..               ...               ...             ...                  ...   \n",
            "564          0.11100           0.11590         0.24390              0.13890   \n",
            "565          0.09780           0.10340         0.14400              0.09791   \n",
            "566          0.08455           0.10230         0.09251              0.05302   \n",
            "567          0.11780           0.27700         0.35140              0.15200   \n",
            "568          0.05263           0.04362         0.00000              0.00000   \n",
            "\n",
            "     ...  texture_worst  perimeter_worst  area_worst  smoothness_worst  \\\n",
            "0    ...          17.33           184.60      2019.0           0.16220   \n",
            "1    ...          23.41           158.80      1956.0           0.12380   \n",
            "2    ...          25.53           152.50      1709.0           0.14440   \n",
            "3    ...          26.50            98.87       567.7           0.20980   \n",
            "4    ...          16.67           152.20      1575.0           0.13740   \n",
            "..   ...            ...              ...         ...               ...   \n",
            "564  ...          26.40           166.10      2027.0           0.14100   \n",
            "565  ...          38.25           155.00      1731.0           0.11660   \n",
            "566  ...          34.12           126.70      1124.0           0.11390   \n",
            "567  ...          39.42           184.60      1821.0           0.16500   \n",
            "568  ...          30.37            59.16       268.6           0.08996   \n",
            "\n",
            "     compactness_worst  concavity_worst  concave points_worst  symmetry_worst  \\\n",
            "0              0.66560           0.7119                0.2654          0.4601   \n",
            "1              0.18660           0.2416                0.1860          0.2750   \n",
            "2              0.42450           0.4504                0.2430          0.3613   \n",
            "3              0.86630           0.6869                0.2575          0.6638   \n",
            "4              0.20500           0.4000                0.1625          0.2364   \n",
            "..                 ...              ...                   ...             ...   \n",
            "564            0.21130           0.4107                0.2216          0.2060   \n",
            "565            0.19220           0.3215                0.1628          0.2572   \n",
            "566            0.30940           0.3403                0.1418          0.2218   \n",
            "567            0.86810           0.9387                0.2650          0.4087   \n",
            "568            0.06444           0.0000                0.0000          0.2871   \n",
            "\n",
            "     fractal_dimension_worst  Unnamed: 32  \n",
            "0                    0.11890          NaN  \n",
            "1                    0.08902          NaN  \n",
            "2                    0.08758          NaN  \n",
            "3                    0.17300          NaN  \n",
            "4                    0.07678          NaN  \n",
            "..                       ...          ...  \n",
            "564                  0.07115          NaN  \n",
            "565                  0.06637          NaN  \n",
            "566                  0.07820          NaN  \n",
            "567                  0.12400          NaN  \n",
            "568                  0.07039          NaN  \n",
            "\n",
            "[569 rows x 33 columns]\n"
          ]
        }
      ]
    },
    {
      "cell_type": "code",
      "source": [
        "from google.colab import drive\n",
        "drive.mount('/content/drive')"
      ],
      "metadata": {
        "id": "KgeVGMacQ5_c"
      },
      "execution_count": null,
      "outputs": []
    },
    {
      "cell_type": "markdown",
      "source": [
        "# New Section"
      ],
      "metadata": {
        "id": "C0Iz_-YARBtl"
      }
    }
  ]
}